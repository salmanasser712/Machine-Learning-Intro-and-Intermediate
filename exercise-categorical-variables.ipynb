{
 "cells": [
  {
   "cell_type": "markdown",
   "id": "faa5749e",
   "metadata": {
    "papermill": {
     "duration": 0.012099,
     "end_time": "2022-06-28T21:20:36.692115",
     "exception": false,
     "start_time": "2022-06-28T21:20:36.680016",
     "status": "completed"
    },
    "tags": []
   },
   "source": [
    "**This notebook is an exercise in the [Intermediate Machine Learning](https://www.kaggle.com/learn/intermediate-machine-learning) course.  You can reference the tutorial at [this link](https://www.kaggle.com/alexisbcook/categorical-variables).**\n",
    "\n",
    "---\n"
   ]
  },
  {
   "cell_type": "markdown",
   "id": "55ec7c48",
   "metadata": {
    "papermill": {
     "duration": 0.010785,
     "end_time": "2022-06-28T21:20:36.713858",
     "exception": false,
     "start_time": "2022-06-28T21:20:36.703073",
     "status": "completed"
    },
    "tags": []
   },
   "source": [
    "By encoding **categorical variables**, you'll obtain your best results thus far!\n",
    "\n",
    "# Setup\n",
    "\n",
    "The questions below will give you feedback on your work. Run the following cell to set up the feedback system."
   ]
  },
  {
   "cell_type": "code",
   "execution_count": 1,
   "id": "72b08fc1",
   "metadata": {
    "execution": {
     "iopub.execute_input": "2022-06-28T21:20:36.737651Z",
     "iopub.status.busy": "2022-06-28T21:20:36.737200Z",
     "iopub.status.idle": "2022-06-28T21:20:36.799330Z",
     "shell.execute_reply": "2022-06-28T21:20:36.798532Z"
    },
    "papermill": {
     "duration": 0.077246,
     "end_time": "2022-06-28T21:20:36.802070",
     "exception": false,
     "start_time": "2022-06-28T21:20:36.724824",
     "status": "completed"
    },
    "tags": []
   },
   "outputs": [
    {
     "name": "stdout",
     "output_type": "stream",
     "text": [
      "Setup Complete\n"
     ]
    }
   ],
   "source": [
    "# Set up code checking\n",
    "import os\n",
    "if not os.path.exists(\"../input/train.csv\"):\n",
    "    os.symlink(\"../input/home-data-for-ml-course/train.csv\", \"../input/train.csv\")  \n",
    "    os.symlink(\"../input/home-data-for-ml-course/test.csv\", \"../input/test.csv\") \n",
    "from learntools.core import binder\n",
    "binder.bind(globals())\n",
    "from learntools.ml_intermediate.ex3 import *\n",
    "print(\"Setup Complete\")"
   ]
  },
  {
   "cell_type": "markdown",
   "id": "bd357b53",
   "metadata": {
    "papermill": {
     "duration": 0.010649,
     "end_time": "2022-06-28T21:20:36.823545",
     "exception": false,
     "start_time": "2022-06-28T21:20:36.812896",
     "status": "completed"
    },
    "tags": []
   },
   "source": [
    "In this exercise, you will work with data from the [Housing Prices Competition for Kaggle Learn Users](https://www.kaggle.com/c/home-data-for-ml-course). \n",
    "\n",
    "![Ames Housing dataset image](https://i.imgur.com/lTJVG4e.png)\n",
    "\n",
    "Run the next code cell without changes to load the training and validation sets in `X_train`, `X_valid`, `y_train`, and `y_valid`.  The test set is loaded in `X_test`."
   ]
  },
  {
   "cell_type": "code",
   "execution_count": 2,
   "id": "2e75e079",
   "metadata": {
    "execution": {
     "iopub.execute_input": "2022-06-28T21:20:36.847098Z",
     "iopub.status.busy": "2022-06-28T21:20:36.846622Z",
     "iopub.status.idle": "2022-06-28T21:20:38.165457Z",
     "shell.execute_reply": "2022-06-28T21:20:38.164297Z"
    },
    "papermill": {
     "duration": 1.334216,
     "end_time": "2022-06-28T21:20:38.168527",
     "exception": false,
     "start_time": "2022-06-28T21:20:36.834311",
     "status": "completed"
    },
    "tags": []
   },
   "outputs": [],
   "source": [
    "import pandas as pd\n",
    "from sklearn.model_selection import train_test_split\n",
    "\n",
    "# Read the data\n",
    "X = pd.read_csv('../input/train.csv', index_col='Id') \n",
    "X_test = pd.read_csv('../input/test.csv', index_col='Id')\n",
    "\n",
    "# Remove rows with missing target, separate target from predictors\n",
    "X.dropna(axis=0, subset=['SalePrice'], inplace=True)\n",
    "y = X.SalePrice\n",
    "X.drop(['SalePrice'], axis=1, inplace=True)\n",
    "\n",
    "# To keep things simple, we'll drop columns with missing values\n",
    "cols_with_missing = [col for col in X.columns if X[col].isnull().any()] \n",
    "X.drop(cols_with_missing, axis=1, inplace=True)\n",
    "X_test.drop(cols_with_missing, axis=1, inplace=True)\n",
    "\n",
    "# Break off validation set from training data\n",
    "X_train, X_valid, y_train, y_valid = train_test_split(X, y,\n",
    "                                                      train_size=0.8, test_size=0.2,\n",
    "                                                      random_state=0)"
   ]
  },
  {
   "cell_type": "markdown",
   "id": "6b124155",
   "metadata": {
    "papermill": {
     "duration": 0.010827,
     "end_time": "2022-06-28T21:20:38.190158",
     "exception": false,
     "start_time": "2022-06-28T21:20:38.179331",
     "status": "completed"
    },
    "tags": []
   },
   "source": [
    "Use the next code cell to print the first five rows of the data."
   ]
  },
  {
   "cell_type": "code",
   "execution_count": 3,
   "id": "f978189b",
   "metadata": {
    "execution": {
     "iopub.execute_input": "2022-06-28T21:20:38.213767Z",
     "iopub.status.busy": "2022-06-28T21:20:38.213366Z",
     "iopub.status.idle": "2022-06-28T21:20:38.242259Z",
     "shell.execute_reply": "2022-06-28T21:20:38.241068Z"
    },
    "papermill": {
     "duration": 0.043608,
     "end_time": "2022-06-28T21:20:38.244676",
     "exception": false,
     "start_time": "2022-06-28T21:20:38.201068",
     "status": "completed"
    },
    "tags": []
   },
   "outputs": [
    {
     "data": {
      "text/html": [
       "<div>\n",
       "<style scoped>\n",
       "    .dataframe tbody tr th:only-of-type {\n",
       "        vertical-align: middle;\n",
       "    }\n",
       "\n",
       "    .dataframe tbody tr th {\n",
       "        vertical-align: top;\n",
       "    }\n",
       "\n",
       "    .dataframe thead th {\n",
       "        text-align: right;\n",
       "    }\n",
       "</style>\n",
       "<table border=\"1\" class=\"dataframe\">\n",
       "  <thead>\n",
       "    <tr style=\"text-align: right;\">\n",
       "      <th></th>\n",
       "      <th>MSSubClass</th>\n",
       "      <th>MSZoning</th>\n",
       "      <th>LotArea</th>\n",
       "      <th>Street</th>\n",
       "      <th>LotShape</th>\n",
       "      <th>LandContour</th>\n",
       "      <th>Utilities</th>\n",
       "      <th>LotConfig</th>\n",
       "      <th>LandSlope</th>\n",
       "      <th>Neighborhood</th>\n",
       "      <th>...</th>\n",
       "      <th>OpenPorchSF</th>\n",
       "      <th>EnclosedPorch</th>\n",
       "      <th>3SsnPorch</th>\n",
       "      <th>ScreenPorch</th>\n",
       "      <th>PoolArea</th>\n",
       "      <th>MiscVal</th>\n",
       "      <th>MoSold</th>\n",
       "      <th>YrSold</th>\n",
       "      <th>SaleType</th>\n",
       "      <th>SaleCondition</th>\n",
       "    </tr>\n",
       "    <tr>\n",
       "      <th>Id</th>\n",
       "      <th></th>\n",
       "      <th></th>\n",
       "      <th></th>\n",
       "      <th></th>\n",
       "      <th></th>\n",
       "      <th></th>\n",
       "      <th></th>\n",
       "      <th></th>\n",
       "      <th></th>\n",
       "      <th></th>\n",
       "      <th></th>\n",
       "      <th></th>\n",
       "      <th></th>\n",
       "      <th></th>\n",
       "      <th></th>\n",
       "      <th></th>\n",
       "      <th></th>\n",
       "      <th></th>\n",
       "      <th></th>\n",
       "      <th></th>\n",
       "      <th></th>\n",
       "    </tr>\n",
       "  </thead>\n",
       "  <tbody>\n",
       "    <tr>\n",
       "      <th>619</th>\n",
       "      <td>20</td>\n",
       "      <td>RL</td>\n",
       "      <td>11694</td>\n",
       "      <td>Pave</td>\n",
       "      <td>Reg</td>\n",
       "      <td>Lvl</td>\n",
       "      <td>AllPub</td>\n",
       "      <td>Inside</td>\n",
       "      <td>Gtl</td>\n",
       "      <td>NridgHt</td>\n",
       "      <td>...</td>\n",
       "      <td>108</td>\n",
       "      <td>0</td>\n",
       "      <td>0</td>\n",
       "      <td>260</td>\n",
       "      <td>0</td>\n",
       "      <td>0</td>\n",
       "      <td>7</td>\n",
       "      <td>2007</td>\n",
       "      <td>New</td>\n",
       "      <td>Partial</td>\n",
       "    </tr>\n",
       "    <tr>\n",
       "      <th>871</th>\n",
       "      <td>20</td>\n",
       "      <td>RL</td>\n",
       "      <td>6600</td>\n",
       "      <td>Pave</td>\n",
       "      <td>Reg</td>\n",
       "      <td>Lvl</td>\n",
       "      <td>AllPub</td>\n",
       "      <td>Inside</td>\n",
       "      <td>Gtl</td>\n",
       "      <td>NAmes</td>\n",
       "      <td>...</td>\n",
       "      <td>0</td>\n",
       "      <td>0</td>\n",
       "      <td>0</td>\n",
       "      <td>0</td>\n",
       "      <td>0</td>\n",
       "      <td>0</td>\n",
       "      <td>8</td>\n",
       "      <td>2009</td>\n",
       "      <td>WD</td>\n",
       "      <td>Normal</td>\n",
       "    </tr>\n",
       "    <tr>\n",
       "      <th>93</th>\n",
       "      <td>30</td>\n",
       "      <td>RL</td>\n",
       "      <td>13360</td>\n",
       "      <td>Pave</td>\n",
       "      <td>IR1</td>\n",
       "      <td>HLS</td>\n",
       "      <td>AllPub</td>\n",
       "      <td>Inside</td>\n",
       "      <td>Gtl</td>\n",
       "      <td>Crawfor</td>\n",
       "      <td>...</td>\n",
       "      <td>0</td>\n",
       "      <td>44</td>\n",
       "      <td>0</td>\n",
       "      <td>0</td>\n",
       "      <td>0</td>\n",
       "      <td>0</td>\n",
       "      <td>8</td>\n",
       "      <td>2009</td>\n",
       "      <td>WD</td>\n",
       "      <td>Normal</td>\n",
       "    </tr>\n",
       "    <tr>\n",
       "      <th>818</th>\n",
       "      <td>20</td>\n",
       "      <td>RL</td>\n",
       "      <td>13265</td>\n",
       "      <td>Pave</td>\n",
       "      <td>IR1</td>\n",
       "      <td>Lvl</td>\n",
       "      <td>AllPub</td>\n",
       "      <td>CulDSac</td>\n",
       "      <td>Gtl</td>\n",
       "      <td>Mitchel</td>\n",
       "      <td>...</td>\n",
       "      <td>59</td>\n",
       "      <td>0</td>\n",
       "      <td>0</td>\n",
       "      <td>0</td>\n",
       "      <td>0</td>\n",
       "      <td>0</td>\n",
       "      <td>7</td>\n",
       "      <td>2008</td>\n",
       "      <td>WD</td>\n",
       "      <td>Normal</td>\n",
       "    </tr>\n",
       "    <tr>\n",
       "      <th>303</th>\n",
       "      <td>20</td>\n",
       "      <td>RL</td>\n",
       "      <td>13704</td>\n",
       "      <td>Pave</td>\n",
       "      <td>IR1</td>\n",
       "      <td>Lvl</td>\n",
       "      <td>AllPub</td>\n",
       "      <td>Corner</td>\n",
       "      <td>Gtl</td>\n",
       "      <td>CollgCr</td>\n",
       "      <td>...</td>\n",
       "      <td>81</td>\n",
       "      <td>0</td>\n",
       "      <td>0</td>\n",
       "      <td>0</td>\n",
       "      <td>0</td>\n",
       "      <td>0</td>\n",
       "      <td>1</td>\n",
       "      <td>2006</td>\n",
       "      <td>WD</td>\n",
       "      <td>Normal</td>\n",
       "    </tr>\n",
       "  </tbody>\n",
       "</table>\n",
       "<p>5 rows × 60 columns</p>\n",
       "</div>"
      ],
      "text/plain": [
       "     MSSubClass MSZoning  LotArea Street LotShape LandContour Utilities  \\\n",
       "Id                                                                        \n",
       "619          20       RL    11694   Pave      Reg         Lvl    AllPub   \n",
       "871          20       RL     6600   Pave      Reg         Lvl    AllPub   \n",
       "93           30       RL    13360   Pave      IR1         HLS    AllPub   \n",
       "818          20       RL    13265   Pave      IR1         Lvl    AllPub   \n",
       "303          20       RL    13704   Pave      IR1         Lvl    AllPub   \n",
       "\n",
       "    LotConfig LandSlope Neighborhood  ... OpenPorchSF EnclosedPorch 3SsnPorch  \\\n",
       "Id                                    ...                                       \n",
       "619    Inside       Gtl      NridgHt  ...         108             0         0   \n",
       "871    Inside       Gtl        NAmes  ...           0             0         0   \n",
       "93     Inside       Gtl      Crawfor  ...           0            44         0   \n",
       "818   CulDSac       Gtl      Mitchel  ...          59             0         0   \n",
       "303    Corner       Gtl      CollgCr  ...          81             0         0   \n",
       "\n",
       "    ScreenPorch  PoolArea  MiscVal  MoSold  YrSold SaleType SaleCondition  \n",
       "Id                                                                         \n",
       "619         260         0        0       7    2007      New       Partial  \n",
       "871           0         0        0       8    2009       WD        Normal  \n",
       "93            0         0        0       8    2009       WD        Normal  \n",
       "818           0         0        0       7    2008       WD        Normal  \n",
       "303           0         0        0       1    2006       WD        Normal  \n",
       "\n",
       "[5 rows x 60 columns]"
      ]
     },
     "execution_count": 3,
     "metadata": {},
     "output_type": "execute_result"
    }
   ],
   "source": [
    "X_train.head()"
   ]
  },
  {
   "cell_type": "markdown",
   "id": "9c39d6c4",
   "metadata": {
    "papermill": {
     "duration": 0.010447,
     "end_time": "2022-06-28T21:20:38.266764",
     "exception": false,
     "start_time": "2022-06-28T21:20:38.256317",
     "status": "completed"
    },
    "tags": []
   },
   "source": [
    "Notice that the dataset contains both numerical and categorical variables.  You'll need to encode the categorical data before training a model.\n",
    "\n",
    "To compare different models, you'll use the same `score_dataset()` function from the tutorial.  This function reports the [mean absolute error](https://en.wikipedia.org/wiki/Mean_absolute_error) (MAE) from a random forest model."
   ]
  },
  {
   "cell_type": "code",
   "execution_count": 4,
   "id": "9ee5ee32",
   "metadata": {
    "execution": {
     "iopub.execute_input": "2022-06-28T21:20:38.290699Z",
     "iopub.status.busy": "2022-06-28T21:20:38.289853Z",
     "iopub.status.idle": "2022-06-28T21:20:38.522111Z",
     "shell.execute_reply": "2022-06-28T21:20:38.521123Z"
    },
    "papermill": {
     "duration": 0.24738,
     "end_time": "2022-06-28T21:20:38.524916",
     "exception": false,
     "start_time": "2022-06-28T21:20:38.277536",
     "status": "completed"
    },
    "tags": []
   },
   "outputs": [],
   "source": [
    "from sklearn.ensemble import RandomForestRegressor\n",
    "from sklearn.metrics import mean_absolute_error\n",
    "\n",
    "# function for comparing different approaches\n",
    "def score_dataset(X_train, X_valid, y_train, y_valid):\n",
    "    model = RandomForestRegressor(n_estimators=100, random_state=0)\n",
    "    model.fit(X_train, y_train)\n",
    "    preds = model.predict(X_valid)\n",
    "    return mean_absolute_error(y_valid, preds)"
   ]
  },
  {
   "cell_type": "markdown",
   "id": "04696b40",
   "metadata": {
    "papermill": {
     "duration": 0.010885,
     "end_time": "2022-06-28T21:20:38.547964",
     "exception": false,
     "start_time": "2022-06-28T21:20:38.537079",
     "status": "completed"
    },
    "tags": []
   },
   "source": [
    "# Step 1: Drop columns with categorical data\n",
    "\n",
    "You'll get started with the most straightforward approach.  Use the code cell below to preprocess the data in `X_train` and `X_valid` to remove columns with categorical data.  Set the preprocessed DataFrames to `drop_X_train` and `drop_X_valid`, respectively.  "
   ]
  },
  {
   "cell_type": "code",
   "execution_count": 5,
   "id": "5dea6904",
   "metadata": {
    "execution": {
     "iopub.execute_input": "2022-06-28T21:20:38.572173Z",
     "iopub.status.busy": "2022-06-28T21:20:38.571371Z",
     "iopub.status.idle": "2022-06-28T21:20:38.585470Z",
     "shell.execute_reply": "2022-06-28T21:20:38.584322Z"
    },
    "papermill": {
     "duration": 0.028611,
     "end_time": "2022-06-28T21:20:38.587544",
     "exception": false,
     "start_time": "2022-06-28T21:20:38.558933",
     "status": "completed"
    },
    "tags": []
   },
   "outputs": [
    {
     "data": {
      "application/javascript": [
       "parent.postMessage({\"jupyterEvent\": \"custom.exercise_interaction\", \"data\": {\"outcomeType\": 1, \"valueTowardsCompletion\": 0.5, \"interactionType\": 1, \"questionType\": 2, \"questionId\": \"1_Drop\", \"learnToolsVersion\": \"0.3.4\", \"failureMessage\": \"\", \"exceptionClass\": \"\", \"trace\": \"\"}}, \"*\")"
      ],
      "text/plain": [
       "<IPython.core.display.Javascript object>"
      ]
     },
     "metadata": {},
     "output_type": "display_data"
    },
    {
     "data": {
      "text/markdown": [
       "<span style=\"color:#33cc33\">Correct</span>"
      ],
      "text/plain": [
       "Correct"
      ]
     },
     "metadata": {},
     "output_type": "display_data"
    }
   ],
   "source": [
    "# Fill in the lines below: drop columns in training and validation data\n",
    "\n",
    "drop_X_train = X_train.select_dtypes(exclude=['object'])\n",
    "drop_X_valid = X_valid.select_dtypes(exclude=['object'])\n",
    "# Check your answers\n",
    "step_1.check()"
   ]
  },
  {
   "cell_type": "code",
   "execution_count": 6,
   "id": "908a7f6f",
   "metadata": {
    "execution": {
     "iopub.execute_input": "2022-06-28T21:20:38.612128Z",
     "iopub.status.busy": "2022-06-28T21:20:38.611193Z",
     "iopub.status.idle": "2022-06-28T21:20:38.616092Z",
     "shell.execute_reply": "2022-06-28T21:20:38.615111Z"
    },
    "papermill": {
     "duration": 0.019743,
     "end_time": "2022-06-28T21:20:38.618415",
     "exception": false,
     "start_time": "2022-06-28T21:20:38.598672",
     "status": "completed"
    },
    "tags": []
   },
   "outputs": [],
   "source": [
    "# Lines below will give you a hint or solution code\n",
    "#step_1.hint()\n",
    "#step_1.solution()"
   ]
  },
  {
   "cell_type": "markdown",
   "id": "be665936",
   "metadata": {
    "papermill": {
     "duration": 0.011035,
     "end_time": "2022-06-28T21:20:38.640622",
     "exception": false,
     "start_time": "2022-06-28T21:20:38.629587",
     "status": "completed"
    },
    "tags": []
   },
   "source": [
    "Run the next code cell to get the MAE for this approach."
   ]
  },
  {
   "cell_type": "code",
   "execution_count": 7,
   "id": "00e972fc",
   "metadata": {
    "execution": {
     "iopub.execute_input": "2022-06-28T21:20:38.665059Z",
     "iopub.status.busy": "2022-06-28T21:20:38.664642Z",
     "iopub.status.idle": "2022-06-28T21:20:39.797273Z",
     "shell.execute_reply": "2022-06-28T21:20:39.795628Z"
    },
    "papermill": {
     "duration": 1.148098,
     "end_time": "2022-06-28T21:20:39.800224",
     "exception": false,
     "start_time": "2022-06-28T21:20:38.652126",
     "status": "completed"
    },
    "tags": []
   },
   "outputs": [
    {
     "name": "stdout",
     "output_type": "stream",
     "text": [
      "MAE from Approach 1 (Drop categorical variables):\n",
      "17837.82570776256\n"
     ]
    }
   ],
   "source": [
    "print(\"MAE from Approach 1 (Drop categorical variables):\")\n",
    "print(score_dataset(drop_X_train, drop_X_valid, y_train, y_valid))"
   ]
  },
  {
   "cell_type": "markdown",
   "id": "f1370bce",
   "metadata": {
    "papermill": {
     "duration": 0.010867,
     "end_time": "2022-06-28T21:20:39.822551",
     "exception": false,
     "start_time": "2022-06-28T21:20:39.811684",
     "status": "completed"
    },
    "tags": []
   },
   "source": [
    "Before jumping into ordinal encoding, we'll investigate the dataset.  Specifically, we'll look at the `'Condition2'` column.  The code cell below prints the unique entries in both the training and validation sets."
   ]
  },
  {
   "cell_type": "code",
   "execution_count": 8,
   "id": "a1d20d2b",
   "metadata": {
    "execution": {
     "iopub.execute_input": "2022-06-28T21:20:39.847614Z",
     "iopub.status.busy": "2022-06-28T21:20:39.846365Z",
     "iopub.status.idle": "2022-06-28T21:20:39.853830Z",
     "shell.execute_reply": "2022-06-28T21:20:39.852891Z"
    },
    "papermill": {
     "duration": 0.02298,
     "end_time": "2022-06-28T21:20:39.856841",
     "exception": false,
     "start_time": "2022-06-28T21:20:39.833861",
     "status": "completed"
    },
    "tags": []
   },
   "outputs": [
    {
     "name": "stdout",
     "output_type": "stream",
     "text": [
      "Unique values in 'Condition2' column in training data: ['Norm' 'PosA' 'Feedr' 'PosN' 'Artery' 'RRAe']\n",
      "\n",
      "Unique values in 'Condition2' column in validation data: ['Norm' 'RRAn' 'RRNn' 'Artery' 'Feedr' 'PosN']\n"
     ]
    }
   ],
   "source": [
    "print(\"Unique values in 'Condition2' column in training data:\", X_train['Condition2'].unique())\n",
    "print(\"\\nUnique values in 'Condition2' column in validation data:\", X_valid['Condition2'].unique())"
   ]
  },
  {
   "cell_type": "markdown",
   "id": "051df508",
   "metadata": {
    "papermill": {
     "duration": 0.011707,
     "end_time": "2022-06-28T21:20:39.881207",
     "exception": false,
     "start_time": "2022-06-28T21:20:39.869500",
     "status": "completed"
    },
    "tags": []
   },
   "source": [
    "# Step 2: Ordinal encoding\n",
    "\n",
    "### Part A\n",
    "\n",
    "If you now write code to: \n",
    "- fit an ordinal encoder to the training data, and then \n",
    "- use it to transform both the training and validation data, \n",
    "\n",
    "you'll get an error.  Can you see why this is the case?  (_You'll need  to use the above output to answer this question._)"
   ]
  },
  {
   "cell_type": "code",
   "execution_count": 9,
   "id": "c29376fa",
   "metadata": {
    "execution": {
     "iopub.execute_input": "2022-06-28T21:20:39.907749Z",
     "iopub.status.busy": "2022-06-28T21:20:39.907108Z",
     "iopub.status.idle": "2022-06-28T21:20:39.914447Z",
     "shell.execute_reply": "2022-06-28T21:20:39.913613Z"
    },
    "papermill": {
     "duration": 0.022852,
     "end_time": "2022-06-28T21:20:39.916549",
     "exception": false,
     "start_time": "2022-06-28T21:20:39.893697",
     "status": "completed"
    },
    "tags": []
   },
   "outputs": [
    {
     "data": {
      "application/javascript": [
       "parent.postMessage({\"jupyterEvent\": \"custom.exercise_interaction\", \"data\": {\"outcomeType\": 1, \"valueTowardsCompletion\": 0.5, \"interactionType\": 1, \"questionType\": 4, \"questionId\": \"2.1_LabelA\", \"learnToolsVersion\": \"0.3.4\", \"failureMessage\": \"\", \"exceptionClass\": \"\", \"trace\": \"\"}}, \"*\")"
      ],
      "text/plain": [
       "<IPython.core.display.Javascript object>"
      ]
     },
     "metadata": {},
     "output_type": "display_data"
    },
    {
     "data": {
      "text/markdown": [
       "<span style=\"color:#33cc33\">Correct:</span> \n",
       "\n",
       "Fitting an ordinal encoder to a column in the training data creates a corresponding integer-valued label for each unique value **that appears in the training data**. In the case that the validation data contains values that don't also appear in the training data, the encoder will throw an error, because these values won't have an integer assigned to them.  Notice that the `'Condition2'` column in the validation data contains the values `'RRAn'` and `'RRNn'`, but these don't appear in the training data -- thus, if we try to use an ordinal encoder with scikit-learn, the code will throw an error."
      ],
      "text/plain": [
       "Correct: \n",
       "\n",
       "Fitting an ordinal encoder to a column in the training data creates a corresponding integer-valued label for each unique value **that appears in the training data**. In the case that the validation data contains values that don't also appear in the training data, the encoder will throw an error, because these values won't have an integer assigned to them.  Notice that the `'Condition2'` column in the validation data contains the values `'RRAn'` and `'RRNn'`, but these don't appear in the training data -- thus, if we try to use an ordinal encoder with scikit-learn, the code will throw an error."
      ]
     },
     "metadata": {},
     "output_type": "display_data"
    }
   ],
   "source": [
    "# Check your answer (Run this code cell to receive credit!)\n",
    "step_2.a.check()"
   ]
  },
  {
   "cell_type": "code",
   "execution_count": 10,
   "id": "75c56bce",
   "metadata": {
    "execution": {
     "iopub.execute_input": "2022-06-28T21:20:39.942687Z",
     "iopub.status.busy": "2022-06-28T21:20:39.942042Z",
     "iopub.status.idle": "2022-06-28T21:20:39.946216Z",
     "shell.execute_reply": "2022-06-28T21:20:39.945057Z"
    },
    "papermill": {
     "duration": 0.019952,
     "end_time": "2022-06-28T21:20:39.948461",
     "exception": false,
     "start_time": "2022-06-28T21:20:39.928509",
     "status": "completed"
    },
    "tags": []
   },
   "outputs": [],
   "source": [
    "#step_2.a.hint()"
   ]
  },
  {
   "cell_type": "markdown",
   "id": "27ea59d3",
   "metadata": {
    "papermill": {
     "duration": 0.011292,
     "end_time": "2022-06-28T21:20:39.971458",
     "exception": false,
     "start_time": "2022-06-28T21:20:39.960166",
     "status": "completed"
    },
    "tags": []
   },
   "source": [
    "This is a common problem that you'll encounter with real-world data, and there are many approaches to fixing this issue.  For instance, you can write a custom ordinal encoder to deal with new categories.  The simplest approach, however, is to drop the problematic categorical columns.  \n",
    "\n",
    "Run the code cell below to save the problematic columns to a Python list `bad_label_cols`.  Likewise, columns that can be safely ordinal encoded are stored in `good_label_cols`."
   ]
  },
  {
   "cell_type": "code",
   "execution_count": 11,
   "id": "495b3a40",
   "metadata": {
    "execution": {
     "iopub.execute_input": "2022-06-28T21:20:39.996981Z",
     "iopub.status.busy": "2022-06-28T21:20:39.996336Z",
     "iopub.status.idle": "2022-06-28T21:20:40.012687Z",
     "shell.execute_reply": "2022-06-28T21:20:40.011584Z"
    },
    "papermill": {
     "duration": 0.032587,
     "end_time": "2022-06-28T21:20:40.015759",
     "exception": false,
     "start_time": "2022-06-28T21:20:39.983172",
     "status": "completed"
    },
    "tags": []
   },
   "outputs": [
    {
     "name": "stdout",
     "output_type": "stream",
     "text": [
      "Categorical columns that will be ordinal encoded: ['MSZoning', 'Street', 'LotShape', 'LandContour', 'Utilities', 'LotConfig', 'LandSlope', 'Neighborhood', 'Condition1', 'BldgType', 'HouseStyle', 'RoofStyle', 'Exterior1st', 'Exterior2nd', 'ExterQual', 'ExterCond', 'Foundation', 'Heating', 'HeatingQC', 'CentralAir', 'KitchenQual', 'PavedDrive', 'SaleType', 'SaleCondition']\n",
      "\n",
      "Categorical columns that will be dropped from the dataset: ['RoofMatl', 'Functional', 'Condition2']\n"
     ]
    }
   ],
   "source": [
    "# Categorical columns in the training data\n",
    "object_cols = [col for col in X_train.columns if X_train[col].dtype == \"object\"]\n",
    "\n",
    "# Columns that can be safely ordinal encoded\n",
    "good_label_cols = [col for col in object_cols if \n",
    "                   set(X_valid[col]).issubset(set(X_train[col]))]\n",
    "        \n",
    "# Problematic columns that will be dropped from the dataset\n",
    "bad_label_cols = list(set(object_cols)-set(good_label_cols))\n",
    "        \n",
    "print('Categorical columns that will be ordinal encoded:', good_label_cols)\n",
    "print('\\nCategorical columns that will be dropped from the dataset:', bad_label_cols)"
   ]
  },
  {
   "cell_type": "markdown",
   "id": "41bd94a7",
   "metadata": {
    "papermill": {
     "duration": 0.011376,
     "end_time": "2022-06-28T21:20:40.038901",
     "exception": false,
     "start_time": "2022-06-28T21:20:40.027525",
     "status": "completed"
    },
    "tags": []
   },
   "source": [
    "### Part B\n",
    "\n",
    "Use the next code cell to ordinal encode the data in `X_train` and `X_valid`.  Set the preprocessed DataFrames to `label_X_train` and `label_X_valid`, respectively.  \n",
    "- We have provided code below to drop the categorical columns in `bad_label_cols` from the dataset. \n",
    "- You should ordinal encode the categorical columns in `good_label_cols`.  "
   ]
  },
  {
   "cell_type": "code",
   "execution_count": 12,
   "id": "88e13227",
   "metadata": {
    "execution": {
     "iopub.execute_input": "2022-06-28T21:20:40.064484Z",
     "iopub.status.busy": "2022-06-28T21:20:40.063772Z",
     "iopub.status.idle": "2022-06-28T21:20:40.109643Z",
     "shell.execute_reply": "2022-06-28T21:20:40.108811Z"
    },
    "papermill": {
     "duration": 0.060977,
     "end_time": "2022-06-28T21:20:40.111670",
     "exception": false,
     "start_time": "2022-06-28T21:20:40.050693",
     "status": "completed"
    },
    "tags": []
   },
   "outputs": [
    {
     "data": {
      "application/javascript": [
       "parent.postMessage({\"jupyterEvent\": \"custom.exercise_interaction\", \"data\": {\"outcomeType\": 1, \"valueTowardsCompletion\": 0.5, \"interactionType\": 1, \"questionType\": 2, \"questionId\": \"2.2_LabelB\", \"learnToolsVersion\": \"0.3.4\", \"failureMessage\": \"\", \"exceptionClass\": \"\", \"trace\": \"\"}}, \"*\")"
      ],
      "text/plain": [
       "<IPython.core.display.Javascript object>"
      ]
     },
     "metadata": {},
     "output_type": "display_data"
    },
    {
     "data": {
      "text/markdown": [
       "<span style=\"color:#33cc33\">Correct</span>"
      ],
      "text/plain": [
       "Correct"
      ]
     },
     "metadata": {},
     "output_type": "display_data"
    }
   ],
   "source": [
    "from sklearn.preprocessing import OrdinalEncoder\n",
    "\n",
    "# Drop categorical columns that will not be encoded\n",
    "label_X_train = X_train.drop(bad_label_cols, axis=1)\n",
    "label_X_valid = X_valid.drop(bad_label_cols, axis=1)\n",
    "\n",
    "# Apply ordinal encoder \n",
    "ordinal_encoder = OrdinalEncoder()\n",
    "label_X_train[good_label_cols] = ordinal_encoder.fit_transform(X_train[good_label_cols])\n",
    "label_X_valid[good_label_cols] = ordinal_encoder.transform(X_valid[good_label_cols])\n",
    "    \n",
    "# Check your answer\n",
    "step_2.b.check()"
   ]
  },
  {
   "cell_type": "code",
   "execution_count": 13,
   "id": "b4b44b9f",
   "metadata": {
    "execution": {
     "iopub.execute_input": "2022-06-28T21:20:40.137936Z",
     "iopub.status.busy": "2022-06-28T21:20:40.137168Z",
     "iopub.status.idle": "2022-06-28T21:20:40.141044Z",
     "shell.execute_reply": "2022-06-28T21:20:40.140241Z"
    },
    "papermill": {
     "duration": 0.019517,
     "end_time": "2022-06-28T21:20:40.143206",
     "exception": false,
     "start_time": "2022-06-28T21:20:40.123689",
     "status": "completed"
    },
    "tags": []
   },
   "outputs": [],
   "source": [
    "# Lines below will give you a hint or solution code\n",
    "#step_2.b.hint()\n",
    "#step_2.b.solution()"
   ]
  },
  {
   "cell_type": "markdown",
   "id": "a8c6e363",
   "metadata": {
    "papermill": {
     "duration": 0.01188,
     "end_time": "2022-06-28T21:20:40.167183",
     "exception": false,
     "start_time": "2022-06-28T21:20:40.155303",
     "status": "completed"
    },
    "tags": []
   },
   "source": [
    "Run the next code cell to get the MAE for this approach."
   ]
  },
  {
   "cell_type": "code",
   "execution_count": 14,
   "id": "f0ae1e66",
   "metadata": {
    "execution": {
     "iopub.execute_input": "2022-06-28T21:20:40.193130Z",
     "iopub.status.busy": "2022-06-28T21:20:40.192700Z",
     "iopub.status.idle": "2022-06-28T21:20:41.633757Z",
     "shell.execute_reply": "2022-06-28T21:20:41.632263Z"
    },
    "papermill": {
     "duration": 1.457006,
     "end_time": "2022-06-28T21:20:41.636333",
     "exception": false,
     "start_time": "2022-06-28T21:20:40.179327",
     "status": "completed"
    },
    "tags": []
   },
   "outputs": [
    {
     "name": "stdout",
     "output_type": "stream",
     "text": [
      "MAE from Approach 2 (Ordinal Encoding):\n",
      "17098.01649543379\n"
     ]
    }
   ],
   "source": [
    "print(\"MAE from Approach 2 (Ordinal Encoding):\") \n",
    "print(score_dataset(label_X_train, label_X_valid, y_train, y_valid))"
   ]
  },
  {
   "cell_type": "markdown",
   "id": "a5307bd1",
   "metadata": {
    "papermill": {
     "duration": 0.012884,
     "end_time": "2022-06-28T21:20:41.661936",
     "exception": false,
     "start_time": "2022-06-28T21:20:41.649052",
     "status": "completed"
    },
    "tags": []
   },
   "source": [
    "So far, you've tried two different approaches to dealing with categorical variables.  And, you've seen that encoding categorical data yields better results than removing columns from the dataset.\n",
    "\n",
    "Soon, you'll try one-hot encoding.  Before then, there's one additional topic we need to cover.  Begin by running the next code cell without changes.  "
   ]
  },
  {
   "cell_type": "code",
   "execution_count": 15,
   "id": "1d4c65ff",
   "metadata": {
    "execution": {
     "iopub.execute_input": "2022-06-28T21:20:41.689034Z",
     "iopub.status.busy": "2022-06-28T21:20:41.688629Z",
     "iopub.status.idle": "2022-06-28T21:20:41.703587Z",
     "shell.execute_reply": "2022-06-28T21:20:41.702597Z"
    },
    "papermill": {
     "duration": 0.031459,
     "end_time": "2022-06-28T21:20:41.705706",
     "exception": false,
     "start_time": "2022-06-28T21:20:41.674247",
     "status": "completed"
    },
    "tags": []
   },
   "outputs": [
    {
     "data": {
      "text/plain": [
       "[('Street', 2),\n",
       " ('Utilities', 2),\n",
       " ('CentralAir', 2),\n",
       " ('LandSlope', 3),\n",
       " ('PavedDrive', 3),\n",
       " ('LotShape', 4),\n",
       " ('LandContour', 4),\n",
       " ('ExterQual', 4),\n",
       " ('KitchenQual', 4),\n",
       " ('MSZoning', 5),\n",
       " ('LotConfig', 5),\n",
       " ('BldgType', 5),\n",
       " ('ExterCond', 5),\n",
       " ('HeatingQC', 5),\n",
       " ('Condition2', 6),\n",
       " ('RoofStyle', 6),\n",
       " ('Foundation', 6),\n",
       " ('Heating', 6),\n",
       " ('Functional', 6),\n",
       " ('SaleCondition', 6),\n",
       " ('RoofMatl', 7),\n",
       " ('HouseStyle', 8),\n",
       " ('Condition1', 9),\n",
       " ('SaleType', 9),\n",
       " ('Exterior1st', 15),\n",
       " ('Exterior2nd', 16),\n",
       " ('Neighborhood', 25)]"
      ]
     },
     "execution_count": 15,
     "metadata": {},
     "output_type": "execute_result"
    }
   ],
   "source": [
    "# Get number of unique entries in each column with categorical data\n",
    "object_nunique = list(map(lambda col: X_train[col].nunique(), object_cols))\n",
    "d = dict(zip(object_cols, object_nunique))\n",
    "\n",
    "# Print number of unique entries by column, in ascending order\n",
    "sorted(d.items(), key=lambda x: x[1])"
   ]
  },
  {
   "cell_type": "markdown",
   "id": "23c09de5",
   "metadata": {
    "papermill": {
     "duration": 0.012447,
     "end_time": "2022-06-28T21:20:41.730637",
     "exception": false,
     "start_time": "2022-06-28T21:20:41.718190",
     "status": "completed"
    },
    "tags": []
   },
   "source": [
    "# Step 3: Investigating cardinality\n",
    "\n",
    "### Part A\n",
    "\n",
    "The output above shows, for each column with categorical data, the number of unique values in the column.  For instance, the `'Street'` column in the training data has two unique values: `'Grvl'` and `'Pave'`, corresponding to a gravel road and a paved road, respectively.\n",
    "\n",
    "We refer to the number of unique entries of a categorical variable as the **cardinality** of that categorical variable.  For instance, the `'Street'` variable has cardinality 2.\n",
    "\n",
    "Use the output above to answer the questions below."
   ]
  },
  {
   "cell_type": "code",
   "execution_count": 16,
   "id": "03d78e3d",
   "metadata": {
    "execution": {
     "iopub.execute_input": "2022-06-28T21:20:41.757309Z",
     "iopub.status.busy": "2022-06-28T21:20:41.756554Z",
     "iopub.status.idle": "2022-06-28T21:20:41.764731Z",
     "shell.execute_reply": "2022-06-28T21:20:41.763609Z"
    },
    "papermill": {
     "duration": 0.023891,
     "end_time": "2022-06-28T21:20:41.766857",
     "exception": false,
     "start_time": "2022-06-28T21:20:41.742966",
     "status": "completed"
    },
    "tags": []
   },
   "outputs": [
    {
     "data": {
      "application/javascript": [
       "parent.postMessage({\"jupyterEvent\": \"custom.exercise_interaction\", \"data\": {\"outcomeType\": 1, \"valueTowardsCompletion\": 0.5, \"interactionType\": 1, \"questionType\": 1, \"questionId\": \"3.1_CardinalityA\", \"learnToolsVersion\": \"0.3.4\", \"failureMessage\": \"\", \"exceptionClass\": \"\", \"trace\": \"\"}}, \"*\")"
      ],
      "text/plain": [
       "<IPython.core.display.Javascript object>"
      ]
     },
     "metadata": {},
     "output_type": "display_data"
    },
    {
     "data": {
      "text/markdown": [
       "<span style=\"color:#33cc33\">Correct</span>"
      ],
      "text/plain": [
       "Correct"
      ]
     },
     "metadata": {},
     "output_type": "display_data"
    }
   ],
   "source": [
    "# Fill in the line below: How many categorical variables in the training data\n",
    "# have cardinality greater than 10?\n",
    "high_cardinality_numcols = 3\n",
    "\n",
    "# Fill in the line below: How many columns are needed to one-hot encode the \n",
    "# 'Neighborhood' variable in the training data?\n",
    "num_cols_neighborhood = 25\n",
    "\n",
    "# Check your answers\n",
    "step_3.a.check()"
   ]
  },
  {
   "cell_type": "code",
   "execution_count": 17,
   "id": "9f4526d3",
   "metadata": {
    "execution": {
     "iopub.execute_input": "2022-06-28T21:20:41.794388Z",
     "iopub.status.busy": "2022-06-28T21:20:41.793582Z",
     "iopub.status.idle": "2022-06-28T21:20:41.797516Z",
     "shell.execute_reply": "2022-06-28T21:20:41.796724Z"
    },
    "papermill": {
     "duration": 0.020102,
     "end_time": "2022-06-28T21:20:41.799612",
     "exception": false,
     "start_time": "2022-06-28T21:20:41.779510",
     "status": "completed"
    },
    "tags": []
   },
   "outputs": [],
   "source": [
    "# Lines below will give you a hint or solution code\n",
    "#step_3.a.hint()\n",
    "#step_3.a.solution()"
   ]
  },
  {
   "cell_type": "markdown",
   "id": "f36545af",
   "metadata": {
    "papermill": {
     "duration": 0.012552,
     "end_time": "2022-06-28T21:20:41.825002",
     "exception": false,
     "start_time": "2022-06-28T21:20:41.812450",
     "status": "completed"
    },
    "tags": []
   },
   "source": [
    "### Part B\n",
    "\n",
    "For large datasets with many rows, one-hot encoding can greatly expand the size of the dataset.  For this reason, we typically will only one-hot encode columns with relatively low cardinality.  Then, high cardinality columns can either be dropped from the dataset, or we can use ordinal encoding.\n",
    "\n",
    "As an example, consider a dataset with 10,000 rows, and containing one categorical column with 100 unique entries.  \n",
    "- If this column is replaced with the corresponding one-hot encoding, how many entries are added to the dataset?  \n",
    "- If we instead replace the column with the ordinal encoding, how many entries are added?  \n",
    "\n",
    "Use your answers to fill in the lines below."
   ]
  },
  {
   "cell_type": "code",
   "execution_count": 18,
   "id": "a1b6bd3b",
   "metadata": {
    "execution": {
     "iopub.execute_input": "2022-06-28T21:20:41.852859Z",
     "iopub.status.busy": "2022-06-28T21:20:41.852093Z",
     "iopub.status.idle": "2022-06-28T21:20:41.860245Z",
     "shell.execute_reply": "2022-06-28T21:20:41.859160Z"
    },
    "papermill": {
     "duration": 0.02454,
     "end_time": "2022-06-28T21:20:41.862451",
     "exception": false,
     "start_time": "2022-06-28T21:20:41.837911",
     "status": "completed"
    },
    "tags": []
   },
   "outputs": [
    {
     "data": {
      "application/javascript": [
       "parent.postMessage({\"jupyterEvent\": \"custom.exercise_interaction\", \"data\": {\"outcomeType\": 1, \"valueTowardsCompletion\": 0.5, \"interactionType\": 1, \"questionType\": 1, \"questionId\": \"3.2_CardinalityB\", \"learnToolsVersion\": \"0.3.4\", \"failureMessage\": \"\", \"exceptionClass\": \"\", \"trace\": \"\"}}, \"*\")"
      ],
      "text/plain": [
       "<IPython.core.display.Javascript object>"
      ]
     },
     "metadata": {},
     "output_type": "display_data"
    },
    {
     "data": {
      "text/markdown": [
       "<span style=\"color:#33cc33\">Correct</span>"
      ],
      "text/plain": [
       "Correct"
      ]
     },
     "metadata": {},
     "output_type": "display_data"
    }
   ],
   "source": [
    "# Fill in the line below: How many entries are added to the dataset by \n",
    "# replacing the column with a one-hot encoding?\n",
    "OH_entries_added = 99 * 10000\n",
    "\n",
    "# Fill in the line below: How many entries are added to the dataset by\n",
    "# replacing the column with an ordinal encoding?\n",
    "label_entries_added = 0\n",
    "\n",
    "# Check your answers\n",
    "step_3.b.check()"
   ]
  },
  {
   "cell_type": "code",
   "execution_count": 19,
   "id": "646609e8",
   "metadata": {
    "execution": {
     "iopub.execute_input": "2022-06-28T21:20:41.891810Z",
     "iopub.status.busy": "2022-06-28T21:20:41.891073Z",
     "iopub.status.idle": "2022-06-28T21:20:41.894932Z",
     "shell.execute_reply": "2022-06-28T21:20:41.894139Z"
    },
    "papermill": {
     "duration": 0.020972,
     "end_time": "2022-06-28T21:20:41.896958",
     "exception": false,
     "start_time": "2022-06-28T21:20:41.875986",
     "status": "completed"
    },
    "tags": []
   },
   "outputs": [],
   "source": [
    "# Lines below will give you a hint or solution code\n",
    "#step_3.b.hint()\n",
    "#step_3.b.solution()"
   ]
  },
  {
   "cell_type": "markdown",
   "id": "1aa95cc2",
   "metadata": {
    "papermill": {
     "duration": 0.012799,
     "end_time": "2022-06-28T21:20:41.922828",
     "exception": false,
     "start_time": "2022-06-28T21:20:41.910029",
     "status": "completed"
    },
    "tags": []
   },
   "source": [
    "Next, you'll experiment with one-hot encoding.  But, instead of encoding all of the categorical variables in the dataset, you'll only create a one-hot encoding for columns with cardinality less than 10.\n",
    "\n",
    "Run the code cell below without changes to set `low_cardinality_cols` to a Python list containing the columns that will be one-hot encoded.  Likewise, `high_cardinality_cols` contains a list of categorical columns that will be dropped from the dataset."
   ]
  },
  {
   "cell_type": "code",
   "execution_count": 20,
   "id": "8142cf41",
   "metadata": {
    "execution": {
     "iopub.execute_input": "2022-06-28T21:20:41.950975Z",
     "iopub.status.busy": "2022-06-28T21:20:41.950219Z",
     "iopub.status.idle": "2022-06-28T21:20:41.962625Z",
     "shell.execute_reply": "2022-06-28T21:20:41.961189Z"
    },
    "papermill": {
     "duration": 0.029329,
     "end_time": "2022-06-28T21:20:41.965385",
     "exception": false,
     "start_time": "2022-06-28T21:20:41.936056",
     "status": "completed"
    },
    "tags": []
   },
   "outputs": [
    {
     "name": "stdout",
     "output_type": "stream",
     "text": [
      "Categorical columns that will be one-hot encoded: ['MSZoning', 'Street', 'LotShape', 'LandContour', 'Utilities', 'LotConfig', 'LandSlope', 'Condition1', 'Condition2', 'BldgType', 'HouseStyle', 'RoofStyle', 'RoofMatl', 'ExterQual', 'ExterCond', 'Foundation', 'Heating', 'HeatingQC', 'CentralAir', 'KitchenQual', 'Functional', 'PavedDrive', 'SaleType', 'SaleCondition']\n",
      "\n",
      "Categorical columns that will be dropped from the dataset: ['Exterior1st', 'Exterior2nd', 'Neighborhood']\n"
     ]
    }
   ],
   "source": [
    "# Columns that will be one-hot encoded\n",
    "low_cardinality_cols = [col for col in object_cols if X_train[col].nunique() < 10]\n",
    "\n",
    "# Columns that will be dropped from the dataset\n",
    "high_cardinality_cols = list(set(object_cols)-set(low_cardinality_cols))\n",
    "\n",
    "print('Categorical columns that will be one-hot encoded:', low_cardinality_cols)\n",
    "print('\\nCategorical columns that will be dropped from the dataset:', high_cardinality_cols)"
   ]
  },
  {
   "cell_type": "markdown",
   "id": "831de3ef",
   "metadata": {
    "papermill": {
     "duration": 0.012799,
     "end_time": "2022-06-28T21:20:41.991308",
     "exception": false,
     "start_time": "2022-06-28T21:20:41.978509",
     "status": "completed"
    },
    "tags": []
   },
   "source": [
    "# Step 4: One-hot encoding\n",
    "\n",
    "Use the next code cell to one-hot encode the data in `X_train` and `X_valid`.  Set the preprocessed DataFrames to `OH_X_train` and `OH_X_valid`, respectively.  \n",
    "- The full list of categorical columns in the dataset can be found in the Python list `object_cols`.\n",
    "- You should only one-hot encode the categorical columns in `low_cardinality_cols`.  All other categorical columns should be dropped from the dataset. "
   ]
  },
  {
   "cell_type": "code",
   "execution_count": 21,
   "id": "a2edba72",
   "metadata": {
    "execution": {
     "iopub.execute_input": "2022-06-28T21:20:42.020365Z",
     "iopub.status.busy": "2022-06-28T21:20:42.019310Z",
     "iopub.status.idle": "2022-06-28T21:20:42.094050Z",
     "shell.execute_reply": "2022-06-28T21:20:42.092868Z"
    },
    "papermill": {
     "duration": 0.09178,
     "end_time": "2022-06-28T21:20:42.096454",
     "exception": false,
     "start_time": "2022-06-28T21:20:42.004674",
     "status": "completed"
    },
    "tags": []
   },
   "outputs": [
    {
     "data": {
      "application/javascript": [
       "parent.postMessage({\"jupyterEvent\": \"custom.exercise_interaction\", \"data\": {\"outcomeType\": 1, \"valueTowardsCompletion\": 0.5, \"interactionType\": 1, \"questionType\": 2, \"questionId\": \"4_OneHot\", \"learnToolsVersion\": \"0.3.4\", \"failureMessage\": \"\", \"exceptionClass\": \"\", \"trace\": \"\"}}, \"*\")"
      ],
      "text/plain": [
       "<IPython.core.display.Javascript object>"
      ]
     },
     "metadata": {},
     "output_type": "display_data"
    },
    {
     "data": {
      "text/markdown": [
       "<span style=\"color:#33cc33\">Correct</span>"
      ],
      "text/plain": [
       "Correct"
      ]
     },
     "metadata": {},
     "output_type": "display_data"
    }
   ],
   "source": [
    "from sklearn.preprocessing import OneHotEncoder\n",
    "\n",
    "# Use as many lines of code as you need!\n",
    "\n",
    "temp = list(set(object_cols)-set(low_cardinality_cols))\n",
    "t = X_train.drop(temp, axis=1)\n",
    "t2 = X_valid.drop(temp, axis=1)\n",
    "t3 = X_test.drop(temp, axis=1)\n",
    "\n",
    "OH_encoder = OneHotEncoder(handle_unknown='ignore', sparse=False)\n",
    "\n",
    "x1 = pd.DataFrame(OH_encoder.fit_transform(t[low_cardinality_cols]))\n",
    "x2 = pd.DataFrame(OH_encoder.transform(t2[low_cardinality_cols]))\n",
    "x3 = pd.DataFrame(OH_encoder.transform(t3[low_cardinality_cols]))\n",
    "\n",
    "x1.index = X_train.index\n",
    "x2.index = X_valid.index\n",
    "x3.index = X_test.index\n",
    "\n",
    "num_X_train = t.drop(low_cardinality_cols, axis=1)\n",
    "num_X_valid = t2.drop(low_cardinality_cols, axis=1)\n",
    "num_X_test = t3.drop(low_cardinality_cols, axis=1)\n",
    "\n",
    "OH_X_train = pd.concat([num_X_train, x1], axis=1)\n",
    "OH_X_valid = pd.concat([num_X_valid, x2], axis=1)\n",
    "test = pd.concat([num_X_test, x3], axis=1)\n",
    "\n",
    "\n",
    "# Check your answer\n",
    "step_4.check()"
   ]
  },
  {
   "cell_type": "code",
   "execution_count": 22,
   "id": "880bf065",
   "metadata": {
    "execution": {
     "iopub.execute_input": "2022-06-28T21:20:42.125525Z",
     "iopub.status.busy": "2022-06-28T21:20:42.125087Z",
     "iopub.status.idle": "2022-06-28T21:20:42.135471Z",
     "shell.execute_reply": "2022-06-28T21:20:42.134250Z"
    },
    "papermill": {
     "duration": 0.028413,
     "end_time": "2022-06-28T21:20:42.138229",
     "exception": false,
     "start_time": "2022-06-28T21:20:42.109816",
     "status": "completed"
    },
    "tags": []
   },
   "outputs": [
    {
     "name": "stdout",
     "output_type": "stream",
     "text": [
      "BsmtFinSF1      1\n",
      "BsmtFinSF2      1\n",
      "BsmtUnfSF       1\n",
      "TotalBsmtSF     1\n",
      "BsmtFullBath    2\n",
      "BsmtHalfBath    2\n",
      "GarageCars      1\n",
      "GarageArea      1\n",
      "dtype: int64\n"
     ]
    }
   ],
   "source": [
    "# Lines below will give you a hint or solution code\n",
    "#step_4.hint()\n",
    "#step_4.solution()\n",
    "mess = test.isnull().sum()\n",
    "print(mess[mess > 0])"
   ]
  },
  {
   "cell_type": "markdown",
   "id": "c8f8d7c6",
   "metadata": {
    "papermill": {
     "duration": 0.013588,
     "end_time": "2022-06-28T21:20:42.165383",
     "exception": false,
     "start_time": "2022-06-28T21:20:42.151795",
     "status": "completed"
    },
    "tags": []
   },
   "source": [
    "Run the next code cell to get the MAE for this approach."
   ]
  },
  {
   "cell_type": "code",
   "execution_count": 23,
   "id": "12a7204e",
   "metadata": {
    "execution": {
     "iopub.execute_input": "2022-06-28T21:20:42.194902Z",
     "iopub.status.busy": "2022-06-28T21:20:42.194056Z",
     "iopub.status.idle": "2022-06-28T21:20:43.974342Z",
     "shell.execute_reply": "2022-06-28T21:20:43.972982Z"
    },
    "papermill": {
     "duration": 1.798791,
     "end_time": "2022-06-28T21:20:43.977843",
     "exception": false,
     "start_time": "2022-06-28T21:20:42.179052",
     "status": "completed"
    },
    "tags": []
   },
   "outputs": [
    {
     "name": "stdout",
     "output_type": "stream",
     "text": [
      "MAE from Approach 3 (One-Hot Encoding):\n"
     ]
    },
    {
     "name": "stderr",
     "output_type": "stream",
     "text": [
      "/opt/conda/lib/python3.7/site-packages/sklearn/utils/validation.py:1692: FutureWarning: Feature names only support names that are all strings. Got feature names with dtypes: ['int', 'str']. An error will be raised in 1.2.\n",
      "  FutureWarning,\n"
     ]
    },
    {
     "name": "stdout",
     "output_type": "stream",
     "text": [
      "17525.345719178084\n"
     ]
    },
    {
     "name": "stderr",
     "output_type": "stream",
     "text": [
      "/opt/conda/lib/python3.7/site-packages/sklearn/utils/validation.py:1692: FutureWarning: Feature names only support names that are all strings. Got feature names with dtypes: ['int', 'str']. An error will be raised in 1.2.\n",
      "  FutureWarning,\n"
     ]
    }
   ],
   "source": [
    "print(\"MAE from Approach 3 (One-Hot Encoding):\") \n",
    "print(score_dataset(OH_X_train, OH_X_valid, y_train, y_valid))"
   ]
  },
  {
   "cell_type": "markdown",
   "id": "a3aa32bb",
   "metadata": {
    "papermill": {
     "duration": 0.013665,
     "end_time": "2022-06-28T21:20:44.005398",
     "exception": false,
     "start_time": "2022-06-28T21:20:43.991733",
     "status": "completed"
    },
    "tags": []
   },
   "source": [
    "# Generate test predictions and submit your results\n",
    "\n",
    "After you complete Step 4, if you'd like to use what you've learned to submit your results to the leaderboard, you'll need to preprocess the test data before generating predictions.\n",
    "\n",
    "**This step is completely optional, and you do not need to submit results to the leaderboard to successfully complete the exercise.**\n",
    "\n",
    "Check out the previous exercise if you need help with remembering how to [join the competition](https://www.kaggle.com/c/home-data-for-ml-course) or save your results to CSV.  Once you have generated a file with your results, follow the instructions below:\n",
    "1. Begin by clicking on the **Save Version** button in the top right corner of the window.  This will generate a pop-up window.  \n",
    "2. Ensure that the **Save and Run All** option is selected, and then click on the **Save** button.\n",
    "3. This generates a window in the bottom left corner of the notebook.  After it has finished running, click on the number to the right of the **Save Version** button.  This pulls up a list of versions on the right of the screen.  Click on the ellipsis **(...)** to the right of the most recent version, and select **Open in Viewer**.  This brings you into view mode of the same page. You will need to scroll down to get back to these instructions.\n",
    "4. Click on the **Output** tab on the right of the screen.  Then, click on the file you would like to submit, and click on the **Submit** button to submit your results to the leaderboard.\n",
    "\n",
    "You have now successfully submitted to the competition!\n",
    "\n",
    "If you want to keep working to improve your performance, select the **Edit** button in the top right of the screen. Then you can change your code and repeat the process. There's a lot of room to improve, and you will climb up the leaderboard as you work.\n"
   ]
  },
  {
   "cell_type": "code",
   "execution_count": 24,
   "id": "d39dda96",
   "metadata": {
    "execution": {
     "iopub.execute_input": "2022-06-28T21:20:44.035520Z",
     "iopub.status.busy": "2022-06-28T21:20:44.034879Z",
     "iopub.status.idle": "2022-06-28T21:20:45.886408Z",
     "shell.execute_reply": "2022-06-28T21:20:45.884902Z"
    },
    "papermill": {
     "duration": 1.870322,
     "end_time": "2022-06-28T21:20:45.889641",
     "exception": false,
     "start_time": "2022-06-28T21:20:44.019319",
     "status": "completed"
    },
    "tags": []
   },
   "outputs": [
    {
     "name": "stderr",
     "output_type": "stream",
     "text": [
      "/opt/conda/lib/python3.7/site-packages/sklearn/utils/validation.py:1692: FutureWarning: Feature names only support names that are all strings. Got feature names with dtypes: ['int', 'str']. An error will be raised in 1.2.\n",
      "  FutureWarning,\n",
      "/opt/conda/lib/python3.7/site-packages/sklearn/utils/validation.py:1692: FutureWarning: Feature names only support names that are all strings. Got feature names with dtypes: ['int', 'str']. An error will be raised in 1.2.\n",
      "  FutureWarning,\n"
     ]
    }
   ],
   "source": [
    "# (Optional) Your code here\n",
    "\n",
    "\n",
    "for col in list(test):\n",
    "    test[col] = test[col].fillna(test[col].mean())\n",
    "\n",
    "model = RandomForestRegressor(n_estimators=100, random_state=0)\n",
    "model.fit(OH_X_train, y_train)\n",
    "preds = model.predict(test)\n",
    "\n",
    "output = pd.DataFrame({'Id': X_test.index,\n",
    "                       'SalePrice': preds})\n",
    "output.to_csv('submission.csv', index=False)"
   ]
  },
  {
   "cell_type": "markdown",
   "id": "c4bb24e9",
   "metadata": {
    "papermill": {
     "duration": 0.018551,
     "end_time": "2022-06-28T21:20:45.925554",
     "exception": false,
     "start_time": "2022-06-28T21:20:45.907003",
     "status": "completed"
    },
    "tags": []
   },
   "source": [
    "# Keep going\n",
    "\n",
    "With missing value handling and categorical encoding, your modeling process is getting complex. This complexity gets worse when you want to save your model to use in the future. The key to managing this complexity is something called **pipelines**. \n",
    "\n",
    "**[Learn to use pipelines](https://www.kaggle.com/alexisbcook/pipelines)** to preprocess datasets with categorical variables, missing values and any other messiness your data throws at you."
   ]
  },
  {
   "cell_type": "markdown",
   "id": "c6077364",
   "metadata": {
    "papermill": {
     "duration": 0.014588,
     "end_time": "2022-06-28T21:20:45.958460",
     "exception": false,
     "start_time": "2022-06-28T21:20:45.943872",
     "status": "completed"
    },
    "tags": []
   },
   "source": [
    "---\n",
    "\n",
    "\n",
    "\n",
    "\n",
    "*Have questions or comments? Visit the [course discussion forum](https://www.kaggle.com/learn/intermediate-machine-learning/discussion) to chat with other learners.*"
   ]
  }
 ],
 "metadata": {
  "kernelspec": {
   "display_name": "Python 3",
   "language": "python",
   "name": "python3"
  },
  "language_info": {
   "codemirror_mode": {
    "name": "ipython",
    "version": 3
   },
   "file_extension": ".py",
   "mimetype": "text/x-python",
   "name": "python",
   "nbconvert_exporter": "python",
   "pygments_lexer": "ipython3",
   "version": "3.7.12"
  },
  "papermill": {
   "default_parameters": {},
   "duration": 21.325269,
   "end_time": "2022-06-28T21:20:46.796192",
   "environment_variables": {},
   "exception": null,
   "input_path": "__notebook__.ipynb",
   "output_path": "__notebook__.ipynb",
   "parameters": {},
   "start_time": "2022-06-28T21:20:25.470923",
   "version": "2.3.4"
  }
 },
 "nbformat": 4,
 "nbformat_minor": 5
}
