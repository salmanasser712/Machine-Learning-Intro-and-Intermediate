{
 "cells": [
  {
   "cell_type": "markdown",
   "id": "4f2a2d37",
   "metadata": {
    "papermill": {
     "duration": 0.007321,
     "end_time": "2022-06-29T15:47:34.991687",
     "exception": false,
     "start_time": "2022-06-29T15:47:34.984366",
     "status": "completed"
    },
    "tags": []
   },
   "source": [
    "**This notebook is an exercise in the [Intermediate Machine Learning](https://www.kaggle.com/learn/intermediate-machine-learning) course.  You can reference the tutorial at [this link](https://www.kaggle.com/alexisbcook/xgboost).**\n",
    "\n",
    "---\n"
   ]
  },
  {
   "cell_type": "markdown",
   "id": "da013203",
   "metadata": {
    "papermill": {
     "duration": 0.005458,
     "end_time": "2022-06-29T15:47:35.003365",
     "exception": false,
     "start_time": "2022-06-29T15:47:34.997907",
     "status": "completed"
    },
    "tags": []
   },
   "source": [
    "In this exercise, you will use your new knowledge to train a model with **gradient boosting**.\n",
    "\n",
    "# Setup\n",
    "\n",
    "The questions below will give you feedback on your work. Run the following cell to set up the feedback system."
   ]
  },
  {
   "cell_type": "code",
   "execution_count": 1,
   "id": "18b57969",
   "metadata": {
    "execution": {
     "iopub.execute_input": "2022-06-29T15:47:35.017297Z",
     "iopub.status.busy": "2022-06-29T15:47:35.016812Z",
     "iopub.status.idle": "2022-06-29T15:47:37.561443Z",
     "shell.execute_reply": "2022-06-29T15:47:37.560429Z"
    },
    "papermill": {
     "duration": 2.555691,
     "end_time": "2022-06-29T15:47:37.564967",
     "exception": false,
     "start_time": "2022-06-29T15:47:35.009276",
     "status": "completed"
    },
    "tags": []
   },
   "outputs": [
    {
     "name": "stdout",
     "output_type": "stream",
     "text": [
      "Setup Complete\n"
     ]
    }
   ],
   "source": [
    "# Set up code checking\n",
    "import os\n",
    "if not os.path.exists(\"../input/train.csv\"):\n",
    "    os.symlink(\"../input/home-data-for-ml-course/train.csv\", \"../input/train.csv\")  \n",
    "    os.symlink(\"../input/home-data-for-ml-course/test.csv\", \"../input/test.csv\") \n",
    "from learntools.core import binder\n",
    "binder.bind(globals())\n",
    "from learntools.ml_intermediate.ex6 import *\n",
    "print(\"Setup Complete\")"
   ]
  },
  {
   "cell_type": "markdown",
   "id": "780558d6",
   "metadata": {
    "papermill": {
     "duration": 0.005465,
     "end_time": "2022-06-29T15:47:37.579359",
     "exception": false,
     "start_time": "2022-06-29T15:47:37.573894",
     "status": "completed"
    },
    "tags": []
   },
   "source": [
    "You will work with the [Housing Prices Competition for Kaggle Learn Users](https://www.kaggle.com/c/home-data-for-ml-course) dataset from the previous exercise. \n",
    "\n",
    "![Ames Housing dataset image](https://i.imgur.com/lTJVG4e.png)\n",
    "\n",
    "Run the next code cell without changes to load the training and validation sets in `X_train`, `X_valid`, `y_train`, and `y_valid`.  The test set is loaded in `X_test`."
   ]
  },
  {
   "cell_type": "code",
   "execution_count": 2,
   "id": "8c5ba713",
   "metadata": {
    "execution": {
     "iopub.execute_input": "2022-06-29T15:47:37.593642Z",
     "iopub.status.busy": "2022-06-29T15:47:37.592704Z",
     "iopub.status.idle": "2022-06-29T15:47:37.787541Z",
     "shell.execute_reply": "2022-06-29T15:47:37.786463Z"
    },
    "papermill": {
     "duration": 0.204576,
     "end_time": "2022-06-29T15:47:37.790179",
     "exception": false,
     "start_time": "2022-06-29T15:47:37.585603",
     "status": "completed"
    },
    "tags": []
   },
   "outputs": [],
   "source": [
    "import pandas as pd\n",
    "from sklearn.model_selection import train_test_split\n",
    "\n",
    "# Read the data\n",
    "X = pd.read_csv('../input/train.csv', index_col='Id')\n",
    "X_test_full = pd.read_csv('../input/test.csv', index_col='Id')\n",
    "\n",
    "# Remove rows with missing target, separate target from predictors\n",
    "X.dropna(axis=0, subset=['SalePrice'], inplace=True)\n",
    "y = X.SalePrice              \n",
    "X.drop(['SalePrice'], axis=1, inplace=True)\n",
    "\n",
    "# Break off validation set from training data\n",
    "X_train_full, X_valid_full, y_train, y_valid = train_test_split(X, y, train_size=0.8, test_size=0.2,\n",
    "                                                                random_state=0)\n",
    "\n",
    "# \"Cardinality\" means the number of unique values in a column\n",
    "# Select categorical columns with relatively low cardinality (convenient but arbitrary)\n",
    "low_cardinality_cols = [cname for cname in X_train_full.columns if X_train_full[cname].nunique() < 10 and \n",
    "                        X_train_full[cname].dtype == \"object\"]\n",
    "\n",
    "# Select numeric columns\n",
    "numeric_cols = [cname for cname in X_train_full.columns if X_train_full[cname].dtype in ['int64', 'float64']]\n",
    "\n",
    "# Keep selected columns only\n",
    "my_cols = low_cardinality_cols + numeric_cols\n",
    "X_train = X_train_full[my_cols].copy()\n",
    "X_valid = X_valid_full[my_cols].copy()\n",
    "X_test = X_test_full[my_cols].copy()\n",
    "\n",
    "# One-hot encode the data (to shorten the code, we use pandas)\n",
    "X_train = pd.get_dummies(X_train)\n",
    "X_valid = pd.get_dummies(X_valid)\n",
    "X_test = pd.get_dummies(X_test)\n",
    "X_train, X_valid = X_train.align(X_valid, join='left', axis=1)\n",
    "X_train, X_test = X_train.align(X_test, join='left', axis=1)"
   ]
  },
  {
   "cell_type": "markdown",
   "id": "6213c8fd",
   "metadata": {
    "papermill": {
     "duration": 0.005389,
     "end_time": "2022-06-29T15:47:37.801234",
     "exception": false,
     "start_time": "2022-06-29T15:47:37.795845",
     "status": "completed"
    },
    "tags": []
   },
   "source": [
    "# Step 1: Build model\n",
    "\n",
    "### Part A\n",
    "\n",
    "In this step, you'll build and train your first model with gradient boosting.\n",
    "\n",
    "- Begin by setting `my_model_1` to an XGBoost model.  Use the [XGBRegressor](https://xgboost.readthedocs.io/en/latest/python/python_api.html#xgboost.XGBRegressor) class, and set the random seed to 0 (`random_state=0`).  **Leave all other parameters as default.**\n",
    "- Then, fit the model to the training data in `X_train` and `y_train`."
   ]
  },
  {
   "cell_type": "code",
   "execution_count": 3,
   "id": "26526512",
   "metadata": {
    "execution": {
     "iopub.execute_input": "2022-06-29T15:47:37.814770Z",
     "iopub.status.busy": "2022-06-29T15:47:37.814372Z",
     "iopub.status.idle": "2022-06-29T15:47:38.745103Z",
     "shell.execute_reply": "2022-06-29T15:47:38.744006Z"
    },
    "papermill": {
     "duration": 0.940282,
     "end_time": "2022-06-29T15:47:38.747613",
     "exception": false,
     "start_time": "2022-06-29T15:47:37.807331",
     "status": "completed"
    },
    "tags": []
   },
   "outputs": [
    {
     "data": {
      "application/javascript": [
       "parent.postMessage({\"jupyterEvent\": \"custom.exercise_interaction\", \"data\": {\"outcomeType\": 1, \"valueTowardsCompletion\": 0.5, \"interactionType\": 1, \"questionType\": 2, \"questionId\": \"1.1_Model1A\", \"learnToolsVersion\": \"0.3.4\", \"failureMessage\": \"\", \"exceptionClass\": \"\", \"trace\": \"\"}}, \"*\")"
      ],
      "text/plain": [
       "<IPython.core.display.Javascript object>"
      ]
     },
     "metadata": {},
     "output_type": "display_data"
    },
    {
     "data": {
      "text/markdown": [
       "<span style=\"color:#33cc33\">Correct</span>"
      ],
      "text/plain": [
       "Correct"
      ]
     },
     "metadata": {},
     "output_type": "display_data"
    }
   ],
   "source": [
    "from xgboost import XGBRegressor\n",
    "\n",
    "# Define the model\n",
    "my_model_1 = XGBRegressor(random_state=0)\n",
    "\n",
    "# Fit the model\n",
    "my_model_1.fit(X_train, y_train)\n",
    "\n",
    "# Check your answer\n",
    "step_1.a.check()"
   ]
  },
  {
   "cell_type": "code",
   "execution_count": 4,
   "id": "7d70316e",
   "metadata": {
    "execution": {
     "iopub.execute_input": "2022-06-29T15:47:38.761951Z",
     "iopub.status.busy": "2022-06-29T15:47:38.761082Z",
     "iopub.status.idle": "2022-06-29T15:47:38.765851Z",
     "shell.execute_reply": "2022-06-29T15:47:38.764642Z"
    },
    "papermill": {
     "duration": 0.014335,
     "end_time": "2022-06-29T15:47:38.768103",
     "exception": false,
     "start_time": "2022-06-29T15:47:38.753768",
     "status": "completed"
    },
    "tags": []
   },
   "outputs": [],
   "source": [
    "# Lines below will give you a hint or solution code\n",
    "#step_1.a.hint()\n",
    "#step_1.a.solution()"
   ]
  },
  {
   "cell_type": "markdown",
   "id": "6391de3f",
   "metadata": {
    "papermill": {
     "duration": 0.005959,
     "end_time": "2022-06-29T15:47:38.780072",
     "exception": false,
     "start_time": "2022-06-29T15:47:38.774113",
     "status": "completed"
    },
    "tags": []
   },
   "source": [
    "### Part B\n",
    "\n",
    "Set `predictions_1` to the model's predictions for the validation data.  Recall that the validation features are stored in `X_valid`."
   ]
  },
  {
   "cell_type": "code",
   "execution_count": 5,
   "id": "a0a49486",
   "metadata": {
    "execution": {
     "iopub.execute_input": "2022-06-29T15:47:38.794551Z",
     "iopub.status.busy": "2022-06-29T15:47:38.793863Z",
     "iopub.status.idle": "2022-06-29T15:47:38.829025Z",
     "shell.execute_reply": "2022-06-29T15:47:38.827656Z"
    },
    "papermill": {
     "duration": 0.045373,
     "end_time": "2022-06-29T15:47:38.831729",
     "exception": false,
     "start_time": "2022-06-29T15:47:38.786356",
     "status": "completed"
    },
    "tags": []
   },
   "outputs": [
    {
     "data": {
      "application/javascript": [
       "parent.postMessage({\"jupyterEvent\": \"custom.exercise_interaction\", \"data\": {\"outcomeType\": 1, \"valueTowardsCompletion\": 0.5, \"interactionType\": 1, \"questionType\": 2, \"questionId\": \"1.2_Model1B\", \"learnToolsVersion\": \"0.3.4\", \"failureMessage\": \"\", \"exceptionClass\": \"\", \"trace\": \"\"}}, \"*\")"
      ],
      "text/plain": [
       "<IPython.core.display.Javascript object>"
      ]
     },
     "metadata": {},
     "output_type": "display_data"
    },
    {
     "data": {
      "text/markdown": [
       "<span style=\"color:#33cc33\">Correct</span>"
      ],
      "text/plain": [
       "Correct"
      ]
     },
     "metadata": {},
     "output_type": "display_data"
    }
   ],
   "source": [
    "from sklearn.metrics import mean_absolute_error\n",
    "\n",
    "# Get predictions\n",
    "predictions_1 = my_model_1.predict(X_valid)\n",
    "\n",
    "# Check your answer\n",
    "step_1.b.check()"
   ]
  },
  {
   "cell_type": "code",
   "execution_count": 6,
   "id": "15b4fca8",
   "metadata": {
    "execution": {
     "iopub.execute_input": "2022-06-29T15:47:38.846188Z",
     "iopub.status.busy": "2022-06-29T15:47:38.845763Z",
     "iopub.status.idle": "2022-06-29T15:47:38.850293Z",
     "shell.execute_reply": "2022-06-29T15:47:38.849200Z"
    },
    "papermill": {
     "duration": 0.014713,
     "end_time": "2022-06-29T15:47:38.852729",
     "exception": false,
     "start_time": "2022-06-29T15:47:38.838016",
     "status": "completed"
    },
    "tags": []
   },
   "outputs": [],
   "source": [
    "# Lines below will give you a hint or solution code\n",
    "#step_1.b.hint()\n",
    "#step_1.b.solution()"
   ]
  },
  {
   "cell_type": "markdown",
   "id": "ff726dbf",
   "metadata": {
    "papermill": {
     "duration": 0.005945,
     "end_time": "2022-06-29T15:47:38.864914",
     "exception": false,
     "start_time": "2022-06-29T15:47:38.858969",
     "status": "completed"
    },
    "tags": []
   },
   "source": [
    "### Part C\n",
    "\n",
    "Finally, use the `mean_absolute_error()` function to calculate the mean absolute error (MAE) corresponding to the predictions for the validation set.  Recall that the labels for the validation data are stored in `y_valid`."
   ]
  },
  {
   "cell_type": "code",
   "execution_count": 7,
   "id": "194120bf",
   "metadata": {
    "execution": {
     "iopub.execute_input": "2022-06-29T15:47:38.879061Z",
     "iopub.status.busy": "2022-06-29T15:47:38.878649Z",
     "iopub.status.idle": "2022-06-29T15:47:38.890064Z",
     "shell.execute_reply": "2022-06-29T15:47:38.888748Z"
    },
    "papermill": {
     "duration": 0.021773,
     "end_time": "2022-06-29T15:47:38.892850",
     "exception": false,
     "start_time": "2022-06-29T15:47:38.871077",
     "status": "completed"
    },
    "tags": []
   },
   "outputs": [
    {
     "name": "stdout",
     "output_type": "stream",
     "text": [
      "Mean Absolute Error: 17662.736729452055\n"
     ]
    },
    {
     "data": {
      "application/javascript": [
       "parent.postMessage({\"jupyterEvent\": \"custom.exercise_interaction\", \"data\": {\"outcomeType\": 1, \"valueTowardsCompletion\": 0.5, \"interactionType\": 1, \"questionType\": 2, \"questionId\": \"1.3_Model1C\", \"learnToolsVersion\": \"0.3.4\", \"failureMessage\": \"\", \"exceptionClass\": \"\", \"trace\": \"\"}}, \"*\")"
      ],
      "text/plain": [
       "<IPython.core.display.Javascript object>"
      ]
     },
     "metadata": {},
     "output_type": "display_data"
    },
    {
     "data": {
      "text/markdown": [
       "<span style=\"color:#33cc33\">Correct</span>"
      ],
      "text/plain": [
       "Correct"
      ]
     },
     "metadata": {},
     "output_type": "display_data"
    }
   ],
   "source": [
    "# Calculate MAE\n",
    "mae_1 = mean_absolute_error(predictions_1, y_valid)\n",
    "\n",
    "# Uncomment to print MAE\n",
    "print(\"Mean Absolute Error:\" , mae_1)\n",
    "\n",
    "# Check your answer\n",
    "step_1.c.check()"
   ]
  },
  {
   "cell_type": "code",
   "execution_count": 8,
   "id": "3f9debb7",
   "metadata": {
    "execution": {
     "iopub.execute_input": "2022-06-29T15:47:38.907958Z",
     "iopub.status.busy": "2022-06-29T15:47:38.907549Z",
     "iopub.status.idle": "2022-06-29T15:47:38.911321Z",
     "shell.execute_reply": "2022-06-29T15:47:38.910556Z"
    },
    "papermill": {
     "duration": 0.013747,
     "end_time": "2022-06-29T15:47:38.913332",
     "exception": false,
     "start_time": "2022-06-29T15:47:38.899585",
     "status": "completed"
    },
    "tags": []
   },
   "outputs": [],
   "source": [
    "# Lines below will give you a hint or solution code\n",
    "#step_1.c.hint()\n",
    "#step_1.c.solution()"
   ]
  },
  {
   "cell_type": "markdown",
   "id": "01047316",
   "metadata": {
    "papermill": {
     "duration": 0.006616,
     "end_time": "2022-06-29T15:47:38.926650",
     "exception": false,
     "start_time": "2022-06-29T15:47:38.920034",
     "status": "completed"
    },
    "tags": []
   },
   "source": [
    "# Step 2: Improve the model\n",
    "\n",
    "Now that you've trained a default model as baseline, it's time to tinker with the parameters, to see if you can get better performance!\n",
    "- Begin by setting `my_model_2` to an XGBoost model, using the [XGBRegressor](https://xgboost.readthedocs.io/en/latest/python/python_api.html#xgboost.XGBRegressor) class.  Use what you learned in the previous tutorial to figure out how to change the default parameters (like `n_estimators` and `learning_rate`) to get better results.\n",
    "- Then, fit the model to the training data in `X_train` and `y_train`.\n",
    "- Set `predictions_2` to the model's predictions for the validation data.  Recall that the validation features are stored in `X_valid`.\n",
    "- Finally, use the `mean_absolute_error()` function to calculate the mean absolute error (MAE) corresponding to the predictions on the validation set.  Recall that the labels for the validation data are stored in `y_valid`.\n",
    "\n",
    "In order for this step to be marked correct, your model in `my_model_2` must attain lower MAE than the model in `my_model_1`. "
   ]
  },
  {
   "cell_type": "code",
   "execution_count": 9,
   "id": "3eb6dfbe",
   "metadata": {
    "execution": {
     "iopub.execute_input": "2022-06-29T15:47:38.942937Z",
     "iopub.status.busy": "2022-06-29T15:47:38.942228Z",
     "iopub.status.idle": "2022-06-29T15:47:48.937499Z",
     "shell.execute_reply": "2022-06-29T15:47:48.936479Z"
    },
    "papermill": {
     "duration": 10.005984,
     "end_time": "2022-06-29T15:47:48.939895",
     "exception": false,
     "start_time": "2022-06-29T15:47:38.933911",
     "status": "completed"
    },
    "tags": []
   },
   "outputs": [
    {
     "name": "stderr",
     "output_type": "stream",
     "text": [
      "/opt/conda/lib/python3.7/site-packages/xgboost/sklearn.py:797: UserWarning: `early_stopping_rounds` in `fit` method is deprecated for better compatibility with scikit-learn, use `early_stopping_rounds` in constructor or`set_params` instead.\n",
      "  UserWarning,\n"
     ]
    },
    {
     "name": "stdout",
     "output_type": "stream",
     "text": [
      "Mean Absolute Error: 16935.497377996577\n"
     ]
    },
    {
     "data": {
      "application/javascript": [
       "parent.postMessage({\"jupyterEvent\": \"custom.exercise_interaction\", \"data\": {\"outcomeType\": 1, \"valueTowardsCompletion\": 0.5, \"interactionType\": 1, \"questionType\": 2, \"questionId\": \"2_Model2\", \"learnToolsVersion\": \"0.3.4\", \"failureMessage\": \"\", \"exceptionClass\": \"\", \"trace\": \"\"}}, \"*\")"
      ],
      "text/plain": [
       "<IPython.core.display.Javascript object>"
      ]
     },
     "metadata": {},
     "output_type": "display_data"
    },
    {
     "data": {
      "text/markdown": [
       "<span style=\"color:#33cc33\">Correct</span>"
      ],
      "text/plain": [
       "Correct"
      ]
     },
     "metadata": {},
     "output_type": "display_data"
    }
   ],
   "source": [
    "# Define the model\n",
    "my_model_2 = XGBRegressor(n_estimators=1000, learning_rate=0.01)\n",
    "\n",
    "# Fit the model\n",
    "my_model_2.fit(X_train, y_train, \n",
    "             early_stopping_rounds=7, \n",
    "             eval_set=[(X_valid, y_valid)], \n",
    "             verbose=False)\n",
    "\n",
    "# Get predictions\n",
    "predictions_2 = my_model_2.predict(X_valid)\n",
    "\n",
    "# Calculate MAE\n",
    "mae_2 = mean_absolute_error(predictions_2, y_valid)\n",
    "\n",
    "# Uncomment to print MAE\n",
    "print(\"Mean Absolute Error:\" , mae_2)\n",
    "\n",
    "# Check your answer\n",
    "step_2.check()"
   ]
  },
  {
   "cell_type": "code",
   "execution_count": 10,
   "id": "86b82f75",
   "metadata": {
    "execution": {
     "iopub.execute_input": "2022-06-29T15:47:48.957622Z",
     "iopub.status.busy": "2022-06-29T15:47:48.957213Z",
     "iopub.status.idle": "2022-06-29T15:47:48.961371Z",
     "shell.execute_reply": "2022-06-29T15:47:48.960533Z"
    },
    "papermill": {
     "duration": 0.015312,
     "end_time": "2022-06-29T15:47:48.963395",
     "exception": false,
     "start_time": "2022-06-29T15:47:48.948083",
     "status": "completed"
    },
    "tags": []
   },
   "outputs": [],
   "source": [
    "# Lines below will give you a hint or solution code\n",
    "#step_2.hint()\n",
    "#step_2.solution()"
   ]
  },
  {
   "cell_type": "markdown",
   "id": "257935ba",
   "metadata": {
    "papermill": {
     "duration": 0.006866,
     "end_time": "2022-06-29T15:47:48.978273",
     "exception": false,
     "start_time": "2022-06-29T15:47:48.971407",
     "status": "completed"
    },
    "tags": []
   },
   "source": [
    "# Step 3: Break the model\n",
    "\n",
    "In this step, you will create a model that performs worse than the original model in Step 1.  This will help you to develop your intuition for how to set parameters.  You might even find that you accidentally get better performance, which is ultimately a nice problem to have and a valuable learning experience!\n",
    "- Begin by setting `my_model_3` to an XGBoost model, using the [XGBRegressor](https://xgboost.readthedocs.io/en/latest/python/python_api.html#xgboost.XGBRegressor) class.  Use what you learned in the previous tutorial to figure out how to change the default parameters (like `n_estimators` and `learning_rate`) to design a model to get high MAE.\n",
    "- Then, fit the model to the training data in `X_train` and `y_train`.\n",
    "- Set `predictions_3` to the model's predictions for the validation data.  Recall that the validation features are stored in `X_valid`.\n",
    "- Finally, use the `mean_absolute_error()` function to calculate the mean absolute error (MAE) corresponding to the predictions on the validation set.  Recall that the labels for the validation data are stored in `y_valid`.\n",
    "\n",
    "In order for this step to be marked correct, your model in `my_model_3` must attain higher MAE than the model in `my_model_1`. "
   ]
  },
  {
   "cell_type": "code",
   "execution_count": 11,
   "id": "7a8b41a5",
   "metadata": {
    "execution": {
     "iopub.execute_input": "2022-06-29T15:47:48.995192Z",
     "iopub.status.busy": "2022-06-29T15:47:48.994452Z",
     "iopub.status.idle": "2022-06-29T15:47:49.098612Z",
     "shell.execute_reply": "2022-06-29T15:47:49.097044Z"
    },
    "papermill": {
     "duration": 0.116211,
     "end_time": "2022-06-29T15:47:49.101617",
     "exception": false,
     "start_time": "2022-06-29T15:47:48.985406",
     "status": "completed"
    },
    "tags": []
   },
   "outputs": [
    {
     "name": "stdout",
     "output_type": "stream",
     "text": [
      "Mean Absolute Error: 34987.65813623716\n"
     ]
    },
    {
     "data": {
      "application/javascript": [
       "parent.postMessage({\"jupyterEvent\": \"custom.exercise_interaction\", \"data\": {\"outcomeType\": 1, \"valueTowardsCompletion\": 0.5, \"interactionType\": 1, \"questionType\": 2, \"questionId\": \"3_Model3\", \"learnToolsVersion\": \"0.3.4\", \"failureMessage\": \"\", \"exceptionClass\": \"\", \"trace\": \"\"}}, \"*\")"
      ],
      "text/plain": [
       "<IPython.core.display.Javascript object>"
      ]
     },
     "metadata": {},
     "output_type": "display_data"
    },
    {
     "data": {
      "text/markdown": [
       "<span style=\"color:#33cc33\">Correct</span>"
      ],
      "text/plain": [
       "Correct"
      ]
     },
     "metadata": {},
     "output_type": "display_data"
    }
   ],
   "source": [
    "# Define the model\n",
    "my_model_3 = XGBRegressor(n_estimators=5)\n",
    "\n",
    "# Fit the model\n",
    "my_model_3.fit(X_train, y_train)\n",
    "\n",
    "# Get predictions\n",
    "predictions_3 = my_model_3.predict(X_valid)\n",
    "\n",
    "# Calculate MAE\n",
    "mae_3 = mean_absolute_error(predictions_3, y_valid)\n",
    "\n",
    "# Uncomment to print MAE\n",
    "print(\"Mean Absolute Error:\" , mae_3)\n",
    "\n",
    "# Check your answer\n",
    "step_3.check()"
   ]
  },
  {
   "cell_type": "code",
   "execution_count": 12,
   "id": "d2125806",
   "metadata": {
    "execution": {
     "iopub.execute_input": "2022-06-29T15:47:49.120535Z",
     "iopub.status.busy": "2022-06-29T15:47:49.119867Z",
     "iopub.status.idle": "2022-06-29T15:47:49.124801Z",
     "shell.execute_reply": "2022-06-29T15:47:49.123704Z"
    },
    "papermill": {
     "duration": 0.017124,
     "end_time": "2022-06-29T15:47:49.127564",
     "exception": false,
     "start_time": "2022-06-29T15:47:49.110440",
     "status": "completed"
    },
    "tags": []
   },
   "outputs": [],
   "source": [
    "# Lines below will give you a hint or solution code\n",
    "#step_3.hint()\n",
    "#step_3.solution()"
   ]
  },
  {
   "cell_type": "markdown",
   "id": "00d1441e",
   "metadata": {
    "papermill": {
     "duration": 0.007366,
     "end_time": "2022-06-29T15:47:49.142847",
     "exception": false,
     "start_time": "2022-06-29T15:47:49.135481",
     "status": "completed"
    },
    "tags": []
   },
   "source": [
    "# Keep going\n",
    "\n",
    "Continue to learn about **[data leakage](https://www.kaggle.com/alexisbcook/data-leakage)**.  This is an important issue for a data scientist to understand, and it has the potential to ruin your models in subtle and dangerous ways!"
   ]
  },
  {
   "cell_type": "markdown",
   "id": "fb5e8d02",
   "metadata": {
    "papermill": {
     "duration": 0.007449,
     "end_time": "2022-06-29T15:47:49.158019",
     "exception": false,
     "start_time": "2022-06-29T15:47:49.150570",
     "status": "completed"
    },
    "tags": []
   },
   "source": [
    "---\n",
    "\n",
    "\n",
    "\n",
    "\n",
    "*Have questions or comments? Visit the [course discussion forum](https://www.kaggle.com/learn/intermediate-machine-learning/discussion) to chat with other learners.*"
   ]
  }
 ],
 "metadata": {
  "kernelspec": {
   "display_name": "Python 3",
   "language": "python",
   "name": "python3"
  },
  "language_info": {
   "codemirror_mode": {
    "name": "ipython",
    "version": 3
   },
   "file_extension": ".py",
   "mimetype": "text/x-python",
   "name": "python",
   "nbconvert_exporter": "python",
   "pygments_lexer": "ipython3",
   "version": "3.7.12"
  },
  "papermill": {
   "default_parameters": {},
   "duration": 25.248827,
   "end_time": "2022-06-29T15:47:49.887526",
   "environment_variables": {},
   "exception": null,
   "input_path": "__notebook__.ipynb",
   "output_path": "__notebook__.ipynb",
   "parameters": {},
   "start_time": "2022-06-29T15:47:24.638699",
   "version": "2.3.4"
  }
 },
 "nbformat": 4,
 "nbformat_minor": 5
}
