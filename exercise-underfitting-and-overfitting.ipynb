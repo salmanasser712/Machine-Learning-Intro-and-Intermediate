{
 "cells": [
  {
   "cell_type": "markdown",
   "id": "8c731712",
   "metadata": {
    "papermill": {
     "duration": 0.004892,
     "end_time": "2022-06-27T21:13:49.601629",
     "exception": false,
     "start_time": "2022-06-27T21:13:49.596737",
     "status": "completed"
    },
    "tags": []
   },
   "source": [
    "**This notebook is an exercise in the [Introduction to Machine Learning](https://www.kaggle.com/learn/intro-to-machine-learning) course.  You can reference the tutorial at [this link](https://www.kaggle.com/dansbecker/underfitting-and-overfitting).**\n",
    "\n",
    "---\n"
   ]
  },
  {
   "cell_type": "markdown",
   "id": "c6c5ee21",
   "metadata": {
    "papermill": {
     "duration": 0.00358,
     "end_time": "2022-06-27T21:13:49.609349",
     "exception": false,
     "start_time": "2022-06-27T21:13:49.605769",
     "status": "completed"
    },
    "tags": []
   },
   "source": [
    "## Recap\n",
    "You've built your first model, and now it's time to optimize the size of the tree to make better predictions. Run this cell to set up your coding environment where the previous step left off."
   ]
  },
  {
   "cell_type": "code",
   "execution_count": 1,
   "id": "fe5ac4e0",
   "metadata": {
    "execution": {
     "iopub.execute_input": "2022-06-27T21:13:49.619193Z",
     "iopub.status.busy": "2022-06-27T21:13:49.618772Z",
     "iopub.status.idle": "2022-06-27T21:13:51.138182Z",
     "shell.execute_reply": "2022-06-27T21:13:51.136458Z"
    },
    "papermill": {
     "duration": 1.528473,
     "end_time": "2022-06-27T21:13:51.141709",
     "exception": false,
     "start_time": "2022-06-27T21:13:49.613236",
     "status": "completed"
    },
    "tags": []
   },
   "outputs": [
    {
     "name": "stdout",
     "output_type": "stream",
     "text": [
      "Validation MAE: 29,653\n",
      "\n",
      "Setup complete\n"
     ]
    }
   ],
   "source": [
    "# Code you have previously used to load data\n",
    "import pandas as pd\n",
    "from sklearn.metrics import mean_absolute_error\n",
    "from sklearn.model_selection import train_test_split\n",
    "from sklearn.tree import DecisionTreeRegressor\n",
    "\n",
    "\n",
    "# Path of the file to read\n",
    "iowa_file_path = '../input/home-data-for-ml-course/train.csv'\n",
    "\n",
    "home_data = pd.read_csv(iowa_file_path)\n",
    "# Create target object and call it y\n",
    "y = home_data.SalePrice\n",
    "# Create X\n",
    "features = ['LotArea', 'YearBuilt', '1stFlrSF', '2ndFlrSF', 'FullBath', 'BedroomAbvGr', 'TotRmsAbvGrd']\n",
    "X = home_data[features]\n",
    "\n",
    "# Split into validation and training data\n",
    "train_X, val_X, train_y, val_y = train_test_split(X, y, random_state=1)\n",
    "\n",
    "# Specify Model\n",
    "iowa_model = DecisionTreeRegressor(random_state=1)\n",
    "# Fit Model\n",
    "iowa_model.fit(train_X, train_y)\n",
    "\n",
    "# Make validation predictions and calculate mean absolute error\n",
    "val_predictions = iowa_model.predict(val_X)\n",
    "val_mae = mean_absolute_error(val_predictions, val_y)\n",
    "print(\"Validation MAE: {:,.0f}\".format(val_mae))\n",
    "\n",
    "# Set up code checking\n",
    "from learntools.core import binder\n",
    "binder.bind(globals())\n",
    "from learntools.machine_learning.ex5 import *\n",
    "print(\"\\nSetup complete\")"
   ]
  },
  {
   "cell_type": "markdown",
   "id": "56819438",
   "metadata": {
    "papermill": {
     "duration": 0.003671,
     "end_time": "2022-06-27T21:13:51.149852",
     "exception": false,
     "start_time": "2022-06-27T21:13:51.146181",
     "status": "completed"
    },
    "tags": []
   },
   "source": [
    "# Exercises\n",
    "You could write the function `get_mae` yourself. For now, we'll supply it. This is the same function you read about in the previous lesson. Just run the cell below."
   ]
  },
  {
   "cell_type": "code",
   "execution_count": 2,
   "id": "b64f9a19",
   "metadata": {
    "execution": {
     "iopub.execute_input": "2022-06-27T21:13:51.160414Z",
     "iopub.status.busy": "2022-06-27T21:13:51.159748Z",
     "iopub.status.idle": "2022-06-27T21:13:51.165141Z",
     "shell.execute_reply": "2022-06-27T21:13:51.164297Z"
    },
    "papermill": {
     "duration": 0.013367,
     "end_time": "2022-06-27T21:13:51.167548",
     "exception": false,
     "start_time": "2022-06-27T21:13:51.154181",
     "status": "completed"
    },
    "tags": []
   },
   "outputs": [],
   "source": [
    "def get_mae(max_leaf_nodes, train_X, val_X, train_y, val_y):\n",
    "    model = DecisionTreeRegressor(max_leaf_nodes=max_leaf_nodes, random_state=0)\n",
    "    model.fit(train_X, train_y)\n",
    "    preds_val = model.predict(val_X)\n",
    "    mae = mean_absolute_error(val_y, preds_val)\n",
    "    return(mae)"
   ]
  },
  {
   "cell_type": "markdown",
   "id": "ed9d289a",
   "metadata": {
    "papermill": {
     "duration": 0.003891,
     "end_time": "2022-06-27T21:13:51.176187",
     "exception": false,
     "start_time": "2022-06-27T21:13:51.172296",
     "status": "completed"
    },
    "tags": []
   },
   "source": [
    "## Step 1: Compare Different Tree Sizes\n",
    "Write a loop that tries the following values for *max_leaf_nodes* from a set of possible values.\n",
    "\n",
    "Call the *get_mae* function on each value of max_leaf_nodes. Store the output in some way that allows you to select the value of `max_leaf_nodes` that gives the most accurate model on your data."
   ]
  },
  {
   "cell_type": "code",
   "execution_count": 3,
   "id": "eae7ca95",
   "metadata": {
    "execution": {
     "iopub.execute_input": "2022-06-27T21:13:51.186880Z",
     "iopub.status.busy": "2022-06-27T21:13:51.186221Z",
     "iopub.status.idle": "2022-06-27T21:13:51.235249Z",
     "shell.execute_reply": "2022-06-27T21:13:51.234378Z"
    },
    "papermill": {
     "duration": 0.05683,
     "end_time": "2022-06-27T21:13:51.237376",
     "exception": false,
     "start_time": "2022-06-27T21:13:51.180546",
     "status": "completed"
    },
    "tags": []
   },
   "outputs": [
    {
     "data": {
      "application/javascript": [
       "parent.postMessage({\"jupyterEvent\": \"custom.exercise_interaction\", \"data\": {\"outcomeType\": 1, \"valueTowardsCompletion\": 0.5, \"interactionType\": 1, \"questionType\": 1, \"questionId\": \"1_BestTreeSize\", \"learnToolsVersion\": \"0.3.4\", \"failureMessage\": \"\", \"exceptionClass\": \"\", \"trace\": \"\"}}, \"*\")"
      ],
      "text/plain": [
       "<IPython.core.display.Javascript object>"
      ]
     },
     "metadata": {},
     "output_type": "display_data"
    },
    {
     "data": {
      "text/markdown": [
       "<span style=\"color:#33cc33\">Correct</span>"
      ],
      "text/plain": [
       "Correct"
      ]
     },
     "metadata": {},
     "output_type": "display_data"
    }
   ],
   "source": [
    "candidate_max_leaf_nodes = [5, 25, 50, 100, 250, 500]\n",
    "# Write loop to find the ideal tree size from candidate_max_leaf_nodes\n",
    "mn = 100000000.0\n",
    "t = 0\n",
    "def solve():\n",
    "    global mn\n",
    "    global t\n",
    "    for node in candidate_max_leaf_nodes:\n",
    "        w = get_mae(node, train_X, val_X, train_y, val_y)\n",
    "        if w < mn:\n",
    "            mn = w\n",
    "            t = node\n",
    "            \n",
    "solve()\n",
    "\n",
    "# Store the best value of max_leaf_nodes (it will be either 5, 25, 50, 100, 250 or 500)\n",
    "best_tree_size = t\n",
    "\n",
    "# Check your answer\n",
    "step_1.check()"
   ]
  },
  {
   "cell_type": "code",
   "execution_count": 4,
   "id": "24cf2058",
   "metadata": {
    "execution": {
     "iopub.execute_input": "2022-06-27T21:13:51.248183Z",
     "iopub.status.busy": "2022-06-27T21:13:51.247577Z",
     "iopub.status.idle": "2022-06-27T21:13:51.251278Z",
     "shell.execute_reply": "2022-06-27T21:13:51.250412Z"
    },
    "papermill": {
     "duration": 0.011824,
     "end_time": "2022-06-27T21:13:51.253609",
     "exception": false,
     "start_time": "2022-06-27T21:13:51.241785",
     "status": "completed"
    },
    "tags": []
   },
   "outputs": [],
   "source": [
    "# The lines below will show you a hint or the solution.\n",
    " #step_1.hint() \n",
    " #step_1.solution()"
   ]
  },
  {
   "cell_type": "markdown",
   "id": "5487542d",
   "metadata": {
    "papermill": {
     "duration": 0.004099,
     "end_time": "2022-06-27T21:13:51.262204",
     "exception": false,
     "start_time": "2022-06-27T21:13:51.258105",
     "status": "completed"
    },
    "tags": []
   },
   "source": [
    "## Step 2: Fit Model Using All Data\n",
    "You know the best tree size. If you were going to deploy this model in practice, you would make it even more accurate by using all of the data and keeping that tree size.  That is, you don't need to hold out the validation data now that you've made all your modeling decisions."
   ]
  },
  {
   "cell_type": "code",
   "execution_count": 5,
   "id": "c217968d",
   "metadata": {
    "execution": {
     "iopub.execute_input": "2022-06-27T21:13:51.272456Z",
     "iopub.status.busy": "2022-06-27T21:13:51.272025Z",
     "iopub.status.idle": "2022-06-27T21:13:51.291043Z",
     "shell.execute_reply": "2022-06-27T21:13:51.289802Z"
    },
    "papermill": {
     "duration": 0.027091,
     "end_time": "2022-06-27T21:13:51.293553",
     "exception": false,
     "start_time": "2022-06-27T21:13:51.266462",
     "status": "completed"
    },
    "tags": []
   },
   "outputs": [
    {
     "data": {
      "application/javascript": [
       "parent.postMessage({\"jupyterEvent\": \"custom.exercise_interaction\", \"data\": {\"outcomeType\": 1, \"valueTowardsCompletion\": 0.5, \"interactionType\": 1, \"questionType\": 2, \"questionId\": \"2_FitModelWithAllData\", \"learnToolsVersion\": \"0.3.4\", \"failureMessage\": \"\", \"exceptionClass\": \"\", \"trace\": \"\"}}, \"*\")"
      ],
      "text/plain": [
       "<IPython.core.display.Javascript object>"
      ]
     },
     "metadata": {},
     "output_type": "display_data"
    },
    {
     "data": {
      "text/markdown": [
       "<span style=\"color:#33cc33\">Correct</span>"
      ],
      "text/plain": [
       "Correct"
      ]
     },
     "metadata": {},
     "output_type": "display_data"
    }
   ],
   "source": [
    "# Fill in argument to make optimal size and uncomment\n",
    "final_model = DecisionTreeRegressor(max_leaf_nodes=best_tree_size, random_state=0)\n",
    "\n",
    "# fit the final model and uncomment the next two lines\n",
    "final_model.fit(X, y)\n",
    "\n",
    "# Check your answer\n",
    "step_2.check()"
   ]
  },
  {
   "cell_type": "code",
   "execution_count": 6,
   "id": "33960d20",
   "metadata": {
    "execution": {
     "iopub.execute_input": "2022-06-27T21:13:51.305302Z",
     "iopub.status.busy": "2022-06-27T21:13:51.304880Z",
     "iopub.status.idle": "2022-06-27T21:13:51.317962Z",
     "shell.execute_reply": "2022-06-27T21:13:51.316715Z"
    },
    "papermill": {
     "duration": 0.02184,
     "end_time": "2022-06-27T21:13:51.320095",
     "exception": false,
     "start_time": "2022-06-27T21:13:51.298255",
     "status": "completed"
    },
    "tags": []
   },
   "outputs": [
    {
     "name": "stdout",
     "output_type": "stream",
     "text": [
      "27282.50803885739\n"
     ]
    }
   ],
   "source": [
    "# step_2.hint()\n",
    "# step_2.solution()\n",
    "print(get_mae(best_tree_size, train_X, val_X, train_y, val_y))"
   ]
  },
  {
   "cell_type": "markdown",
   "id": "ade9ca34",
   "metadata": {
    "papermill": {
     "duration": 0.00458,
     "end_time": "2022-06-27T21:13:51.329462",
     "exception": false,
     "start_time": "2022-06-27T21:13:51.324882",
     "status": "completed"
    },
    "tags": []
   },
   "source": [
    "You've tuned this model and improved your results. But we are still using Decision Tree models, which are not very sophisticated by modern machine learning standards. In the next step you will learn to use Random Forests to improve your models even more.\n",
    "\n",
    "# Keep Going\n",
    "\n",
    "You are ready for **[Random Forests](https://www.kaggle.com/dansbecker/random-forests).**\n"
   ]
  },
  {
   "cell_type": "markdown",
   "id": "64061af3",
   "metadata": {
    "papermill": {
     "duration": 0.004326,
     "end_time": "2022-06-27T21:13:51.338393",
     "exception": false,
     "start_time": "2022-06-27T21:13:51.334067",
     "status": "completed"
    },
    "tags": []
   },
   "source": [
    "---\n",
    "\n",
    "\n",
    "\n",
    "\n",
    "*Have questions or comments? Visit the [course discussion forum](https://www.kaggle.com/learn/intro-to-machine-learning/discussion) to chat with other learners.*"
   ]
  }
 ],
 "metadata": {
  "kernelspec": {
   "display_name": "Python 3",
   "language": "python",
   "name": "python3"
  },
  "language_info": {
   "codemirror_mode": {
    "name": "ipython",
    "version": 3
   },
   "file_extension": ".py",
   "mimetype": "text/x-python",
   "name": "python",
   "nbconvert_exporter": "python",
   "pygments_lexer": "ipython3",
   "version": "3.7.12"
  },
  "papermill": {
   "default_parameters": {},
   "duration": 13.501675,
   "end_time": "2022-06-27T21:13:52.064971",
   "environment_variables": {},
   "exception": null,
   "input_path": "__notebook__.ipynb",
   "output_path": "__notebook__.ipynb",
   "parameters": {},
   "start_time": "2022-06-27T21:13:38.563296",
   "version": "2.3.4"
  }
 },
 "nbformat": 4,
 "nbformat_minor": 5
}
