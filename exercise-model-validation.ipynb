{
 "cells": [
  {
   "cell_type": "markdown",
   "id": "a2f7e621",
   "metadata": {
    "papermill": {
     "duration": 0.006769,
     "end_time": "2022-06-27T20:47:44.041432",
     "exception": false,
     "start_time": "2022-06-27T20:47:44.034663",
     "status": "completed"
    },
    "tags": []
   },
   "source": [
    "**This notebook is an exercise in the [Introduction to Machine Learning](https://www.kaggle.com/learn/intro-to-machine-learning) course.  You can reference the tutorial at [this link](https://www.kaggle.com/dansbecker/model-validation).**\n",
    "\n",
    "---\n"
   ]
  },
  {
   "cell_type": "markdown",
   "id": "677ae777",
   "metadata": {
    "papermill": {
     "duration": 0.004677,
     "end_time": "2022-06-27T20:47:44.051407",
     "exception": false,
     "start_time": "2022-06-27T20:47:44.046730",
     "status": "completed"
    },
    "tags": []
   },
   "source": [
    "## Recap\n",
    "You've built a model. In this exercise you will test how good your model is.\n",
    "\n",
    "Run the cell below to set up your coding environment where the previous exercise left off."
   ]
  },
  {
   "cell_type": "code",
   "execution_count": 1,
   "id": "51710467",
   "metadata": {
    "execution": {
     "iopub.execute_input": "2022-06-27T20:47:44.064624Z",
     "iopub.status.busy": "2022-06-27T20:47:44.064017Z",
     "iopub.status.idle": "2022-06-27T20:47:45.396890Z",
     "shell.execute_reply": "2022-06-27T20:47:45.395516Z"
    },
    "papermill": {
     "duration": 1.342338,
     "end_time": "2022-06-27T20:47:45.399536",
     "exception": false,
     "start_time": "2022-06-27T20:47:44.057198",
     "status": "completed"
    },
    "tags": []
   },
   "outputs": [
    {
     "name": "stdout",
     "output_type": "stream",
     "text": [
      "First in-sample predictions: [208500. 181500. 223500. 140000. 250000.]\n",
      "Actual target values for those homes: [208500, 181500, 223500, 140000, 250000]\n",
      "Setup Complete\n"
     ]
    }
   ],
   "source": [
    "# Code you have previously used to load data\n",
    "import pandas as pd\n",
    "from sklearn.tree import DecisionTreeRegressor\n",
    "\n",
    "# Path of the file to read\n",
    "iowa_file_path = '../input/home-data-for-ml-course/train.csv'\n",
    "\n",
    "home_data = pd.read_csv(iowa_file_path)\n",
    "y = home_data.SalePrice\n",
    "feature_columns = ['LotArea', 'YearBuilt', '1stFlrSF', '2ndFlrSF', 'FullBath', 'BedroomAbvGr', 'TotRmsAbvGrd']\n",
    "X = home_data[feature_columns]\n",
    "\n",
    "# Specify Model\n",
    "iowa_model = DecisionTreeRegressor()\n",
    "# Fit Model\n",
    "iowa_model.fit(X, y)\n",
    "\n",
    "print(\"First in-sample predictions:\", iowa_model.predict(X.head()))\n",
    "print(\"Actual target values for those homes:\", y.head().tolist())\n",
    "\n",
    "# Set up code checking\n",
    "from learntools.core import binder\n",
    "binder.bind(globals())\n",
    "from learntools.machine_learning.ex4 import *\n",
    "print(\"Setup Complete\")"
   ]
  },
  {
   "cell_type": "markdown",
   "id": "913aaf40",
   "metadata": {
    "papermill": {
     "duration": 0.005065,
     "end_time": "2022-06-27T20:47:45.410130",
     "exception": false,
     "start_time": "2022-06-27T20:47:45.405065",
     "status": "completed"
    },
    "tags": []
   },
   "source": [
    "# Exercises\n",
    "\n",
    "## Step 1: Split Your Data\n",
    "Use the `train_test_split` function to split up your data.\n",
    "\n",
    "Give it the argument `random_state=1` so the `check` functions know what to expect when verifying your code.\n",
    "\n",
    "Recall, your features are loaded in the DataFrame **X** and your target is loaded in **y**.\n"
   ]
  },
  {
   "cell_type": "code",
   "execution_count": 2,
   "id": "aa552681",
   "metadata": {
    "execution": {
     "iopub.execute_input": "2022-06-27T20:47:45.422377Z",
     "iopub.status.busy": "2022-06-27T20:47:45.421998Z",
     "iopub.status.idle": "2022-06-27T20:47:45.437401Z",
     "shell.execute_reply": "2022-06-27T20:47:45.436234Z"
    },
    "papermill": {
     "duration": 0.024684,
     "end_time": "2022-06-27T20:47:45.440115",
     "exception": false,
     "start_time": "2022-06-27T20:47:45.415431",
     "status": "completed"
    },
    "tags": []
   },
   "outputs": [
    {
     "data": {
      "application/javascript": [
       "parent.postMessage({\"jupyterEvent\": \"custom.exercise_interaction\", \"data\": {\"outcomeType\": 1, \"valueTowardsCompletion\": 0.25, \"interactionType\": 1, \"questionType\": 2, \"questionId\": \"1_SplitData\", \"learnToolsVersion\": \"0.3.4\", \"failureMessage\": \"\", \"exceptionClass\": \"\", \"trace\": \"\"}}, \"*\")"
      ],
      "text/plain": [
       "<IPython.core.display.Javascript object>"
      ]
     },
     "metadata": {},
     "output_type": "display_data"
    },
    {
     "data": {
      "text/markdown": [
       "<span style=\"color:#33cc33\">Correct</span>"
      ],
      "text/plain": [
       "Correct"
      ]
     },
     "metadata": {},
     "output_type": "display_data"
    }
   ],
   "source": [
    "# Import the train_test_split function and uncomment\n",
    "from sklearn.model_selection import train_test_split\n",
    "\n",
    "# fill in and uncomment\n",
    "train_X, val_X, train_y, val_y = train_test_split(X, y, random_state = 1)\n",
    "\n",
    "# Check your answer\n",
    "step_1.check()"
   ]
  },
  {
   "cell_type": "code",
   "execution_count": 3,
   "id": "5c995a3a",
   "metadata": {
    "execution": {
     "iopub.execute_input": "2022-06-27T20:47:45.453314Z",
     "iopub.status.busy": "2022-06-27T20:47:45.452192Z",
     "iopub.status.idle": "2022-06-27T20:47:45.457342Z",
     "shell.execute_reply": "2022-06-27T20:47:45.456342Z"
    },
    "papermill": {
     "duration": 0.014241,
     "end_time": "2022-06-27T20:47:45.459626",
     "exception": false,
     "start_time": "2022-06-27T20:47:45.445385",
     "status": "completed"
    },
    "tags": []
   },
   "outputs": [],
   "source": [
    "# The lines below will show you a hint or the solution.\n",
    "# step_1.hint() \n",
    "# step_1.solution()\n"
   ]
  },
  {
   "cell_type": "markdown",
   "id": "d220e051",
   "metadata": {
    "papermill": {
     "duration": 0.005162,
     "end_time": "2022-06-27T20:47:45.470253",
     "exception": false,
     "start_time": "2022-06-27T20:47:45.465091",
     "status": "completed"
    },
    "tags": []
   },
   "source": [
    "## Step 2: Specify and Fit the Model\n",
    "\n",
    "Create a `DecisionTreeRegressor` model and fit it to the relevant data.\n",
    "Set `random_state` to 1 again when creating the model."
   ]
  },
  {
   "cell_type": "code",
   "execution_count": 4,
   "id": "31f2ea66",
   "metadata": {
    "execution": {
     "iopub.execute_input": "2022-06-27T20:47:45.483644Z",
     "iopub.status.busy": "2022-06-27T20:47:45.482592Z",
     "iopub.status.idle": "2022-06-27T20:47:45.510776Z",
     "shell.execute_reply": "2022-06-27T20:47:45.509438Z"
    },
    "papermill": {
     "duration": 0.037421,
     "end_time": "2022-06-27T20:47:45.513160",
     "exception": false,
     "start_time": "2022-06-27T20:47:45.475739",
     "status": "completed"
    },
    "tags": []
   },
   "outputs": [
    {
     "name": "stdout",
     "output_type": "stream",
     "text": [
      "[186500. 184000. 130000.  92000. 164500. 220000. 335000. 144152. 215000.\n",
      " 262000.]\n",
      "[186500. 184000. 130000.  92000. 164500. 220000. 335000. 144152. 215000.\n",
      " 262000.]\n"
     ]
    },
    {
     "data": {
      "application/javascript": [
       "parent.postMessage({\"jupyterEvent\": \"custom.exercise_interaction\", \"data\": {\"outcomeType\": 1, \"valueTowardsCompletion\": 0.25, \"interactionType\": 1, \"questionType\": 2, \"questionId\": \"2_FitModelWithTrain\", \"learnToolsVersion\": \"0.3.4\", \"failureMessage\": \"\", \"exceptionClass\": \"\", \"trace\": \"\"}}, \"*\")"
      ],
      "text/plain": [
       "<IPython.core.display.Javascript object>"
      ]
     },
     "metadata": {},
     "output_type": "display_data"
    },
    {
     "data": {
      "text/markdown": [
       "<span style=\"color:#33cc33\">Correct</span>"
      ],
      "text/plain": [
       "Correct"
      ]
     },
     "metadata": {},
     "output_type": "display_data"
    }
   ],
   "source": [
    "# You imported DecisionTreeRegressor in your last exercise\n",
    "# and that code has been copied to the setup code above. So, no need to\n",
    "# import it again\n",
    "\n",
    "# Specify the model\n",
    "iowa_model = DecisionTreeRegressor(random_state = 1)\n",
    "\n",
    "# Fit iowa_model with the training data.\n",
    "iowa_model.fit(train_X, train_y)\n",
    "\n",
    "# Check your answer\n",
    "step_2.check()"
   ]
  },
  {
   "cell_type": "code",
   "execution_count": 5,
   "id": "8d3378f9",
   "metadata": {
    "execution": {
     "iopub.execute_input": "2022-06-27T20:47:45.526401Z",
     "iopub.status.busy": "2022-06-27T20:47:45.526020Z",
     "iopub.status.idle": "2022-06-27T20:47:45.530661Z",
     "shell.execute_reply": "2022-06-27T20:47:45.529459Z"
    },
    "papermill": {
     "duration": 0.01422,
     "end_time": "2022-06-27T20:47:45.533148",
     "exception": false,
     "start_time": "2022-06-27T20:47:45.518928",
     "status": "completed"
    },
    "tags": []
   },
   "outputs": [],
   "source": [
    "# step_2.hint()\n",
    "# step_2.solution()"
   ]
  },
  {
   "cell_type": "markdown",
   "id": "ea21d2bb",
   "metadata": {
    "papermill": {
     "duration": 0.005548,
     "end_time": "2022-06-27T20:47:45.544757",
     "exception": false,
     "start_time": "2022-06-27T20:47:45.539209",
     "status": "completed"
    },
    "tags": []
   },
   "source": [
    "## Step 3: Make Predictions with Validation data\n"
   ]
  },
  {
   "cell_type": "code",
   "execution_count": 6,
   "id": "fcb2ef0d",
   "metadata": {
    "execution": {
     "iopub.execute_input": "2022-06-27T20:47:45.558534Z",
     "iopub.status.busy": "2022-06-27T20:47:45.558178Z",
     "iopub.status.idle": "2022-06-27T20:47:45.569691Z",
     "shell.execute_reply": "2022-06-27T20:47:45.568559Z"
    },
    "papermill": {
     "duration": 0.021361,
     "end_time": "2022-06-27T20:47:45.571905",
     "exception": false,
     "start_time": "2022-06-27T20:47:45.550544",
     "status": "completed"
    },
    "tags": []
   },
   "outputs": [
    {
     "data": {
      "application/javascript": [
       "parent.postMessage({\"jupyterEvent\": \"custom.exercise_interaction\", \"data\": {\"outcomeType\": 1, \"valueTowardsCompletion\": 0.25, \"interactionType\": 1, \"questionType\": 2, \"questionId\": \"3_ValPreds\", \"learnToolsVersion\": \"0.3.4\", \"failureMessage\": \"\", \"exceptionClass\": \"\", \"trace\": \"\"}}, \"*\")"
      ],
      "text/plain": [
       "<IPython.core.display.Javascript object>"
      ]
     },
     "metadata": {},
     "output_type": "display_data"
    },
    {
     "data": {
      "text/markdown": [
       "<span style=\"color:#33cc33\">Correct</span>"
      ],
      "text/plain": [
       "Correct"
      ]
     },
     "metadata": {},
     "output_type": "display_data"
    }
   ],
   "source": [
    "# Predict with all validation observations\n",
    "val_predictions = iowa_model.predict(val_X)\n",
    "\n",
    "# Check your answer\n",
    "step_3.check()"
   ]
  },
  {
   "cell_type": "code",
   "execution_count": 7,
   "id": "ba906cd5",
   "metadata": {
    "execution": {
     "iopub.execute_input": "2022-06-27T20:47:45.586187Z",
     "iopub.status.busy": "2022-06-27T20:47:45.585763Z",
     "iopub.status.idle": "2022-06-27T20:47:45.590136Z",
     "shell.execute_reply": "2022-06-27T20:47:45.589083Z"
    },
    "papermill": {
     "duration": 0.01398,
     "end_time": "2022-06-27T20:47:45.592306",
     "exception": false,
     "start_time": "2022-06-27T20:47:45.578326",
     "status": "completed"
    },
    "tags": []
   },
   "outputs": [],
   "source": [
    "# step_3.hint()\n",
    "# step_3.solution()"
   ]
  },
  {
   "cell_type": "markdown",
   "id": "956e8f34",
   "metadata": {
    "papermill": {
     "duration": 0.005789,
     "end_time": "2022-06-27T20:47:45.604113",
     "exception": false,
     "start_time": "2022-06-27T20:47:45.598324",
     "status": "completed"
    },
    "tags": []
   },
   "source": [
    "Inspect your predictions and actual values from validation data."
   ]
  },
  {
   "cell_type": "code",
   "execution_count": 8,
   "id": "3f30641a",
   "metadata": {
    "execution": {
     "iopub.execute_input": "2022-06-27T20:47:45.618717Z",
     "iopub.status.busy": "2022-06-27T20:47:45.618303Z",
     "iopub.status.idle": "2022-06-27T20:47:45.625106Z",
     "shell.execute_reply": "2022-06-27T20:47:45.624001Z"
    },
    "papermill": {
     "duration": 0.017728,
     "end_time": "2022-06-27T20:47:45.628030",
     "exception": false,
     "start_time": "2022-06-27T20:47:45.610302",
     "status": "completed"
    },
    "tags": []
   },
   "outputs": [
    {
     "name": "stdout",
     "output_type": "stream",
     "text": [
      "[186500. 184000. 130000.  92000. 164500. 220000. 335000. 144152. 215000.\n",
      " 262000.]\n",
      "258     231500\n",
      "267     179500\n",
      "288     122000\n",
      "649      84500\n",
      "1233    142000\n",
      "167     325624\n",
      "926     285000\n",
      "831     151000\n",
      "1237    195000\n",
      "426     275000\n",
      "Name: SalePrice, dtype: int64\n"
     ]
    }
   ],
   "source": [
    "# print the top few validation predictions\n",
    "print(val_predictions[0:10])\n",
    "# print the top few actual prices from validation data\n",
    "print(val_y[0:10])"
   ]
  },
  {
   "cell_type": "markdown",
   "id": "ad152bf4",
   "metadata": {
    "papermill": {
     "duration": 0.00584,
     "end_time": "2022-06-27T20:47:45.640293",
     "exception": false,
     "start_time": "2022-06-27T20:47:45.634453",
     "status": "completed"
    },
    "tags": []
   },
   "source": [
    "What do you notice that is different from what you saw with in-sample predictions (which are printed after the top code cell in this page).\n",
    "\n",
    "Do you remember why validation predictions differ from in-sample (or training) predictions? This is an important idea from the last lesson.\n",
    "\n",
    "## Step 4: Calculate the Mean Absolute Error in Validation Data\n"
   ]
  },
  {
   "cell_type": "code",
   "execution_count": 9,
   "id": "687571c9",
   "metadata": {
    "execution": {
     "iopub.execute_input": "2022-06-27T20:47:45.654255Z",
     "iopub.status.busy": "2022-06-27T20:47:45.653838Z",
     "iopub.status.idle": "2022-06-27T20:47:45.664780Z",
     "shell.execute_reply": "2022-06-27T20:47:45.663512Z"
    },
    "papermill": {
     "duration": 0.020499,
     "end_time": "2022-06-27T20:47:45.666859",
     "exception": false,
     "start_time": "2022-06-27T20:47:45.646360",
     "status": "completed"
    },
    "tags": []
   },
   "outputs": [
    {
     "name": "stdout",
     "output_type": "stream",
     "text": [
      "29652.931506849316\n"
     ]
    },
    {
     "data": {
      "application/javascript": [
       "parent.postMessage({\"jupyterEvent\": \"custom.exercise_interaction\", \"data\": {\"outcomeType\": 1, \"valueTowardsCompletion\": 0.25, \"interactionType\": 1, \"questionType\": 1, \"questionId\": \"4_MAE\", \"learnToolsVersion\": \"0.3.4\", \"failureMessage\": \"\", \"exceptionClass\": \"\", \"trace\": \"\"}}, \"*\")"
      ],
      "text/plain": [
       "<IPython.core.display.Javascript object>"
      ]
     },
     "metadata": {},
     "output_type": "display_data"
    },
    {
     "data": {
      "text/markdown": [
       "<span style=\"color:#33cc33\">Correct</span>"
      ],
      "text/plain": [
       "Correct"
      ]
     },
     "metadata": {},
     "output_type": "display_data"
    }
   ],
   "source": [
    "from sklearn.metrics import mean_absolute_error\n",
    "val_mae = mean_absolute_error(val_y, val_predictions)\n",
    "\n",
    "# uncomment following line to see the validation_mae\n",
    "print(val_mae)\n",
    "\n",
    "# Check your answer\n",
    "step_4.check()"
   ]
  },
  {
   "cell_type": "code",
   "execution_count": 10,
   "id": "7bbf5076",
   "metadata": {
    "execution": {
     "iopub.execute_input": "2022-06-27T20:47:45.681426Z",
     "iopub.status.busy": "2022-06-27T20:47:45.681019Z",
     "iopub.status.idle": "2022-06-27T20:47:45.685367Z",
     "shell.execute_reply": "2022-06-27T20:47:45.684466Z"
    },
    "papermill": {
     "duration": 0.014093,
     "end_time": "2022-06-27T20:47:45.687355",
     "exception": false,
     "start_time": "2022-06-27T20:47:45.673262",
     "status": "completed"
    },
    "tags": []
   },
   "outputs": [],
   "source": [
    "# step_4.hint()\n",
    "# step_4.solution()"
   ]
  },
  {
   "cell_type": "markdown",
   "id": "a2a944ec",
   "metadata": {
    "papermill": {
     "duration": 0.006224,
     "end_time": "2022-06-27T20:47:45.700034",
     "exception": false,
     "start_time": "2022-06-27T20:47:45.693810",
     "status": "completed"
    },
    "tags": []
   },
   "source": [
    "Is that MAE good?  There isn't a general rule for what values are good that applies across applications. But you'll see how to use (and improve) this number in the next step.\n",
    "\n",
    "# Keep Going\n",
    "\n",
    "You are ready for **[Underfitting and Overfitting](https://www.kaggle.com/dansbecker/underfitting-and-overfitting).**\n"
   ]
  },
  {
   "cell_type": "markdown",
   "id": "887a3edb",
   "metadata": {
    "papermill": {
     "duration": 0.006243,
     "end_time": "2022-06-27T20:47:45.713463",
     "exception": false,
     "start_time": "2022-06-27T20:47:45.707220",
     "status": "completed"
    },
    "tags": []
   },
   "source": [
    "---\n",
    "\n",
    "\n",
    "\n",
    "\n",
    "*Have questions or comments? Visit the [course discussion forum](https://www.kaggle.com/learn/intro-to-machine-learning/discussion) to chat with other learners.*"
   ]
  }
 ],
 "metadata": {
  "kernelspec": {
   "display_name": "Python 3",
   "language": "python",
   "name": "python3"
  },
  "language_info": {
   "codemirror_mode": {
    "name": "ipython",
    "version": 3
   },
   "file_extension": ".py",
   "mimetype": "text/x-python",
   "name": "python",
   "nbconvert_exporter": "python",
   "pygments_lexer": "ipython3",
   "version": "3.7.12"
  },
  "papermill": {
   "default_parameters": {},
   "duration": 12.131992,
   "end_time": "2022-06-27T20:47:46.440786",
   "environment_variables": {},
   "exception": null,
   "input_path": "__notebook__.ipynb",
   "output_path": "__notebook__.ipynb",
   "parameters": {},
   "start_time": "2022-06-27T20:47:34.308794",
   "version": "2.3.4"
  }
 },
 "nbformat": 4,
 "nbformat_minor": 5
}
