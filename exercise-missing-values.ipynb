{
 "cells": [
  {
   "cell_type": "markdown",
   "id": "430c574e",
   "metadata": {
    "papermill": {
     "duration": 0.008217,
     "end_time": "2022-06-28T18:22:16.301087",
     "exception": false,
     "start_time": "2022-06-28T18:22:16.292870",
     "status": "completed"
    },
    "tags": []
   },
   "source": [
    "**This notebook is an exercise in the [Intermediate Machine Learning](https://www.kaggle.com/learn/intermediate-machine-learning) course.  You can reference the tutorial at [this link](https://www.kaggle.com/alexisbcook/missing-values).**\n",
    "\n",
    "---\n"
   ]
  },
  {
   "cell_type": "markdown",
   "id": "662821bd",
   "metadata": {
    "papermill": {
     "duration": 0.006834,
     "end_time": "2022-06-28T18:22:16.315282",
     "exception": false,
     "start_time": "2022-06-28T18:22:16.308448",
     "status": "completed"
    },
    "tags": []
   },
   "source": [
    "Now it's your turn to test your new knowledge of **missing values** handling. You'll probably find it makes a big difference.\n",
    "\n",
    "# Setup\n",
    "\n",
    "The questions will give you feedback on your work. Run the following cell to set up the feedback system."
   ]
  },
  {
   "cell_type": "code",
   "execution_count": 1,
   "id": "64b91f53",
   "metadata": {
    "execution": {
     "iopub.execute_input": "2022-06-28T18:22:16.331538Z",
     "iopub.status.busy": "2022-06-28T18:22:16.331123Z",
     "iopub.status.idle": "2022-06-28T18:22:16.394137Z",
     "shell.execute_reply": "2022-06-28T18:22:16.392223Z"
    },
    "papermill": {
     "duration": 0.07749,
     "end_time": "2022-06-28T18:22:16.399936",
     "exception": false,
     "start_time": "2022-06-28T18:22:16.322446",
     "status": "completed"
    },
    "tags": []
   },
   "outputs": [
    {
     "name": "stdout",
     "output_type": "stream",
     "text": [
      "Setup Complete\n"
     ]
    }
   ],
   "source": [
    "# Set up code checking\n",
    "import os\n",
    "if not os.path.exists(\"../input/train.csv\"):\n",
    "    os.symlink(\"../input/home-data-for-ml-course/train.csv\", \"../input/train.csv\")  \n",
    "    os.symlink(\"../input/home-data-for-ml-course/test.csv\", \"../input/test.csv\") \n",
    "from learntools.core import binder\n",
    "binder.bind(globals())\n",
    "from learntools.ml_intermediate.ex2 import *\n",
    "print(\"Setup Complete\")"
   ]
  },
  {
   "cell_type": "markdown",
   "id": "35870cef",
   "metadata": {
    "papermill": {
     "duration": 0.007097,
     "end_time": "2022-06-28T18:22:16.416806",
     "exception": false,
     "start_time": "2022-06-28T18:22:16.409709",
     "status": "completed"
    },
    "tags": []
   },
   "source": [
    "In this exercise, you will work with data from the [Housing Prices Competition for Kaggle Learn Users](https://www.kaggle.com/c/home-data-for-ml-course). \n",
    "\n",
    "![Ames Housing dataset image](https://i.imgur.com/lTJVG4e.png)\n",
    "\n",
    "Run the next code cell without changes to load the training and validation sets in `X_train`, `X_valid`, `y_train`, and `y_valid`.  The test set is loaded in `X_test`."
   ]
  },
  {
   "cell_type": "code",
   "execution_count": 2,
   "id": "00f3e9fa",
   "metadata": {
    "execution": {
     "iopub.execute_input": "2022-06-28T18:22:16.433164Z",
     "iopub.status.busy": "2022-06-28T18:22:16.432765Z",
     "iopub.status.idle": "2022-06-28T18:22:17.774567Z",
     "shell.execute_reply": "2022-06-28T18:22:17.773283Z"
    },
    "papermill": {
     "duration": 1.352974,
     "end_time": "2022-06-28T18:22:17.777135",
     "exception": false,
     "start_time": "2022-06-28T18:22:16.424161",
     "status": "completed"
    },
    "tags": []
   },
   "outputs": [],
   "source": [
    "import pandas as pd\n",
    "from sklearn.model_selection import train_test_split\n",
    "\n",
    "# Read the data\n",
    "X_full = pd.read_csv('../input/train.csv', index_col='Id')\n",
    "X_test_full = pd.read_csv('../input/test.csv', index_col='Id')\n",
    "\n",
    "# Remove rows with missing target, separate target from predictors\n",
    "X_full.dropna(axis=0, subset=['SalePrice'], inplace=True)\n",
    "y = X_full.SalePrice\n",
    "X_full.drop(['SalePrice'], axis=1, inplace=True)\n",
    "\n",
    "# To keep things simple, we'll use only numerical predictors\n",
    "X = X_full.select_dtypes(exclude=['object'])\n",
    "X_test = X_test_full.select_dtypes(exclude=['object'])\n",
    "\n",
    "# Break off validation set from training data\n",
    "X_train, X_valid, y_train, y_valid = train_test_split(X, y, train_size=0.8, test_size=0.2,\n",
    "                                                      random_state=0)"
   ]
  },
  {
   "cell_type": "markdown",
   "id": "fc14dabf",
   "metadata": {
    "papermill": {
     "duration": 0.007149,
     "end_time": "2022-06-28T18:22:17.791598",
     "exception": false,
     "start_time": "2022-06-28T18:22:17.784449",
     "status": "completed"
    },
    "tags": []
   },
   "source": [
    "Use the next code cell to print the first five rows of the data."
   ]
  },
  {
   "cell_type": "code",
   "execution_count": 3,
   "id": "0ee3a6f3",
   "metadata": {
    "execution": {
     "iopub.execute_input": "2022-06-28T18:22:17.808531Z",
     "iopub.status.busy": "2022-06-28T18:22:17.808133Z",
     "iopub.status.idle": "2022-06-28T18:22:17.835867Z",
     "shell.execute_reply": "2022-06-28T18:22:17.834631Z"
    },
    "papermill": {
     "duration": 0.039155,
     "end_time": "2022-06-28T18:22:17.838312",
     "exception": false,
     "start_time": "2022-06-28T18:22:17.799157",
     "status": "completed"
    },
    "tags": []
   },
   "outputs": [
    {
     "data": {
      "text/html": [
       "<div>\n",
       "<style scoped>\n",
       "    .dataframe tbody tr th:only-of-type {\n",
       "        vertical-align: middle;\n",
       "    }\n",
       "\n",
       "    .dataframe tbody tr th {\n",
       "        vertical-align: top;\n",
       "    }\n",
       "\n",
       "    .dataframe thead th {\n",
       "        text-align: right;\n",
       "    }\n",
       "</style>\n",
       "<table border=\"1\" class=\"dataframe\">\n",
       "  <thead>\n",
       "    <tr style=\"text-align: right;\">\n",
       "      <th></th>\n",
       "      <th>MSSubClass</th>\n",
       "      <th>LotFrontage</th>\n",
       "      <th>LotArea</th>\n",
       "      <th>OverallQual</th>\n",
       "      <th>OverallCond</th>\n",
       "      <th>YearBuilt</th>\n",
       "      <th>YearRemodAdd</th>\n",
       "      <th>MasVnrArea</th>\n",
       "      <th>BsmtFinSF1</th>\n",
       "      <th>BsmtFinSF2</th>\n",
       "      <th>...</th>\n",
       "      <th>GarageArea</th>\n",
       "      <th>WoodDeckSF</th>\n",
       "      <th>OpenPorchSF</th>\n",
       "      <th>EnclosedPorch</th>\n",
       "      <th>3SsnPorch</th>\n",
       "      <th>ScreenPorch</th>\n",
       "      <th>PoolArea</th>\n",
       "      <th>MiscVal</th>\n",
       "      <th>MoSold</th>\n",
       "      <th>YrSold</th>\n",
       "    </tr>\n",
       "    <tr>\n",
       "      <th>Id</th>\n",
       "      <th></th>\n",
       "      <th></th>\n",
       "      <th></th>\n",
       "      <th></th>\n",
       "      <th></th>\n",
       "      <th></th>\n",
       "      <th></th>\n",
       "      <th></th>\n",
       "      <th></th>\n",
       "      <th></th>\n",
       "      <th></th>\n",
       "      <th></th>\n",
       "      <th></th>\n",
       "      <th></th>\n",
       "      <th></th>\n",
       "      <th></th>\n",
       "      <th></th>\n",
       "      <th></th>\n",
       "      <th></th>\n",
       "      <th></th>\n",
       "      <th></th>\n",
       "    </tr>\n",
       "  </thead>\n",
       "  <tbody>\n",
       "    <tr>\n",
       "      <th>619</th>\n",
       "      <td>20</td>\n",
       "      <td>90.0</td>\n",
       "      <td>11694</td>\n",
       "      <td>9</td>\n",
       "      <td>5</td>\n",
       "      <td>2007</td>\n",
       "      <td>2007</td>\n",
       "      <td>452.0</td>\n",
       "      <td>48</td>\n",
       "      <td>0</td>\n",
       "      <td>...</td>\n",
       "      <td>774</td>\n",
       "      <td>0</td>\n",
       "      <td>108</td>\n",
       "      <td>0</td>\n",
       "      <td>0</td>\n",
       "      <td>260</td>\n",
       "      <td>0</td>\n",
       "      <td>0</td>\n",
       "      <td>7</td>\n",
       "      <td>2007</td>\n",
       "    </tr>\n",
       "    <tr>\n",
       "      <th>871</th>\n",
       "      <td>20</td>\n",
       "      <td>60.0</td>\n",
       "      <td>6600</td>\n",
       "      <td>5</td>\n",
       "      <td>5</td>\n",
       "      <td>1962</td>\n",
       "      <td>1962</td>\n",
       "      <td>0.0</td>\n",
       "      <td>0</td>\n",
       "      <td>0</td>\n",
       "      <td>...</td>\n",
       "      <td>308</td>\n",
       "      <td>0</td>\n",
       "      <td>0</td>\n",
       "      <td>0</td>\n",
       "      <td>0</td>\n",
       "      <td>0</td>\n",
       "      <td>0</td>\n",
       "      <td>0</td>\n",
       "      <td>8</td>\n",
       "      <td>2009</td>\n",
       "    </tr>\n",
       "    <tr>\n",
       "      <th>93</th>\n",
       "      <td>30</td>\n",
       "      <td>80.0</td>\n",
       "      <td>13360</td>\n",
       "      <td>5</td>\n",
       "      <td>7</td>\n",
       "      <td>1921</td>\n",
       "      <td>2006</td>\n",
       "      <td>0.0</td>\n",
       "      <td>713</td>\n",
       "      <td>0</td>\n",
       "      <td>...</td>\n",
       "      <td>432</td>\n",
       "      <td>0</td>\n",
       "      <td>0</td>\n",
       "      <td>44</td>\n",
       "      <td>0</td>\n",
       "      <td>0</td>\n",
       "      <td>0</td>\n",
       "      <td>0</td>\n",
       "      <td>8</td>\n",
       "      <td>2009</td>\n",
       "    </tr>\n",
       "    <tr>\n",
       "      <th>818</th>\n",
       "      <td>20</td>\n",
       "      <td>NaN</td>\n",
       "      <td>13265</td>\n",
       "      <td>8</td>\n",
       "      <td>5</td>\n",
       "      <td>2002</td>\n",
       "      <td>2002</td>\n",
       "      <td>148.0</td>\n",
       "      <td>1218</td>\n",
       "      <td>0</td>\n",
       "      <td>...</td>\n",
       "      <td>857</td>\n",
       "      <td>150</td>\n",
       "      <td>59</td>\n",
       "      <td>0</td>\n",
       "      <td>0</td>\n",
       "      <td>0</td>\n",
       "      <td>0</td>\n",
       "      <td>0</td>\n",
       "      <td>7</td>\n",
       "      <td>2008</td>\n",
       "    </tr>\n",
       "    <tr>\n",
       "      <th>303</th>\n",
       "      <td>20</td>\n",
       "      <td>118.0</td>\n",
       "      <td>13704</td>\n",
       "      <td>7</td>\n",
       "      <td>5</td>\n",
       "      <td>2001</td>\n",
       "      <td>2002</td>\n",
       "      <td>150.0</td>\n",
       "      <td>0</td>\n",
       "      <td>0</td>\n",
       "      <td>...</td>\n",
       "      <td>843</td>\n",
       "      <td>468</td>\n",
       "      <td>81</td>\n",
       "      <td>0</td>\n",
       "      <td>0</td>\n",
       "      <td>0</td>\n",
       "      <td>0</td>\n",
       "      <td>0</td>\n",
       "      <td>1</td>\n",
       "      <td>2006</td>\n",
       "    </tr>\n",
       "  </tbody>\n",
       "</table>\n",
       "<p>5 rows × 36 columns</p>\n",
       "</div>"
      ],
      "text/plain": [
       "     MSSubClass  LotFrontage  LotArea  OverallQual  OverallCond  YearBuilt  \\\n",
       "Id                                                                           \n",
       "619          20         90.0    11694            9            5       2007   \n",
       "871          20         60.0     6600            5            5       1962   \n",
       "93           30         80.0    13360            5            7       1921   \n",
       "818          20          NaN    13265            8            5       2002   \n",
       "303          20        118.0    13704            7            5       2001   \n",
       "\n",
       "     YearRemodAdd  MasVnrArea  BsmtFinSF1  BsmtFinSF2  ...  GarageArea  \\\n",
       "Id                                                     ...               \n",
       "619          2007       452.0          48           0  ...         774   \n",
       "871          1962         0.0           0           0  ...         308   \n",
       "93           2006         0.0         713           0  ...         432   \n",
       "818          2002       148.0        1218           0  ...         857   \n",
       "303          2002       150.0           0           0  ...         843   \n",
       "\n",
       "     WoodDeckSF  OpenPorchSF  EnclosedPorch  3SsnPorch  ScreenPorch  PoolArea  \\\n",
       "Id                                                                              \n",
       "619           0          108              0          0          260         0   \n",
       "871           0            0              0          0            0         0   \n",
       "93            0            0             44          0            0         0   \n",
       "818         150           59              0          0            0         0   \n",
       "303         468           81              0          0            0         0   \n",
       "\n",
       "     MiscVal  MoSold  YrSold  \n",
       "Id                            \n",
       "619        0       7    2007  \n",
       "871        0       8    2009  \n",
       "93         0       8    2009  \n",
       "818        0       7    2008  \n",
       "303        0       1    2006  \n",
       "\n",
       "[5 rows x 36 columns]"
      ]
     },
     "execution_count": 3,
     "metadata": {},
     "output_type": "execute_result"
    }
   ],
   "source": [
    "X_train.head()"
   ]
  },
  {
   "cell_type": "markdown",
   "id": "764d0771",
   "metadata": {
    "papermill": {
     "duration": 0.007681,
     "end_time": "2022-06-28T18:22:17.853938",
     "exception": false,
     "start_time": "2022-06-28T18:22:17.846257",
     "status": "completed"
    },
    "tags": []
   },
   "source": [
    "You can already see a few missing values in the first several rows.  In the next step, you'll obtain a more comprehensive understanding of the missing values in the dataset.\n",
    "\n",
    "# Step 1: Preliminary investigation\n",
    "\n",
    "Run the code cell below without changes."
   ]
  },
  {
   "cell_type": "code",
   "execution_count": 4,
   "id": "3791a158",
   "metadata": {
    "execution": {
     "iopub.execute_input": "2022-06-28T18:22:17.872251Z",
     "iopub.status.busy": "2022-06-28T18:22:17.871861Z",
     "iopub.status.idle": "2022-06-28T18:22:17.881350Z",
     "shell.execute_reply": "2022-06-28T18:22:17.879827Z"
    },
    "papermill": {
     "duration": 0.021229,
     "end_time": "2022-06-28T18:22:17.883636",
     "exception": false,
     "start_time": "2022-06-28T18:22:17.862407",
     "status": "completed"
    },
    "tags": []
   },
   "outputs": [
    {
     "name": "stdout",
     "output_type": "stream",
     "text": [
      "(1168, 36)\n",
      "LotFrontage    212\n",
      "MasVnrArea       6\n",
      "GarageYrBlt     58\n",
      "dtype: int64\n"
     ]
    }
   ],
   "source": [
    "# Shape of training data (num_rows, num_columns)\n",
    "print(X_train.shape)\n",
    "\n",
    "# Number of missing values in each column of training data\n",
    "missing_val_count_by_column = (X_train.isnull().sum())\n",
    "print(missing_val_count_by_column[missing_val_count_by_column > 0])"
   ]
  },
  {
   "cell_type": "markdown",
   "id": "64286769",
   "metadata": {
    "papermill": {
     "duration": 0.007704,
     "end_time": "2022-06-28T18:22:17.899161",
     "exception": false,
     "start_time": "2022-06-28T18:22:17.891457",
     "status": "completed"
    },
    "tags": []
   },
   "source": [
    "### Part A\n",
    "\n",
    "Use the above output to answer the questions below."
   ]
  },
  {
   "cell_type": "code",
   "execution_count": 5,
   "id": "145c1b1d",
   "metadata": {
    "execution": {
     "iopub.execute_input": "2022-06-28T18:22:17.917869Z",
     "iopub.status.busy": "2022-06-28T18:22:17.917433Z",
     "iopub.status.idle": "2022-06-28T18:22:17.927304Z",
     "shell.execute_reply": "2022-06-28T18:22:17.926146Z"
    },
    "papermill": {
     "duration": 0.022159,
     "end_time": "2022-06-28T18:22:17.929406",
     "exception": false,
     "start_time": "2022-06-28T18:22:17.907247",
     "status": "completed"
    },
    "tags": []
   },
   "outputs": [
    {
     "data": {
      "application/javascript": [
       "parent.postMessage({\"jupyterEvent\": \"custom.exercise_interaction\", \"data\": {\"outcomeType\": 1, \"valueTowardsCompletion\": 1.0, \"interactionType\": 1, \"questionType\": 1, \"questionId\": \"1.1_InvestigateEquality\", \"learnToolsVersion\": \"0.3.4\", \"failureMessage\": \"\", \"exceptionClass\": \"\", \"trace\": \"\"}}, \"*\")"
      ],
      "text/plain": [
       "<IPython.core.display.Javascript object>"
      ]
     },
     "metadata": {},
     "output_type": "display_data"
    },
    {
     "data": {
      "text/markdown": [
       "<span style=\"color:#33cc33\">Correct</span>"
      ],
      "text/plain": [
       "Correct"
      ]
     },
     "metadata": {},
     "output_type": "display_data"
    }
   ],
   "source": [
    "# Fill in the line below: How many rows are in the training data?\n",
    "num_rows = 1168\n",
    "\n",
    "# Fill in the line below: How many columns in the training data\n",
    "# have missing values?\n",
    "num_cols_with_missing = 3\n",
    "\n",
    "# Fill in the line below: How many missing entries are contained in \n",
    "# all of the training data?\n",
    "tot_missing = 212 + 6 + 58\n",
    "\n",
    "# Check your answers\n",
    "step_1.a.check()"
   ]
  },
  {
   "cell_type": "code",
   "execution_count": 6,
   "id": "16c09e06",
   "metadata": {
    "execution": {
     "iopub.execute_input": "2022-06-28T18:22:17.948645Z",
     "iopub.status.busy": "2022-06-28T18:22:17.948281Z",
     "iopub.status.idle": "2022-06-28T18:22:17.952538Z",
     "shell.execute_reply": "2022-06-28T18:22:17.951300Z"
    },
    "papermill": {
     "duration": 0.01643,
     "end_time": "2022-06-28T18:22:17.954883",
     "exception": false,
     "start_time": "2022-06-28T18:22:17.938453",
     "status": "completed"
    },
    "tags": []
   },
   "outputs": [],
   "source": [
    "# Lines below will give you a hint or solution code\n",
    "#step_1.a.hint()\n",
    "#step_1.a.solution()"
   ]
  },
  {
   "cell_type": "markdown",
   "id": "fd24e613",
   "metadata": {
    "papermill": {
     "duration": 0.008362,
     "end_time": "2022-06-28T18:22:17.971526",
     "exception": false,
     "start_time": "2022-06-28T18:22:17.963164",
     "status": "completed"
    },
    "tags": []
   },
   "source": [
    "### Part B\n",
    "Considering your answers above, what do you think is likely the best approach to dealing with the missing values?"
   ]
  },
  {
   "cell_type": "code",
   "execution_count": 7,
   "id": "3541122f",
   "metadata": {
    "execution": {
     "iopub.execute_input": "2022-06-28T18:22:17.989678Z",
     "iopub.status.busy": "2022-06-28T18:22:17.988867Z",
     "iopub.status.idle": "2022-06-28T18:22:17.996882Z",
     "shell.execute_reply": "2022-06-28T18:22:17.995960Z"
    },
    "papermill": {
     "duration": 0.019329,
     "end_time": "2022-06-28T18:22:17.998882",
     "exception": false,
     "start_time": "2022-06-28T18:22:17.979553",
     "status": "completed"
    },
    "tags": []
   },
   "outputs": [
    {
     "data": {
      "application/javascript": [
       "parent.postMessage({\"jupyterEvent\": \"custom.exercise_interaction\", \"data\": {\"outcomeType\": 1, \"valueTowardsCompletion\": 1.0, \"interactionType\": 1, \"questionType\": 4, \"questionId\": \"1.2_InvestigateThought\", \"learnToolsVersion\": \"0.3.4\", \"failureMessage\": \"\", \"exceptionClass\": \"\", \"trace\": \"\"}}, \"*\")"
      ],
      "text/plain": [
       "<IPython.core.display.Javascript object>"
      ]
     },
     "metadata": {},
     "output_type": "display_data"
    },
    {
     "data": {
      "text/markdown": [
       "<span style=\"color:#33cc33\">Correct:</span> \n",
       "\n",
       "Since there are relatively few missing entries in the data (the column with the greatest percentage of missing values is missing less than 20% of its entries), we can expect that dropping columns is unlikely to yield good results.  This is because we'd be throwing away a lot of valuable data, and so imputation will likely perform better."
      ],
      "text/plain": [
       "Correct: \n",
       "\n",
       "Since there are relatively few missing entries in the data (the column with the greatest percentage of missing values is missing less than 20% of its entries), we can expect that dropping columns is unlikely to yield good results.  This is because we'd be throwing away a lot of valuable data, and so imputation will likely perform better."
      ]
     },
     "metadata": {},
     "output_type": "display_data"
    }
   ],
   "source": [
    "# Check your answer (Run this code cell to receive credit!)\n",
    "step_1.b.check()"
   ]
  },
  {
   "cell_type": "code",
   "execution_count": 8,
   "id": "e811450c",
   "metadata": {
    "execution": {
     "iopub.execute_input": "2022-06-28T18:22:18.016818Z",
     "iopub.status.busy": "2022-06-28T18:22:18.016013Z",
     "iopub.status.idle": "2022-06-28T18:22:18.020864Z",
     "shell.execute_reply": "2022-06-28T18:22:18.019977Z"
    },
    "papermill": {
     "duration": 0.01626,
     "end_time": "2022-06-28T18:22:18.023084",
     "exception": false,
     "start_time": "2022-06-28T18:22:18.006824",
     "status": "completed"
    },
    "tags": []
   },
   "outputs": [],
   "source": [
    "#step_1.b.hint()"
   ]
  },
  {
   "cell_type": "markdown",
   "id": "6558803a",
   "metadata": {
    "papermill": {
     "duration": 0.007543,
     "end_time": "2022-06-28T18:22:18.038560",
     "exception": false,
     "start_time": "2022-06-28T18:22:18.031017",
     "status": "completed"
    },
    "tags": []
   },
   "source": [
    "To compare different approaches to dealing with missing values, you'll use the same `score_dataset()` function from the tutorial.  This function reports the [mean absolute error](https://en.wikipedia.org/wiki/Mean_absolute_error) (MAE) from a random forest model."
   ]
  },
  {
   "cell_type": "code",
   "execution_count": 9,
   "id": "bd60e3d1",
   "metadata": {
    "execution": {
     "iopub.execute_input": "2022-06-28T18:22:18.056583Z",
     "iopub.status.busy": "2022-06-28T18:22:18.055809Z",
     "iopub.status.idle": "2022-06-28T18:22:18.307280Z",
     "shell.execute_reply": "2022-06-28T18:22:18.305974Z"
    },
    "papermill": {
     "duration": 0.263888,
     "end_time": "2022-06-28T18:22:18.310338",
     "exception": false,
     "start_time": "2022-06-28T18:22:18.046450",
     "status": "completed"
    },
    "tags": []
   },
   "outputs": [],
   "source": [
    "from sklearn.ensemble import RandomForestRegressor\n",
    "from sklearn.metrics import mean_absolute_error\n",
    "\n",
    "# Function for comparing different approaches\n",
    "def score_dataset(X_train, X_valid, y_train, y_valid):\n",
    "    model = RandomForestRegressor(n_estimators=100, random_state=0)\n",
    "    model.fit(X_train, y_train)\n",
    "    preds = model.predict(X_valid)\n",
    "    return mean_absolute_error(y_valid, preds)"
   ]
  },
  {
   "cell_type": "markdown",
   "id": "67ff6c0f",
   "metadata": {
    "papermill": {
     "duration": 0.007879,
     "end_time": "2022-06-28T18:22:18.327323",
     "exception": false,
     "start_time": "2022-06-28T18:22:18.319444",
     "status": "completed"
    },
    "tags": []
   },
   "source": [
    "# Step 2: Drop columns with missing values\n",
    "\n",
    "In this step, you'll preprocess the data in `X_train` and `X_valid` to remove columns with missing values.  Set the preprocessed DataFrames to `reduced_X_train` and `reduced_X_valid`, respectively.  "
   ]
  },
  {
   "cell_type": "code",
   "execution_count": 10,
   "id": "b2366e15",
   "metadata": {
    "execution": {
     "iopub.execute_input": "2022-06-28T18:22:18.345269Z",
     "iopub.status.busy": "2022-06-28T18:22:18.344893Z",
     "iopub.status.idle": "2022-06-28T18:22:18.382655Z",
     "shell.execute_reply": "2022-06-28T18:22:18.381434Z"
    },
    "papermill": {
     "duration": 0.049345,
     "end_time": "2022-06-28T18:22:18.384834",
     "exception": false,
     "start_time": "2022-06-28T18:22:18.335489",
     "status": "completed"
    },
    "tags": []
   },
   "outputs": [
    {
     "data": {
      "application/javascript": [
       "parent.postMessage({\"jupyterEvent\": \"custom.exercise_interaction\", \"data\": {\"outcomeType\": 1, \"valueTowardsCompletion\": 1.0, \"interactionType\": 1, \"questionType\": 2, \"questionId\": \"2_DropMissing\", \"learnToolsVersion\": \"0.3.4\", \"failureMessage\": \"\", \"exceptionClass\": \"\", \"trace\": \"\"}}, \"*\")"
      ],
      "text/plain": [
       "<IPython.core.display.Javascript object>"
      ]
     },
     "metadata": {},
     "output_type": "display_data"
    },
    {
     "data": {
      "text/markdown": [
       "<span style=\"color:#33cc33\">Correct</span>"
      ],
      "text/plain": [
       "Correct"
      ]
     },
     "metadata": {},
     "output_type": "display_data"
    }
   ],
   "source": [
    "# Fill in the line below: get names of columns with missing values\n",
    "cols_with_missing = [col for col in X_train.columns\n",
    "                     if X_train[col].isnull().any()]\n",
    "\n",
    "# Fill in the lines below: drop columns in training and validation data\n",
    "reduced_X_train = X_train.drop(cols_with_missing, axis=1)\n",
    "reduced_X_valid = X_valid.drop(cols_with_missing, axis=1)\n",
    "\n",
    "# Check your answers\n",
    "step_2.check()"
   ]
  },
  {
   "cell_type": "code",
   "execution_count": 11,
   "id": "6d3b21e6",
   "metadata": {
    "execution": {
     "iopub.execute_input": "2022-06-28T18:22:18.402954Z",
     "iopub.status.busy": "2022-06-28T18:22:18.402558Z",
     "iopub.status.idle": "2022-06-28T18:22:18.406884Z",
     "shell.execute_reply": "2022-06-28T18:22:18.405721Z"
    },
    "papermill": {
     "duration": 0.01612,
     "end_time": "2022-06-28T18:22:18.409107",
     "exception": false,
     "start_time": "2022-06-28T18:22:18.392987",
     "status": "completed"
    },
    "tags": []
   },
   "outputs": [],
   "source": [
    "# Lines below will give you a hint or solution code\n",
    "#step_2.hint()\n",
    "#step_2.solution()"
   ]
  },
  {
   "cell_type": "markdown",
   "id": "b21cddf8",
   "metadata": {
    "papermill": {
     "duration": 0.007749,
     "end_time": "2022-06-28T18:22:18.424976",
     "exception": false,
     "start_time": "2022-06-28T18:22:18.417227",
     "status": "completed"
    },
    "tags": []
   },
   "source": [
    "Run the next code cell without changes to obtain the MAE for this approach."
   ]
  },
  {
   "cell_type": "code",
   "execution_count": 12,
   "id": "c2c113f9",
   "metadata": {
    "execution": {
     "iopub.execute_input": "2022-06-28T18:22:18.443242Z",
     "iopub.status.busy": "2022-06-28T18:22:18.442335Z",
     "iopub.status.idle": "2022-06-28T18:22:19.527897Z",
     "shell.execute_reply": "2022-06-28T18:22:19.526458Z"
    },
    "papermill": {
     "duration": 1.098018,
     "end_time": "2022-06-28T18:22:19.531100",
     "exception": false,
     "start_time": "2022-06-28T18:22:18.433082",
     "status": "completed"
    },
    "tags": []
   },
   "outputs": [
    {
     "name": "stdout",
     "output_type": "stream",
     "text": [
      "MAE (Drop columns with missing values):\n",
      "17837.82570776256\n"
     ]
    }
   ],
   "source": [
    "print(\"MAE (Drop columns with missing values):\")\n",
    "print(score_dataset(reduced_X_train, reduced_X_valid, y_train, y_valid))"
   ]
  },
  {
   "cell_type": "markdown",
   "id": "ffb6c5b8",
   "metadata": {
    "papermill": {
     "duration": 0.00788,
     "end_time": "2022-06-28T18:22:19.547554",
     "exception": false,
     "start_time": "2022-06-28T18:22:19.539674",
     "status": "completed"
    },
    "tags": []
   },
   "source": [
    "# Step 3: Imputation\n",
    "\n",
    "### Part A\n",
    "\n",
    "Use the next code cell to impute missing values with the mean value along each column.  Set the preprocessed DataFrames to `imputed_X_train` and `imputed_X_valid`.  Make sure that the column names match those in `X_train` and `X_valid`."
   ]
  },
  {
   "cell_type": "code",
   "execution_count": 13,
   "id": "7b35fd4d",
   "metadata": {
    "execution": {
     "iopub.execute_input": "2022-06-28T18:22:19.567650Z",
     "iopub.status.busy": "2022-06-28T18:22:19.566508Z",
     "iopub.status.idle": "2022-06-28T18:22:19.600706Z",
     "shell.execute_reply": "2022-06-28T18:22:19.599537Z"
    },
    "papermill": {
     "duration": 0.046238,
     "end_time": "2022-06-28T18:22:19.603010",
     "exception": false,
     "start_time": "2022-06-28T18:22:19.556772",
     "status": "completed"
    },
    "tags": []
   },
   "outputs": [
    {
     "data": {
      "application/javascript": [
       "parent.postMessage({\"jupyterEvent\": \"custom.exercise_interaction\", \"data\": {\"outcomeType\": 1, \"valueTowardsCompletion\": 1.0, \"interactionType\": 1, \"questionType\": 2, \"questionId\": \"3.1_ImputeCode\", \"learnToolsVersion\": \"0.3.4\", \"failureMessage\": \"\", \"exceptionClass\": \"\", \"trace\": \"\"}}, \"*\")"
      ],
      "text/plain": [
       "<IPython.core.display.Javascript object>"
      ]
     },
     "metadata": {},
     "output_type": "display_data"
    },
    {
     "data": {
      "text/markdown": [
       "<span style=\"color:#33cc33\">Correct</span>"
      ],
      "text/plain": [
       "Correct"
      ]
     },
     "metadata": {},
     "output_type": "display_data"
    }
   ],
   "source": [
    "from sklearn.impute import SimpleImputer\n",
    "\n",
    "# Fill in the lines below: imputation\n",
    "my_imputer = SimpleImputer()\n",
    "imputed_X_train = pd.DataFrame(my_imputer.fit_transform(X_train))\n",
    "imputed_X_valid = pd.DataFrame(my_imputer.transform(X_valid))\n",
    "\n",
    "# Fill in the lines below: imputation removed column names; put them back\n",
    "imputed_X_train.columns = X_train.columns\n",
    "imputed_X_valid.columns = X_valid.columns\n",
    "\n",
    "# Check your answers\n",
    "step_3.a.check()"
   ]
  },
  {
   "cell_type": "code",
   "execution_count": 14,
   "id": "4636240d",
   "metadata": {
    "execution": {
     "iopub.execute_input": "2022-06-28T18:22:19.622282Z",
     "iopub.status.busy": "2022-06-28T18:22:19.621355Z",
     "iopub.status.idle": "2022-06-28T18:22:19.627554Z",
     "shell.execute_reply": "2022-06-28T18:22:19.626628Z"
    },
    "papermill": {
     "duration": 0.018619,
     "end_time": "2022-06-28T18:22:19.630254",
     "exception": false,
     "start_time": "2022-06-28T18:22:19.611635",
     "status": "completed"
    },
    "tags": []
   },
   "outputs": [],
   "source": [
    "# Lines below will give you a hint or solution code\n",
    "#step_3.a.hint()\n",
    "#step_3.a.solution()"
   ]
  },
  {
   "cell_type": "markdown",
   "id": "aff44035",
   "metadata": {
    "papermill": {
     "duration": 0.008511,
     "end_time": "2022-06-28T18:22:19.647778",
     "exception": false,
     "start_time": "2022-06-28T18:22:19.639267",
     "status": "completed"
    },
    "tags": []
   },
   "source": [
    "Run the next code cell without changes to obtain the MAE for this approach."
   ]
  },
  {
   "cell_type": "code",
   "execution_count": 15,
   "id": "76e04482",
   "metadata": {
    "execution": {
     "iopub.execute_input": "2022-06-28T18:22:19.666374Z",
     "iopub.status.busy": "2022-06-28T18:22:19.666003Z",
     "iopub.status.idle": "2022-06-28T18:22:20.861396Z",
     "shell.execute_reply": "2022-06-28T18:22:20.859847Z"
    },
    "papermill": {
     "duration": 1.207983,
     "end_time": "2022-06-28T18:22:20.864208",
     "exception": false,
     "start_time": "2022-06-28T18:22:19.656225",
     "status": "completed"
    },
    "tags": []
   },
   "outputs": [
    {
     "name": "stdout",
     "output_type": "stream",
     "text": [
      "MAE (Imputation):\n",
      "18062.894611872147\n"
     ]
    }
   ],
   "source": [
    "print(\"MAE (Imputation):\")\n",
    "print(score_dataset(imputed_X_train, imputed_X_valid, y_train, y_valid))"
   ]
  },
  {
   "cell_type": "markdown",
   "id": "ec31b92d",
   "metadata": {
    "papermill": {
     "duration": 0.008122,
     "end_time": "2022-06-28T18:22:20.881108",
     "exception": false,
     "start_time": "2022-06-28T18:22:20.872986",
     "status": "completed"
    },
    "tags": []
   },
   "source": [
    "### Part B\n",
    "\n",
    "Compare the MAE from each approach.  Does anything surprise you about the results?  Why do you think one approach performed better than the other?"
   ]
  },
  {
   "cell_type": "code",
   "execution_count": 16,
   "id": "cf1023c2",
   "metadata": {
    "execution": {
     "iopub.execute_input": "2022-06-28T18:22:20.900326Z",
     "iopub.status.busy": "2022-06-28T18:22:20.899915Z",
     "iopub.status.idle": "2022-06-28T18:22:20.908381Z",
     "shell.execute_reply": "2022-06-28T18:22:20.907411Z"
    },
    "papermill": {
     "duration": 0.020895,
     "end_time": "2022-06-28T18:22:20.910486",
     "exception": false,
     "start_time": "2022-06-28T18:22:20.889591",
     "status": "completed"
    },
    "tags": []
   },
   "outputs": [
    {
     "data": {
      "application/javascript": [
       "parent.postMessage({\"jupyterEvent\": \"custom.exercise_interaction\", \"data\": {\"outcomeType\": 1, \"valueTowardsCompletion\": 1.0, \"interactionType\": 1, \"questionType\": 4, \"questionId\": \"3.2_ImputeThought\", \"learnToolsVersion\": \"0.3.4\", \"failureMessage\": \"\", \"exceptionClass\": \"\", \"trace\": \"\"}}, \"*\")"
      ],
      "text/plain": [
       "<IPython.core.display.Javascript object>"
      ]
     },
     "metadata": {},
     "output_type": "display_data"
    },
    {
     "data": {
      "text/markdown": [
       "<span style=\"color:#33cc33\">Correct:</span> \n",
       "\n",
       "Given that thre are so few missing values in the dataset, we'd expect imputation to perform better than dropping columns entirely.  However, we see that dropping columns performs slightly better!  While this can probably partially be attributed to noise in the dataset, another potential explanation is that the imputation method is not a great match to this dataset.  That is, maybe instead of filling in the mean value, it makes more sense to set every missing value to a value of 0, to fill in the most frequently encountered value, or to use some other method.  For instance, consider the `GarageYrBlt` column (which indicates the year that the garage was built).  It's likely that in some cases, a missing value could indicate a house that does not have a garage.  Does it make more sense to fill in the median value along each column in this case?  Or could we get better results by filling in the minimum value along each column?  It's not quite clear what's best in this case, but perhaps we can rule out some options immediately - for instance, setting missing values in this column to 0 is likely to yield horrible results!"
      ],
      "text/plain": [
       "Correct: \n",
       "\n",
       "Given that thre are so few missing values in the dataset, we'd expect imputation to perform better than dropping columns entirely.  However, we see that dropping columns performs slightly better!  While this can probably partially be attributed to noise in the dataset, another potential explanation is that the imputation method is not a great match to this dataset.  That is, maybe instead of filling in the mean value, it makes more sense to set every missing value to a value of 0, to fill in the most frequently encountered value, or to use some other method.  For instance, consider the `GarageYrBlt` column (which indicates the year that the garage was built).  It's likely that in some cases, a missing value could indicate a house that does not have a garage.  Does it make more sense to fill in the median value along each column in this case?  Or could we get better results by filling in the minimum value along each column?  It's not quite clear what's best in this case, but perhaps we can rule out some options immediately - for instance, setting missing values in this column to 0 is likely to yield horrible results!"
      ]
     },
     "metadata": {},
     "output_type": "display_data"
    }
   ],
   "source": [
    "# Check your answer (Run this code cell to receive credit!)\n",
    "step_3.b.check()"
   ]
  },
  {
   "cell_type": "code",
   "execution_count": 17,
   "id": "e3c3214d",
   "metadata": {
    "execution": {
     "iopub.execute_input": "2022-06-28T18:22:20.930557Z",
     "iopub.status.busy": "2022-06-28T18:22:20.930164Z",
     "iopub.status.idle": "2022-06-28T18:22:20.934771Z",
     "shell.execute_reply": "2022-06-28T18:22:20.933926Z"
    },
    "papermill": {
     "duration": 0.017461,
     "end_time": "2022-06-28T18:22:20.936859",
     "exception": false,
     "start_time": "2022-06-28T18:22:20.919398",
     "status": "completed"
    },
    "tags": []
   },
   "outputs": [],
   "source": [
    "#step_3.b.hint()"
   ]
  },
  {
   "cell_type": "markdown",
   "id": "4470bf7c",
   "metadata": {
    "papermill": {
     "duration": 0.008336,
     "end_time": "2022-06-28T18:22:20.954006",
     "exception": false,
     "start_time": "2022-06-28T18:22:20.945670",
     "status": "completed"
    },
    "tags": []
   },
   "source": [
    "# Step 4: Generate test predictions\n",
    "\n",
    "In this final step, you'll use any approach of your choosing to deal with missing values.  Once you've preprocessed the training and validation features, you'll train and evaluate a random forest model.  Then, you'll preprocess the test data before generating predictions that can be submitted to the competition!\n",
    "\n",
    "### Part A\n",
    "\n",
    "Use the next code cell to preprocess the training and validation data.  Set the preprocessed DataFrames to `final_X_train` and `final_X_valid`.  **You can use any approach of your choosing here!**  in order for this step to be marked as correct, you need only ensure:\n",
    "- the preprocessed DataFrames have the same number of columns,\n",
    "- the preprocessed DataFrames have no missing values, \n",
    "- `final_X_train` and `y_train` have the same number of rows, and\n",
    "- `final_X_valid` and `y_valid` have the same number of rows."
   ]
  },
  {
   "cell_type": "code",
   "execution_count": 18,
   "id": "1c2606de",
   "metadata": {
    "execution": {
     "iopub.execute_input": "2022-06-28T18:22:20.973876Z",
     "iopub.status.busy": "2022-06-28T18:22:20.973155Z",
     "iopub.status.idle": "2022-06-28T18:22:20.992270Z",
     "shell.execute_reply": "2022-06-28T18:22:20.991135Z"
    },
    "papermill": {
     "duration": 0.031839,
     "end_time": "2022-06-28T18:22:20.994505",
     "exception": false,
     "start_time": "2022-06-28T18:22:20.962666",
     "status": "completed"
    },
    "tags": []
   },
   "outputs": [
    {
     "data": {
      "application/javascript": [
       "parent.postMessage({\"jupyterEvent\": \"custom.exercise_interaction\", \"data\": {\"outcomeType\": 1, \"valueTowardsCompletion\": 1.0, \"interactionType\": 1, \"questionType\": 2, \"questionId\": \"4.1_PredsCodeA\", \"learnToolsVersion\": \"0.3.4\", \"failureMessage\": \"\", \"exceptionClass\": \"\", \"trace\": \"\"}}, \"*\")"
      ],
      "text/plain": [
       "<IPython.core.display.Javascript object>"
      ]
     },
     "metadata": {},
     "output_type": "display_data"
    },
    {
     "data": {
      "text/markdown": [
       "<span style=\"color:#33cc33\">Correct</span>"
      ],
      "text/plain": [
       "Correct"
      ]
     },
     "metadata": {},
     "output_type": "display_data"
    }
   ],
   "source": [
    "# Preprocessed training and validation features\n",
    "final_X_train = imputed_X_train\n",
    "final_X_valid = imputed_X_valid\n",
    "\n",
    "# Check your answers\n",
    "step_4.a.check()"
   ]
  },
  {
   "cell_type": "code",
   "execution_count": 19,
   "id": "5bd5be00",
   "metadata": {
    "execution": {
     "iopub.execute_input": "2022-06-28T18:22:21.014490Z",
     "iopub.status.busy": "2022-06-28T18:22:21.013306Z",
     "iopub.status.idle": "2022-06-28T18:22:21.017849Z",
     "shell.execute_reply": "2022-06-28T18:22:21.016948Z"
    },
    "papermill": {
     "duration": 0.016483,
     "end_time": "2022-06-28T18:22:21.019846",
     "exception": false,
     "start_time": "2022-06-28T18:22:21.003363",
     "status": "completed"
    },
    "tags": []
   },
   "outputs": [],
   "source": [
    "# Lines below will give you a hint or solution code\n",
    "#step_4.a.hint()\n",
    "#step_4.a.solution()"
   ]
  },
  {
   "cell_type": "markdown",
   "id": "dba3f8ff",
   "metadata": {
    "papermill": {
     "duration": 0.008544,
     "end_time": "2022-06-28T18:22:21.037389",
     "exception": false,
     "start_time": "2022-06-28T18:22:21.028845",
     "status": "completed"
    },
    "tags": []
   },
   "source": [
    "Run the next code cell to train and evaluate a random forest model.  (*Note that we don't use the `score_dataset()` function above, because we will soon use the trained model to generate test predictions!*)"
   ]
  },
  {
   "cell_type": "code",
   "execution_count": 20,
   "id": "716b80ef",
   "metadata": {
    "execution": {
     "iopub.execute_input": "2022-06-28T18:22:21.057928Z",
     "iopub.status.busy": "2022-06-28T18:22:21.056682Z",
     "iopub.status.idle": "2022-06-28T18:22:22.254048Z",
     "shell.execute_reply": "2022-06-28T18:22:22.252574Z"
    },
    "papermill": {
     "duration": 1.210271,
     "end_time": "2022-06-28T18:22:22.256752",
     "exception": false,
     "start_time": "2022-06-28T18:22:21.046481",
     "status": "completed"
    },
    "tags": []
   },
   "outputs": [
    {
     "name": "stdout",
     "output_type": "stream",
     "text": [
      "MAE (Your approach):\n",
      "18062.894611872147\n"
     ]
    }
   ],
   "source": [
    "# Define and fit model\n",
    "model = RandomForestRegressor(n_estimators=100, random_state=0)\n",
    "model.fit(final_X_train, y_train)\n",
    "\n",
    "# Get validation predictions and MAE\n",
    "preds_valid = model.predict(final_X_valid)\n",
    "print(\"MAE (Your approach):\")\n",
    "print(mean_absolute_error(y_valid, preds_valid))"
   ]
  },
  {
   "cell_type": "markdown",
   "id": "11f39ab4",
   "metadata": {
    "papermill": {
     "duration": 0.01182,
     "end_time": "2022-06-28T18:22:22.278487",
     "exception": false,
     "start_time": "2022-06-28T18:22:22.266667",
     "status": "completed"
    },
    "tags": []
   },
   "source": [
    "### Part B\n",
    "\n",
    "Use the next code cell to preprocess your test data.  Make sure that you use a method that agrees with how you preprocessed the training and validation data, and set the preprocessed test features to `final_X_test`.\n",
    "\n",
    "Then, use the preprocessed test features and the trained model to generate test predictions in `preds_test`.\n",
    "\n",
    "In order for this step to be marked correct, you need only ensure:\n",
    "- the preprocessed test DataFrame has no missing values, and\n",
    "- `final_X_test` has the same number of rows as `X_test`."
   ]
  },
  {
   "cell_type": "code",
   "execution_count": 21,
   "id": "1842bea0",
   "metadata": {
    "execution": {
     "iopub.execute_input": "2022-06-28T18:22:22.298959Z",
     "iopub.status.busy": "2022-06-28T18:22:22.298078Z",
     "iopub.status.idle": "2022-06-28T18:22:22.350823Z",
     "shell.execute_reply": "2022-06-28T18:22:22.349749Z"
    },
    "papermill": {
     "duration": 0.065258,
     "end_time": "2022-06-28T18:22:22.353141",
     "exception": false,
     "start_time": "2022-06-28T18:22:22.287883",
     "status": "completed"
    },
    "tags": []
   },
   "outputs": [
    {
     "data": {
      "application/javascript": [
       "parent.postMessage({\"jupyterEvent\": \"custom.exercise_interaction\", \"data\": {\"outcomeType\": 1, \"valueTowardsCompletion\": 1.0, \"interactionType\": 1, \"questionType\": 2, \"questionId\": \"4.2_PredsCodeB\", \"learnToolsVersion\": \"0.3.4\", \"failureMessage\": \"\", \"exceptionClass\": \"\", \"trace\": \"\"}}, \"*\")"
      ],
      "text/plain": [
       "<IPython.core.display.Javascript object>"
      ]
     },
     "metadata": {},
     "output_type": "display_data"
    },
    {
     "data": {
      "text/markdown": [
       "<span style=\"color:#33cc33\">Correct</span>"
      ],
      "text/plain": [
       "Correct"
      ]
     },
     "metadata": {},
     "output_type": "display_data"
    }
   ],
   "source": [
    "# Fill in the line below: preprocess test data\n",
    "final_X_test = pd.DataFrame(my_imputer.fit_transform(X_test))\n",
    "final_X_test.columns = X_test.columns\n",
    "\n",
    "# Fill in the line below: get test predictions\n",
    "preds_test = model.predict(final_X_test)\n",
    "\n",
    "# Check your answers\n",
    "step_4.b.check()"
   ]
  },
  {
   "cell_type": "code",
   "execution_count": 22,
   "id": "b308d341",
   "metadata": {
    "execution": {
     "iopub.execute_input": "2022-06-28T18:22:22.373726Z",
     "iopub.status.busy": "2022-06-28T18:22:22.373330Z",
     "iopub.status.idle": "2022-06-28T18:22:22.378006Z",
     "shell.execute_reply": "2022-06-28T18:22:22.376827Z"
    },
    "papermill": {
     "duration": 0.018022,
     "end_time": "2022-06-28T18:22:22.380292",
     "exception": false,
     "start_time": "2022-06-28T18:22:22.362270",
     "status": "completed"
    },
    "tags": []
   },
   "outputs": [],
   "source": [
    "# Lines below will give you a hint or solution code\n",
    "#step_4.b.hint()\n",
    "#step_4.b.solution()"
   ]
  },
  {
   "cell_type": "markdown",
   "id": "dcef02b4",
   "metadata": {
    "papermill": {
     "duration": 0.009204,
     "end_time": "2022-06-28T18:22:22.398823",
     "exception": false,
     "start_time": "2022-06-28T18:22:22.389619",
     "status": "completed"
    },
    "tags": []
   },
   "source": [
    "Run the next code cell without changes to save your results to a CSV file that can be submitted directly to the competition."
   ]
  },
  {
   "cell_type": "code",
   "execution_count": 23,
   "id": "d52768fd",
   "metadata": {
    "execution": {
     "iopub.execute_input": "2022-06-28T18:22:22.419436Z",
     "iopub.status.busy": "2022-06-28T18:22:22.418432Z",
     "iopub.status.idle": "2022-06-28T18:22:22.430317Z",
     "shell.execute_reply": "2022-06-28T18:22:22.429365Z"
    },
    "papermill": {
     "duration": 0.024643,
     "end_time": "2022-06-28T18:22:22.432667",
     "exception": false,
     "start_time": "2022-06-28T18:22:22.408024",
     "status": "completed"
    },
    "tags": []
   },
   "outputs": [],
   "source": [
    "# Save test predictions to file\n",
    "output = pd.DataFrame({'Id': X_test.index,\n",
    "                       'SalePrice': preds_test})\n",
    "output.to_csv('submission.csv', index=False)"
   ]
  },
  {
   "cell_type": "markdown",
   "id": "1abd302e",
   "metadata": {
    "papermill": {
     "duration": 0.008806,
     "end_time": "2022-06-28T18:22:22.450684",
     "exception": false,
     "start_time": "2022-06-28T18:22:22.441878",
     "status": "completed"
    },
    "tags": []
   },
   "source": [
    "# Submit your results\n",
    "\n",
    "Once you have successfully completed Step 4, you're ready to submit your results to the leaderboard!  (_You also learned how to do this in the previous exercise.  If you need a reminder of how to do this, please use the instructions below._)  \n",
    "\n",
    "First, you'll need to join the competition if you haven't already.  So open a new window by clicking on [this link](https://www.kaggle.com/c/home-data-for-ml-course).  Then click on the **Join Competition** button.\n",
    "\n",
    "![join competition image](https://i.imgur.com/wLmFtH3.png)\n",
    "\n",
    "Next, follow the instructions below:\n",
    "1. Begin by clicking on the **Save Version** button in the top right corner of the window.  This will generate a pop-up window.  \n",
    "2. Ensure that the **Save and Run All** option is selected, and then click on the **Save** button.\n",
    "3. This generates a window in the bottom left corner of the notebook.  After it has finished running, click on the number to the right of the **Save Version** button.  This pulls up a list of versions on the right of the screen.  Click on the ellipsis **(...)** to the right of the most recent version, and select **Open in Viewer**.  This brings you into view mode of the same page. You will need to scroll down to get back to these instructions.\n",
    "4. Click on the **Output** tab on the right of the screen.  Then, click on the file you would like to submit, and click on the **Submit** button to submit your results to the leaderboard.\n",
    "\n",
    "You have now successfully submitted to the competition!\n",
    "\n",
    "If you want to keep working to improve your performance, select the **Edit** button in the top right of the screen. Then you can change your code and repeat the process. There's a lot of room to improve, and you will climb up the leaderboard as you work.\n",
    "\n",
    "\n",
    "# Keep going\n",
    "\n",
    "Move on to learn what **[categorical variables](https://www.kaggle.com/alexisbcook/categorical-variables)** are, along with how to incorporate them into your machine learning models.  Categorical variables are very common in real-world data, but you'll get an error if you try to plug them into your models without processing them first!"
   ]
  },
  {
   "cell_type": "markdown",
   "id": "7dfbd1d3",
   "metadata": {
    "papermill": {
     "duration": 0.008896,
     "end_time": "2022-06-28T18:22:22.468866",
     "exception": false,
     "start_time": "2022-06-28T18:22:22.459970",
     "status": "completed"
    },
    "tags": []
   },
   "source": [
    "---\n",
    "\n",
    "\n",
    "\n",
    "\n",
    "*Have questions or comments? Visit the [course discussion forum](https://www.kaggle.com/learn/intermediate-machine-learning/discussion) to chat with other learners.*"
   ]
  }
 ],
 "metadata": {
  "kernelspec": {
   "display_name": "Python 3",
   "language": "python",
   "name": "python3"
  },
  "language_info": {
   "codemirror_mode": {
    "name": "ipython",
    "version": 3
   },
   "file_extension": ".py",
   "mimetype": "text/x-python",
   "name": "python",
   "nbconvert_exporter": "python",
   "pygments_lexer": "ipython3",
   "version": "3.7.12"
  },
  "papermill": {
   "default_parameters": {},
   "duration": 16.262812,
   "end_time": "2022-06-28T18:22:23.199704",
   "environment_variables": {},
   "exception": null,
   "input_path": "__notebook__.ipynb",
   "output_path": "__notebook__.ipynb",
   "parameters": {},
   "start_time": "2022-06-28T18:22:06.936892",
   "version": "2.3.4"
  }
 },
 "nbformat": 4,
 "nbformat_minor": 5
}
