{
 "cells": [
  {
   "cell_type": "markdown",
   "id": "b4ede4f7",
   "metadata": {
    "papermill": {
     "duration": 0.006922,
     "end_time": "2022-06-27T20:32:16.601255",
     "exception": false,
     "start_time": "2022-06-27T20:32:16.594333",
     "status": "completed"
    },
    "tags": []
   },
   "source": [
    "**This notebook is an exercise in the [Introduction to Machine Learning](https://www.kaggle.com/learn/intro-to-machine-learning) course.  You can reference the tutorial at [this link](https://www.kaggle.com/dansbecker/your-first-machine-learning-model).**\n",
    "\n",
    "---\n"
   ]
  },
  {
   "cell_type": "markdown",
   "id": "f5312ac5",
   "metadata": {
    "papermill": {
     "duration": 0.005394,
     "end_time": "2022-06-27T20:32:16.612660",
     "exception": false,
     "start_time": "2022-06-27T20:32:16.607266",
     "status": "completed"
    },
    "tags": []
   },
   "source": [
    "## Recap\n",
    "So far, you have loaded your data and reviewed it with the following code. Run this cell to set up your coding environment where the previous step left off."
   ]
  },
  {
   "cell_type": "code",
   "execution_count": 1,
   "id": "138d60fe",
   "metadata": {
    "execution": {
     "iopub.execute_input": "2022-06-27T20:32:16.627740Z",
     "iopub.status.busy": "2022-06-27T20:32:16.626743Z",
     "iopub.status.idle": "2022-06-27T20:32:18.120896Z",
     "shell.execute_reply": "2022-06-27T20:32:18.119482Z"
    },
    "papermill": {
     "duration": 1.505549,
     "end_time": "2022-06-27T20:32:18.124057",
     "exception": false,
     "start_time": "2022-06-27T20:32:16.618508",
     "status": "completed"
    },
    "tags": []
   },
   "outputs": [
    {
     "name": "stdout",
     "output_type": "stream",
     "text": [
      "Setup Complete\n"
     ]
    }
   ],
   "source": [
    "# Code you have previously used to load data\n",
    "import pandas as pd\n",
    "\n",
    "# Path of the file to read\n",
    "iowa_file_path = '../input/home-data-for-ml-course/train.csv'\n",
    "\n",
    "home_data = pd.read_csv(iowa_file_path)\n",
    "\n",
    "# Set up code checking\n",
    "from learntools.core import binder\n",
    "binder.bind(globals())\n",
    "from learntools.machine_learning.ex3 import *\n",
    "\n",
    "print(\"Setup Complete\")"
   ]
  },
  {
   "cell_type": "markdown",
   "id": "dc8ed678",
   "metadata": {
    "papermill": {
     "duration": 0.005582,
     "end_time": "2022-06-27T20:32:18.135660",
     "exception": false,
     "start_time": "2022-06-27T20:32:18.130078",
     "status": "completed"
    },
    "tags": []
   },
   "source": [
    "# Exercises\n",
    "\n",
    "## Step 1: Specify Prediction Target\n",
    "Select the target variable, which corresponds to the sales price. Save this to a new variable called `y`. You'll need to print a list of the columns to find the name of the column you need.\n"
   ]
  },
  {
   "cell_type": "code",
   "execution_count": 2,
   "id": "f1161d4b",
   "metadata": {
    "execution": {
     "iopub.execute_input": "2022-06-27T20:32:18.149673Z",
     "iopub.status.busy": "2022-06-27T20:32:18.148856Z",
     "iopub.status.idle": "2022-06-27T20:32:18.158185Z",
     "shell.execute_reply": "2022-06-27T20:32:18.157114Z"
    },
    "papermill": {
     "duration": 0.018924,
     "end_time": "2022-06-27T20:32:18.160398",
     "exception": false,
     "start_time": "2022-06-27T20:32:18.141474",
     "status": "completed"
    },
    "tags": []
   },
   "outputs": [
    {
     "data": {
      "text/plain": [
       "Index(['Id', 'MSSubClass', 'MSZoning', 'LotFrontage', 'LotArea', 'Street',\n",
       "       'Alley', 'LotShape', 'LandContour', 'Utilities', 'LotConfig',\n",
       "       'LandSlope', 'Neighborhood', 'Condition1', 'Condition2', 'BldgType',\n",
       "       'HouseStyle', 'OverallQual', 'OverallCond', 'YearBuilt', 'YearRemodAdd',\n",
       "       'RoofStyle', 'RoofMatl', 'Exterior1st', 'Exterior2nd', 'MasVnrType',\n",
       "       'MasVnrArea', 'ExterQual', 'ExterCond', 'Foundation', 'BsmtQual',\n",
       "       'BsmtCond', 'BsmtExposure', 'BsmtFinType1', 'BsmtFinSF1',\n",
       "       'BsmtFinType2', 'BsmtFinSF2', 'BsmtUnfSF', 'TotalBsmtSF', 'Heating',\n",
       "       'HeatingQC', 'CentralAir', 'Electrical', '1stFlrSF', '2ndFlrSF',\n",
       "       'LowQualFinSF', 'GrLivArea', 'BsmtFullBath', 'BsmtHalfBath', 'FullBath',\n",
       "       'HalfBath', 'BedroomAbvGr', 'KitchenAbvGr', 'KitchenQual',\n",
       "       'TotRmsAbvGrd', 'Functional', 'Fireplaces', 'FireplaceQu', 'GarageType',\n",
       "       'GarageYrBlt', 'GarageFinish', 'GarageCars', 'GarageArea', 'GarageQual',\n",
       "       'GarageCond', 'PavedDrive', 'WoodDeckSF', 'OpenPorchSF',\n",
       "       'EnclosedPorch', '3SsnPorch', 'ScreenPorch', 'PoolArea', 'PoolQC',\n",
       "       'Fence', 'MiscFeature', 'MiscVal', 'MoSold', 'YrSold', 'SaleType',\n",
       "       'SaleCondition', 'SalePrice'],\n",
       "      dtype='object')"
      ]
     },
     "execution_count": 2,
     "metadata": {},
     "output_type": "execute_result"
    }
   ],
   "source": [
    "# print the list of columns in the dataset to find the name of the prediction target\n",
    "home_data.columns"
   ]
  },
  {
   "cell_type": "code",
   "execution_count": 3,
   "id": "315a351b",
   "metadata": {
    "execution": {
     "iopub.execute_input": "2022-06-27T20:32:18.175753Z",
     "iopub.status.busy": "2022-06-27T20:32:18.175035Z",
     "iopub.status.idle": "2022-06-27T20:32:18.187755Z",
     "shell.execute_reply": "2022-06-27T20:32:18.186793Z"
    },
    "papermill": {
     "duration": 0.022838,
     "end_time": "2022-06-27T20:32:18.189887",
     "exception": false,
     "start_time": "2022-06-27T20:32:18.167049",
     "status": "completed"
    },
    "tags": []
   },
   "outputs": [
    {
     "data": {
      "application/javascript": [
       "parent.postMessage({\"jupyterEvent\": \"custom.exercise_interaction\", \"data\": {\"outcomeType\": 1, \"valueTowardsCompletion\": 0.25, \"interactionType\": 1, \"questionType\": 2, \"questionId\": \"1_SetTarget\", \"learnToolsVersion\": \"0.3.4\", \"failureMessage\": \"\", \"exceptionClass\": \"\", \"trace\": \"\"}}, \"*\")"
      ],
      "text/plain": [
       "<IPython.core.display.Javascript object>"
      ]
     },
     "metadata": {},
     "output_type": "display_data"
    },
    {
     "data": {
      "text/markdown": [
       "<span style=\"color:#33cc33\">Correct</span>"
      ],
      "text/plain": [
       "Correct"
      ]
     },
     "metadata": {},
     "output_type": "display_data"
    }
   ],
   "source": [
    "y = home_data['SalePrice']\n",
    "\n",
    "# Check your answer\n",
    "step_1.check()"
   ]
  },
  {
   "cell_type": "code",
   "execution_count": 4,
   "id": "65ae606b",
   "metadata": {
    "collapsed": true,
    "execution": {
     "iopub.execute_input": "2022-06-27T20:32:18.205187Z",
     "iopub.status.busy": "2022-06-27T20:32:18.204757Z",
     "iopub.status.idle": "2022-06-27T20:32:18.209258Z",
     "shell.execute_reply": "2022-06-27T20:32:18.207885Z"
    },
    "jupyter": {
     "outputs_hidden": true
    },
    "papermill": {
     "duration": 0.015483,
     "end_time": "2022-06-27T20:32:18.211743",
     "exception": false,
     "start_time": "2022-06-27T20:32:18.196260",
     "status": "completed"
    },
    "tags": []
   },
   "outputs": [],
   "source": [
    "# The lines below will show you a hint or the solution.\n",
    "# step_1.hint() \n",
    "# step_1.solution()"
   ]
  },
  {
   "cell_type": "markdown",
   "id": "42d1010e",
   "metadata": {
    "papermill": {
     "duration": 0.006831,
     "end_time": "2022-06-27T20:32:18.225736",
     "exception": false,
     "start_time": "2022-06-27T20:32:18.218905",
     "status": "completed"
    },
    "tags": []
   },
   "source": [
    "## Step 2: Create X\n",
    "Now you will create a DataFrame called `X` holding the predictive features.\n",
    "\n",
    "Since you want only some columns from the original data, you'll first create a list with the names of the columns you want in `X`.\n",
    "\n",
    "You'll use just the following columns in the list (you can copy and paste the whole list to save some typing, though you'll still need to add quotes):\n",
    "  * LotArea\n",
    "  * YearBuilt\n",
    "  * 1stFlrSF\n",
    "  * 2ndFlrSF\n",
    "  * FullBath\n",
    "  * BedroomAbvGr\n",
    "  * TotRmsAbvGrd\n",
    "\n",
    "After you've created that list of features, use it to create the DataFrame that you'll use to fit the model."
   ]
  },
  {
   "cell_type": "code",
   "execution_count": 5,
   "id": "c09f7d8b",
   "metadata": {
    "execution": {
     "iopub.execute_input": "2022-06-27T20:32:18.242318Z",
     "iopub.status.busy": "2022-06-27T20:32:18.241874Z",
     "iopub.status.idle": "2022-06-27T20:32:18.256711Z",
     "shell.execute_reply": "2022-06-27T20:32:18.255768Z"
    },
    "papermill": {
     "duration": 0.026467,
     "end_time": "2022-06-27T20:32:18.258973",
     "exception": false,
     "start_time": "2022-06-27T20:32:18.232506",
     "status": "completed"
    },
    "tags": []
   },
   "outputs": [
    {
     "data": {
      "application/javascript": [
       "parent.postMessage({\"jupyterEvent\": \"custom.exercise_interaction\", \"data\": {\"outcomeType\": 1, \"valueTowardsCompletion\": 0.25, \"interactionType\": 1, \"questionType\": 2, \"questionId\": \"2_SelectPredictionData\", \"learnToolsVersion\": \"0.3.4\", \"failureMessage\": \"\", \"exceptionClass\": \"\", \"trace\": \"\"}}, \"*\")"
      ],
      "text/plain": [
       "<IPython.core.display.Javascript object>"
      ]
     },
     "metadata": {},
     "output_type": "display_data"
    },
    {
     "data": {
      "text/markdown": [
       "<span style=\"color:#33cc33\">Correct</span>"
      ],
      "text/plain": [
       "Correct"
      ]
     },
     "metadata": {},
     "output_type": "display_data"
    }
   ],
   "source": [
    "# Create the list of features below\n",
    "feature_names = ['LotArea', 'YearBuilt', '1stFlrSF', '2ndFlrSF', 'FullBath', 'BedroomAbvGr', 'TotRmsAbvGrd']\n",
    "\n",
    "# Select data corresponding to features in feature_names\n",
    "X = home_data[feature_names]\n",
    "\n",
    "# Check your answer\n",
    "step_2.check()"
   ]
  },
  {
   "cell_type": "code",
   "execution_count": 6,
   "id": "f8eab335",
   "metadata": {
    "collapsed": true,
    "execution": {
     "iopub.execute_input": "2022-06-27T20:32:18.274905Z",
     "iopub.status.busy": "2022-06-27T20:32:18.274176Z",
     "iopub.status.idle": "2022-06-27T20:32:18.278369Z",
     "shell.execute_reply": "2022-06-27T20:32:18.277262Z"
    },
    "jupyter": {
     "outputs_hidden": true
    },
    "papermill": {
     "duration": 0.015091,
     "end_time": "2022-06-27T20:32:18.280750",
     "exception": false,
     "start_time": "2022-06-27T20:32:18.265659",
     "status": "completed"
    },
    "tags": []
   },
   "outputs": [],
   "source": [
    "# step_2.hint()\n",
    "# step_2.solution()"
   ]
  },
  {
   "cell_type": "markdown",
   "id": "b2cdf413",
   "metadata": {
    "papermill": {
     "duration": 0.006384,
     "end_time": "2022-06-27T20:32:18.294286",
     "exception": false,
     "start_time": "2022-06-27T20:32:18.287902",
     "status": "completed"
    },
    "tags": []
   },
   "source": [
    "## Review Data\n",
    "Before building a model, take a quick look at **X** to verify it looks sensible"
   ]
  },
  {
   "cell_type": "code",
   "execution_count": 7,
   "id": "72614a19",
   "metadata": {
    "execution": {
     "iopub.execute_input": "2022-06-27T20:32:18.309727Z",
     "iopub.status.busy": "2022-06-27T20:32:18.308954Z",
     "iopub.status.idle": "2022-06-27T20:32:18.349162Z",
     "shell.execute_reply": "2022-06-27T20:32:18.347822Z"
    },
    "papermill": {
     "duration": 0.051083,
     "end_time": "2022-06-27T20:32:18.352065",
     "exception": false,
     "start_time": "2022-06-27T20:32:18.300982",
     "status": "completed"
    },
    "tags": []
   },
   "outputs": [
    {
     "name": "stdout",
     "output_type": "stream",
     "text": [
      "             LotArea    YearBuilt     1stFlrSF     2ndFlrSF     FullBath  \\\n",
      "count    1460.000000  1460.000000  1460.000000  1460.000000  1460.000000   \n",
      "mean    10516.828082  1971.267808  1162.626712   346.992466     1.565068   \n",
      "std      9981.264932    30.202904   386.587738   436.528436     0.550916   \n",
      "min      1300.000000  1872.000000   334.000000     0.000000     0.000000   \n",
      "25%      7553.500000  1954.000000   882.000000     0.000000     1.000000   \n",
      "50%      9478.500000  1973.000000  1087.000000     0.000000     2.000000   \n",
      "75%     11601.500000  2000.000000  1391.250000   728.000000     2.000000   \n",
      "max    215245.000000  2010.000000  4692.000000  2065.000000     3.000000   \n",
      "\n",
      "       BedroomAbvGr  TotRmsAbvGrd  \n",
      "count   1460.000000   1460.000000  \n",
      "mean       2.866438      6.517808  \n",
      "std        0.815778      1.625393  \n",
      "min        0.000000      2.000000  \n",
      "25%        2.000000      5.000000  \n",
      "50%        3.000000      6.000000  \n",
      "75%        3.000000      7.000000  \n",
      "max        8.000000     14.000000  \n",
      "   LotArea  YearBuilt  1stFlrSF  2ndFlrSF  FullBath  BedroomAbvGr  \\\n",
      "0     8450       2003       856       854         2             3   \n",
      "1     9600       1976      1262         0         2             3   \n",
      "2    11250       2001       920       866         2             3   \n",
      "3     9550       1915       961       756         1             3   \n",
      "4    14260       2000      1145      1053         2             4   \n",
      "\n",
      "   TotRmsAbvGrd  \n",
      "0             8  \n",
      "1             6  \n",
      "2             6  \n",
      "3             7  \n",
      "4             9  \n"
     ]
    }
   ],
   "source": [
    "# Review data\n",
    "# print description or statistics from X\n",
    "print(X.describe())\n",
    "\n",
    "# print the top few lines\n",
    "print(X.head())"
   ]
  },
  {
   "cell_type": "markdown",
   "id": "083fd999",
   "metadata": {
    "papermill": {
     "duration": 0.006596,
     "end_time": "2022-06-27T20:32:18.366105",
     "exception": false,
     "start_time": "2022-06-27T20:32:18.359509",
     "status": "completed"
    },
    "tags": []
   },
   "source": [
    "## Step 3: Specify and Fit Model\n",
    "Create a `DecisionTreeRegressor` and save it iowa_model. Ensure you've done the relevant import from sklearn to run this command.\n",
    "\n",
    "Then fit the model you just created using the data in `X` and `y` that you saved above."
   ]
  },
  {
   "cell_type": "code",
   "execution_count": 8,
   "id": "94864e07",
   "metadata": {
    "execution": {
     "iopub.execute_input": "2022-06-27T20:32:18.383025Z",
     "iopub.status.busy": "2022-06-27T20:32:18.381883Z",
     "iopub.status.idle": "2022-06-27T20:32:18.404245Z",
     "shell.execute_reply": "2022-06-27T20:32:18.403003Z"
    },
    "papermill": {
     "duration": 0.033341,
     "end_time": "2022-06-27T20:32:18.406651",
     "exception": false,
     "start_time": "2022-06-27T20:32:18.373310",
     "status": "completed"
    },
    "tags": []
   },
   "outputs": [
    {
     "data": {
      "application/javascript": [
       "parent.postMessage({\"jupyterEvent\": \"custom.exercise_interaction\", \"data\": {\"outcomeType\": 1, \"valueTowardsCompletion\": 0.25, \"interactionType\": 1, \"questionType\": 2, \"questionId\": \"3_CreateModel\", \"learnToolsVersion\": \"0.3.4\", \"failureMessage\": \"\", \"exceptionClass\": \"\", \"trace\": \"\"}}, \"*\")"
      ],
      "text/plain": [
       "<IPython.core.display.Javascript object>"
      ]
     },
     "metadata": {},
     "output_type": "display_data"
    },
    {
     "data": {
      "text/markdown": [
       "<span style=\"color:#33cc33\">Correct</span>"
      ],
      "text/plain": [
       "Correct"
      ]
     },
     "metadata": {},
     "output_type": "display_data"
    }
   ],
   "source": [
    "# from _ import _\n",
    "from sklearn.tree import DecisionTreeRegressor\n",
    "\n",
    "\n",
    "#specify the model. \n",
    "#For model reproducibility, set a numeric value for random_state when specifying the model\n",
    "iowa_model = DecisionTreeRegressor(random_state=1)\n",
    "\n",
    "# Fit the model\n",
    "iowa_model.fit(X, y)\n",
    "\n",
    "# Check your answer\n",
    "step_3.check()"
   ]
  },
  {
   "cell_type": "code",
   "execution_count": 9,
   "id": "019a50ca",
   "metadata": {
    "collapsed": true,
    "execution": {
     "iopub.execute_input": "2022-06-27T20:32:18.423885Z",
     "iopub.status.busy": "2022-06-27T20:32:18.423081Z",
     "iopub.status.idle": "2022-06-27T20:32:18.427986Z",
     "shell.execute_reply": "2022-06-27T20:32:18.427071Z"
    },
    "jupyter": {
     "outputs_hidden": true
    },
    "papermill": {
     "duration": 0.016716,
     "end_time": "2022-06-27T20:32:18.430403",
     "exception": false,
     "start_time": "2022-06-27T20:32:18.413687",
     "status": "completed"
    },
    "tags": []
   },
   "outputs": [],
   "source": [
    "# step_3.hint()\n",
    "# step_3.solution()"
   ]
  },
  {
   "cell_type": "markdown",
   "id": "5dc290d4",
   "metadata": {
    "papermill": {
     "duration": 0.006882,
     "end_time": "2022-06-27T20:32:18.444475",
     "exception": false,
     "start_time": "2022-06-27T20:32:18.437593",
     "status": "completed"
    },
    "tags": []
   },
   "source": [
    "## Step 4: Make Predictions\n",
    "Make predictions with the model's `predict` command using `X` as the data. Save the results to a variable called `predictions`."
   ]
  },
  {
   "cell_type": "code",
   "execution_count": 10,
   "id": "3e0f18f6",
   "metadata": {
    "execution": {
     "iopub.execute_input": "2022-06-27T20:32:18.461586Z",
     "iopub.status.busy": "2022-06-27T20:32:18.460737Z",
     "iopub.status.idle": "2022-06-27T20:32:18.477715Z",
     "shell.execute_reply": "2022-06-27T20:32:18.475950Z"
    },
    "papermill": {
     "duration": 0.029198,
     "end_time": "2022-06-27T20:32:18.481361",
     "exception": false,
     "start_time": "2022-06-27T20:32:18.452163",
     "status": "completed"
    },
    "tags": []
   },
   "outputs": [
    {
     "name": "stdout",
     "output_type": "stream",
     "text": [
      "[208500. 181500. 223500. ... 266500. 142125. 147500.]\n"
     ]
    },
    {
     "data": {
      "application/javascript": [
       "parent.postMessage({\"jupyterEvent\": \"custom.exercise_interaction\", \"data\": {\"outcomeType\": 1, \"valueTowardsCompletion\": 0.25, \"interactionType\": 1, \"questionType\": 2, \"questionId\": \"4_MakePredictions\", \"learnToolsVersion\": \"0.3.4\", \"failureMessage\": \"\", \"exceptionClass\": \"\", \"trace\": \"\"}}, \"*\")"
      ],
      "text/plain": [
       "<IPython.core.display.Javascript object>"
      ]
     },
     "metadata": {},
     "output_type": "display_data"
    },
    {
     "data": {
      "text/markdown": [
       "<span style=\"color:#33cc33\">Correct</span>"
      ],
      "text/plain": [
       "Correct"
      ]
     },
     "metadata": {},
     "output_type": "display_data"
    }
   ],
   "source": [
    "predictions = iowa_model.predict(X)\n",
    "print(predictions)\n",
    "\n",
    "# Check your answer\n",
    "step_4.check()"
   ]
  },
  {
   "cell_type": "code",
   "execution_count": 11,
   "id": "0cc49e8c",
   "metadata": {
    "collapsed": true,
    "execution": {
     "iopub.execute_input": "2022-06-27T20:32:18.500314Z",
     "iopub.status.busy": "2022-06-27T20:32:18.499461Z",
     "iopub.status.idle": "2022-06-27T20:32:18.504433Z",
     "shell.execute_reply": "2022-06-27T20:32:18.503451Z"
    },
    "jupyter": {
     "outputs_hidden": true
    },
    "papermill": {
     "duration": 0.017453,
     "end_time": "2022-06-27T20:32:18.507214",
     "exception": false,
     "start_time": "2022-06-27T20:32:18.489761",
     "status": "completed"
    },
    "tags": []
   },
   "outputs": [],
   "source": [
    "# step_4.hint()\n",
    "# step_4.solution()"
   ]
  },
  {
   "cell_type": "markdown",
   "id": "d9fdc84e",
   "metadata": {
    "papermill": {
     "duration": 0.008017,
     "end_time": "2022-06-27T20:32:18.523071",
     "exception": false,
     "start_time": "2022-06-27T20:32:18.515054",
     "status": "completed"
    },
    "tags": []
   },
   "source": [
    "## Think About Your Results\n",
    "\n",
    "Use the `head` method to compare the top few predictions to the actual home values (in `y`) for those same homes. Anything surprising?\n"
   ]
  },
  {
   "cell_type": "code",
   "execution_count": 12,
   "id": "3dee9e2d",
   "metadata": {
    "execution": {
     "iopub.execute_input": "2022-06-27T20:32:18.542059Z",
     "iopub.status.busy": "2022-06-27T20:32:18.541555Z",
     "iopub.status.idle": "2022-06-27T20:32:18.549089Z",
     "shell.execute_reply": "2022-06-27T20:32:18.547531Z"
    },
    "papermill": {
     "duration": 0.020936,
     "end_time": "2022-06-27T20:32:18.552568",
     "exception": false,
     "start_time": "2022-06-27T20:32:18.531632",
     "status": "completed"
    },
    "tags": []
   },
   "outputs": [
    {
     "name": "stdout",
     "output_type": "stream",
     "text": [
      "[208500. 181500. 223500. 140000. 250000. 143000. 307000. 200000. 129900.\n",
      " 118000.]\n",
      "0    208500\n",
      "1    181500\n",
      "2    223500\n",
      "3    140000\n",
      "4    250000\n",
      "5    143000\n",
      "6    307000\n",
      "7    200000\n",
      "8    129900\n",
      "9    118000\n",
      "Name: SalePrice, dtype: int64\n"
     ]
    }
   ],
   "source": [
    "# You can write code in this cell\n",
    "print(predictions[0:10])\n",
    "print(y[0:10])"
   ]
  },
  {
   "cell_type": "markdown",
   "id": "cc47be24",
   "metadata": {
    "papermill": {
     "duration": 0.007708,
     "end_time": "2022-06-27T20:32:18.568665",
     "exception": false,
     "start_time": "2022-06-27T20:32:18.560957",
     "status": "completed"
    },
    "tags": []
   },
   "source": [
    "It's natural to ask how accurate the model's predictions will be and how you can improve that. That will be you're next step.\n",
    "\n",
    "# Keep Going\n",
    "\n",
    "You are ready for **[Model Validation](https://www.kaggle.com/dansbecker/model-validation).**\n"
   ]
  },
  {
   "cell_type": "markdown",
   "id": "499c8e06",
   "metadata": {
    "papermill": {
     "duration": 0.007341,
     "end_time": "2022-06-27T20:32:18.584325",
     "exception": false,
     "start_time": "2022-06-27T20:32:18.576984",
     "status": "completed"
    },
    "tags": []
   },
   "source": [
    "---\n",
    "\n",
    "\n",
    "\n",
    "\n",
    "*Have questions or comments? Visit the [course discussion forum](https://www.kaggle.com/learn/intro-to-machine-learning/discussion) to chat with other learners.*"
   ]
  }
 ],
 "metadata": {
  "kernelspec": {
   "display_name": "Python 3",
   "language": "python",
   "name": "python3"
  },
  "language_info": {
   "codemirror_mode": {
    "name": "ipython",
    "version": 3
   },
   "file_extension": ".py",
   "mimetype": "text/x-python",
   "name": "python",
   "nbconvert_exporter": "python",
   "pygments_lexer": "ipython3",
   "version": "3.7.12"
  },
  "papermill": {
   "default_parameters": {},
   "duration": 13.60466,
   "end_time": "2022-06-27T20:32:19.315616",
   "environment_variables": {},
   "exception": null,
   "input_path": "__notebook__.ipynb",
   "output_path": "__notebook__.ipynb",
   "parameters": {},
   "start_time": "2022-06-27T20:32:05.710956",
   "version": "2.3.4"
  }
 },
 "nbformat": 4,
 "nbformat_minor": 5
}
